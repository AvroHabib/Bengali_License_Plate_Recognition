{
 "cells": [
  {
   "cell_type": "code",
   "execution_count": null,
   "metadata": {},
   "outputs": [],
   "source": []
  },
  {
   "cell_type": "code",
   "execution_count": 1,
   "metadata": {},
   "outputs": [],
   "source": [
    "import cv2\n",
    "from ultralytics import YOLO\n",
    "\n",
    "# Load trained model\n",
    "model = YOLO(\"model-m/weights/best.pt\")  # Path to trained weights\n",
    "\n",
    "\n"
   ]
  },
  {
   "cell_type": "code",
   "execution_count": 2,
   "metadata": {},
   "outputs": [],
   "source": [
    "char_map = {\n",
    "    0: '0', 1: '1', 2: '2', 3: '3', 4: '4', 5: '5', 6: '6', 7: '7', 8: '8', 9: '9', \n",
    "    10: 'Metro', 11: 'A', 12: 'Bha', 13: 'Cha', 14: 'Chha', 15: 'Da', 16: 'DA', 17: 'E', \n",
    "    18: 'Ga', 19: 'Gha', 20: 'Ha', 21: 'Ja', 22: 'Jha', 23: 'Ka', 24: 'Kha', 25: 'La', \n",
    "    26: 'Ma', 27: 'Na', 28: 'Pa', 29: 'Sa', 30: 'Sha', 31: 'Ta', 32: 'THA', 33: 'Tha', \n",
    "    34: 'U', 35: 'Bagerhat', 36: 'Bagura', 37: 'Bandarban', 38: 'Barguna', 39: 'Barisal', \n",
    "    40: 'Bhola', 41: 'Brahmanbaria', 42: 'Chandpur', 43: 'Chapainawabganj', 44: 'Chatto', \n",
    "    45: 'Chattogram', 46: 'Chuadanga', 47: 'Coxs Bazar', 48: 'Cumilla', 49: 'Dhaka', \n",
    "    50: 'Dinajpur', 51: 'Faridpur', 52: 'Feni', 53: 'Gaibandha', 54: 'Gazipur', \n",
    "    55: 'Gopalganj', 56: 'Habiganj', 57: 'Jamalpur', 58: 'Jessore', 59: 'Jhalokati', \n",
    "    60: 'Jhenaidah', 61: 'Joypurhat', 62: 'Khagrachari', 63: 'Khulna', 64: 'Kishoreganj', \n",
    "    65: 'Kurigram', 66: 'Kustia', 67: 'Lakshmipur', 68: 'Lalmonirhat', 69: 'Madaripur', \n",
    "    70: 'Magura', 71: 'Manikganj', 72: 'Meherpur', 73: 'Moulvibazar', 74: 'Mymensingh', \n",
    "    75: 'Naogaon', 76: 'Narail', 77: 'Narayanganj', 78: 'Narsingdi', 79: 'Natore', \n",
    "    80: 'Netrokona', 81: 'Nilphamari', 82: 'Noakhali', 83: 'Pabna', 84: 'panchagarh', \n",
    "    85: 'Patuakhali', 86: 'Pirojpur', 87: 'Raj', 88: 'Rajbari', 89: 'Rajshahi', \n",
    "    90: 'Rangamati', 91: 'Rangpur', 92: 'Satkhira', 93: 'Shariatpur', 94: 'Sherpur', \n",
    "    95: 'Sirajganj', 96: 'Sunamganj', 97: 'Sylhet', 98: 'Tangail', 99: 'Thakurgaon', \n",
    "    100: 'Dha', 101: 'Ba'\n",
    "}"
   ]
  },
  {
   "cell_type": "code",
   "execution_count": 5,
   "metadata": {},
   "outputs": [
    {
     "name": "stdout",
     "output_type": "stream",
     "text": [
      "\n",
      "0: 608x640 1 1, 1 3, 1 4, 1 6, 2 8s, 1 Metro, 1 Ga, 1 Chatto, 129.8ms\n",
      "Speed: 1.8ms preprocess, 129.8ms inference, 0.4ms postprocess per image at shape (1, 3, 608, 640)\n",
      "Detected License Plate: ChattoMetroGa 138684\n"
     ]
    }
   ],
   "source": [
    "# Load image\n",
    "image_path = \"extracted_plate.jpg\"\n",
    "image = cv2.imread(image_path)\n",
    "\n",
    "# Detect license plate\n",
    "results = model(image)\n",
    "\n",
    "\n",
    "\n",
    "\n",
    "\n",
    "\n",
    "detected_chars = []\n",
    "for r in results:\n",
    "    for box in r.boxes:\n",
    "        x1, y1, x2, y2 = box.xyxy[0]  # Bounding box coordinates\n",
    "        class_id = int(box.cls)  # Character class ID\n",
    "        center_x = (x1 + x2) / 2  # X center for sorting\n",
    "\n",
    "        detected_chars.append((center_x, class_id))  # Store X position and class ID\n",
    "\n",
    "\n",
    "\n",
    "\n",
    "label1 = []  # Letters\n",
    "label2 = []  # Numbers\n",
    "\n",
    "for center_x, class_id in detected_chars:\n",
    "    if class_id in range(0, 10):  # Numeric characters (0-9)\n",
    "        label2.append((center_x, class_id))\n",
    "    else:  # Non-numeric characters\n",
    "        label1.append((center_x, class_id))\n",
    "\n",
    "\n",
    "\n",
    "# Sort letters (label1) by X position\n",
    "label1.sort(key=lambda x: x[0])\n",
    "\n",
    "# Sort numbers (label2) by X position\n",
    "label2.sort(key=lambda x: x[0])\n",
    "\n",
    "\n",
    "\n",
    "\n",
    "# Convert class IDs to text\n",
    "sorted_text = \"\".join([char_map[c[1]] for c in label1]) + \" \" + \"\".join([char_map[c[1]] for c in label2])\n",
    "\n",
    "print(\"Detected License Plate:\", sorted_text)\n",
    "\n",
    "\n",
    "\n",
    "\n",
    "\n",
    "\n"
   ]
  }
 ],
 "metadata": {
  "kernelspec": {
   "display_name": "venv",
   "language": "python",
   "name": "python3"
  },
  "language_info": {
   "codemirror_mode": {
    "name": "ipython",
    "version": 3
   },
   "file_extension": ".py",
   "mimetype": "text/x-python",
   "name": "python",
   "nbconvert_exporter": "python",
   "pygments_lexer": "ipython3",
   "version": "3.12.5"
  }
 },
 "nbformat": 4,
 "nbformat_minor": 2
}

{
 "cells": [
  {
   "cell_type": "code",
   "execution_count": 1,
   "metadata": {},
   "outputs": [
    {
     "name": "stdout",
     "output_type": "stream",
     "text": [
      "Creating new Ultralytics Settings v0.0.6 file ✅ \n",
      "View Ultralytics Settings with 'yolo settings' or at '/home/avrohabib/.config/Ultralytics/settings.json'\n",
      "Update Settings with 'yolo settings key=value', i.e. 'yolo settings runs_dir=path/to/dir'. For help see https://docs.ultralytics.com/quickstart/#ultralytics-settings.\n",
      "Downloading https://github.com/ultralytics/assets/releases/download/v8.3.0/yolov8n.pt to 'yolov8n.pt'...\n"
     ]
    },
    {
     "name": "stderr",
     "output_type": "stream",
     "text": [
      "100%|██████████| 6.25M/6.25M [00:02<00:00, 2.86MB/s]\n"
     ]
    },
    {
     "name": "stdout",
     "output_type": "stream",
     "text": [
      "Ultralytics 8.3.70 🚀 Python-3.12.5 torch-2.6.0+cu124 CPU (12th Gen Intel Core(TM) i7-12700)\n",
      "\u001b[34m\u001b[1mengine/trainer: \u001b[0mtask=detect, mode=train, model=yolov8n.pt, data=Bengali_License_Plate_Dataset/data.yaml, epochs=50, time=None, patience=100, batch=16, imgsz=640, save=True, save_period=-1, cache=False, device=None, workers=8, project=None, name=train, exist_ok=False, pretrained=True, optimizer=auto, verbose=True, seed=0, deterministic=True, single_cls=False, rect=False, cos_lr=False, close_mosaic=10, resume=False, amp=True, fraction=1.0, profile=False, freeze=None, multi_scale=False, overlap_mask=True, mask_ratio=4, dropout=0.0, val=True, split=val, save_json=False, save_hybrid=False, conf=None, iou=0.7, max_det=300, half=False, dnn=False, plots=True, source=None, vid_stride=1, stream_buffer=False, visualize=False, augment=False, agnostic_nms=False, classes=None, retina_masks=False, embed=None, show=False, save_frames=False, save_txt=False, save_conf=False, save_crop=False, show_labels=True, show_conf=True, show_boxes=True, line_width=None, format=torchscript, keras=False, optimize=False, int8=False, dynamic=False, simplify=True, opset=None, workspace=None, nms=False, lr0=0.01, lrf=0.01, momentum=0.937, weight_decay=0.0005, warmup_epochs=3.0, warmup_momentum=0.8, warmup_bias_lr=0.1, box=7.5, cls=0.5, dfl=1.5, pose=12.0, kobj=1.0, nbs=64, hsv_h=0.015, hsv_s=0.7, hsv_v=0.4, degrees=0.0, translate=0.1, scale=0.5, shear=0.0, perspective=0.0, flipud=0.0, fliplr=0.5, bgr=0.0, mosaic=1.0, mixup=0.0, copy_paste=0.0, copy_paste_mode=flip, auto_augment=randaugment, erasing=0.4, crop_fraction=1.0, cfg=None, tracker=botsort.yaml, save_dir=runs/detect/train\n",
      "Downloading https://ultralytics.com/assets/Arial.ttf to '/home/avrohabib/.config/Ultralytics/Arial.ttf'...\n"
     ]
    },
    {
     "name": "stderr",
     "output_type": "stream",
     "text": [
      "100%|██████████| 755k/755k [00:00<00:00, 2.86MB/s]"
     ]
    },
    {
     "name": "stdout",
     "output_type": "stream",
     "text": [
      "Overriding model.yaml nc=80 with nc=1\n",
      "\n",
      "                   from  n    params  module                                       arguments                     \n",
      "  0                  -1  1       464  ultralytics.nn.modules.conv.Conv             [3, 16, 3, 2]                 \n",
      "  1                  -1  1      4672  ultralytics.nn.modules.conv.Conv             [16, 32, 3, 2]                \n",
      "  2                  -1  1      7360  ultralytics.nn.modules.block.C2f             [32, 32, 1, True]             \n",
      "  3                  -1  1     18560  ultralytics.nn.modules.conv.Conv             [32, 64, 3, 2]                \n",
      "  4                  -1  2     49664  ultralytics.nn.modules.block.C2f             [64, 64, 2, True]             \n",
      "  5                  -1  1     73984  ultralytics.nn.modules.conv.Conv             [64, 128, 3, 2]               \n",
      "  6                  -1  2    197632  ultralytics.nn.modules.block.C2f             [128, 128, 2, True]           \n",
      "  7                  -1  1    295424  ultralytics.nn.modules.conv.Conv             [128, 256, 3, 2]              \n",
      "  8                  -1  1    460288  ultralytics.nn.modules.block.C2f             [256, 256, 1, True]           \n",
      "  9                  -1  1    164608  ultralytics.nn.modules.block.SPPF            [256, 256, 5]                 \n",
      " 10                  -1  1         0  torch.nn.modules.upsampling.Upsample         [None, 2, 'nearest']          \n",
      " 11             [-1, 6]  1         0  ultralytics.nn.modules.conv.Concat           [1]                           \n",
      " 12                  -1  1    148224  ultralytics.nn.modules.block.C2f             [384, 128, 1]                 \n",
      " 13                  -1  1         0  torch.nn.modules.upsampling.Upsample         [None, 2, 'nearest']          \n",
      " 14             [-1, 4]  1         0  ultralytics.nn.modules.conv.Concat           [1]                           \n",
      " 15                  -1  1     37248  ultralytics.nn.modules.block.C2f             [192, 64, 1]                  \n",
      " 16                  -1  1     36992  ultralytics.nn.modules.conv.Conv             [64, 64, 3, 2]                \n",
      " 17            [-1, 12]  1         0  ultralytics.nn.modules.conv.Concat           [1]                           \n",
      " 18                  -1  1    123648  ultralytics.nn.modules.block.C2f             [192, 128, 1]                 \n",
      " 19                  -1  1    147712  ultralytics.nn.modules.conv.Conv             [128, 128, 3, 2]              \n",
      " 20             [-1, 9]  1         0  ultralytics.nn.modules.conv.Concat           [1]                           \n",
      " 21                  -1  1    493056  ultralytics.nn.modules.block.C2f             [384, 256, 1]                 \n",
      " 22        [15, 18, 21]  1    751507  ultralytics.nn.modules.head.Detect           [1, [64, 128, 256]]           \n"
     ]
    },
    {
     "name": "stderr",
     "output_type": "stream",
     "text": [
      "\n"
     ]
    },
    {
     "name": "stdout",
     "output_type": "stream",
     "text": [
      "Model summary: 225 layers, 3,011,043 parameters, 3,011,027 gradients, 8.2 GFLOPs\n",
      "\n",
      "Transferred 319/355 items from pretrained weights\n",
      "Freezing layer 'model.22.dfl.conv.weight'\n"
     ]
    },
    {
     "name": "stderr",
     "output_type": "stream",
     "text": [
      "\u001b[34m\u001b[1mtrain: \u001b[0mScanning /home/avrohabib/license-plate/Bengali_License_Plate_Dataset/labels/train... 1539 images, 0 backgrounds, 0 corrupt: 100%|██████████| 1539/1539 [00:00<00:00, 5133.23it/s]"
     ]
    },
    {
     "name": "stdout",
     "output_type": "stream",
     "text": [
      "\u001b[34m\u001b[1mtrain: \u001b[0mWARNING ⚠️ /home/avrohabib/license-plate/Bengali_License_Plate_Dataset/images/train/Vehicle1644.jpg: corrupt JPEG restored and saved\n"
     ]
    },
    {
     "name": "stderr",
     "output_type": "stream",
     "text": [
      "\n"
     ]
    },
    {
     "name": "stdout",
     "output_type": "stream",
     "text": [
      "\u001b[34m\u001b[1mtrain: \u001b[0mNew cache created: /home/avrohabib/license-plate/Bengali_License_Plate_Dataset/labels/train.cache\n"
     ]
    },
    {
     "name": "stderr",
     "output_type": "stream",
     "text": [
      "\u001b[34m\u001b[1mval: \u001b[0mScanning /home/avrohabib/license-plate/Bengali_License_Plate_Dataset/labels/val... 385 images, 0 backgrounds, 0 corrupt: 100%|██████████| 385/385 [00:00<00:00, 4744.66it/s]"
     ]
    },
    {
     "name": "stdout",
     "output_type": "stream",
     "text": [
      "\u001b[34m\u001b[1mval: \u001b[0mNew cache created: /home/avrohabib/license-plate/Bengali_License_Plate_Dataset/labels/val.cache\n"
     ]
    },
    {
     "name": "stderr",
     "output_type": "stream",
     "text": [
      "\n"
     ]
    },
    {
     "name": "stdout",
     "output_type": "stream",
     "text": [
      "Plotting labels to runs/detect/train/labels.jpg... \n",
      "\u001b[34m\u001b[1moptimizer:\u001b[0m 'optimizer=auto' found, ignoring 'lr0=0.01' and 'momentum=0.937' and determining best 'optimizer', 'lr0' and 'momentum' automatically... \n",
      "\u001b[34m\u001b[1moptimizer:\u001b[0m AdamW(lr=0.002, momentum=0.9) with parameter groups 57 weight(decay=0.0), 64 weight(decay=0.0005), 63 bias(decay=0.0)\n",
      "Image sizes 640 train, 640 val\n",
      "Using 0 dataloader workers\n",
      "Logging results to \u001b[1mruns/detect/train\u001b[0m\n",
      "Starting training for 50 epochs...\n",
      "\n",
      "      Epoch    GPU_mem   box_loss   cls_loss   dfl_loss  Instances       Size\n"
     ]
    },
    {
     "name": "stderr",
     "output_type": "stream",
     "text": [
      "       1/50         0G      1.448      2.906      1.458         34        640:  33%|███▎      | 32/97 [01:05<02:06,  1.95s/it]libpng warning: iCCP: profile 'ICC Profile': 0h: PCS illuminant is not D50\n",
      "       1/50         0G       1.45      2.188      1.366         28        640:  73%|███████▎  | 71/97 [02:20<00:50,  1.96s/it]libpng warning: iCCP: profile 'ICC Profile': 0h: PCS illuminant is not D50\n",
      "       1/50         0G       1.44      1.993      1.356          7        640: 100%|██████████| 97/97 [03:12<00:00,  1.99s/it]\n",
      "                 Class     Images  Instances      Box(P          R      mAP50  mAP50-95): 100%|██████████| 13/13 [00:16<00:00,  1.27s/it]"
     ]
    },
    {
     "name": "stdout",
     "output_type": "stream",
     "text": [
      "                   all        385        402      0.348      0.537      0.313      0.167\n"
     ]
    },
    {
     "name": "stderr",
     "output_type": "stream",
     "text": [
      "\n"
     ]
    },
    {
     "name": "stdout",
     "output_type": "stream",
     "text": [
      "\n",
      "      Epoch    GPU_mem   box_loss   cls_loss   dfl_loss  Instances       Size\n"
     ]
    },
    {
     "name": "stderr",
     "output_type": "stream",
     "text": [
      "       2/50         0G      1.451      1.416      1.329         26        640:  37%|███▋      | 36/97 [01:11<02:03,  2.02s/it]libpng warning: iCCP: profile 'ICC Profile': 0h: PCS illuminant is not D50\n",
      "       2/50         0G      1.447      1.397      1.322         29        640:  53%|█████▎    | 51/97 [01:43<01:33,  2.03s/it]libpng warning: iCCP: profile 'ICC Profile': 0h: PCS illuminant is not D50\n",
      "       2/50         0G      1.459      1.341      1.342          8        640: 100%|██████████| 97/97 [03:19<00:00,  2.06s/it]\n",
      "                 Class     Images  Instances      Box(P          R      mAP50  mAP50-95): 100%|██████████| 13/13 [00:17<00:00,  1.35s/it]"
     ]
    },
    {
     "name": "stdout",
     "output_type": "stream",
     "text": [
      "                   all        385        402      0.929      0.914      0.951      0.523\n"
     ]
    },
    {
     "name": "stderr",
     "output_type": "stream",
     "text": [
      "\n"
     ]
    },
    {
     "name": "stdout",
     "output_type": "stream",
     "text": [
      "\n",
      "      Epoch    GPU_mem   box_loss   cls_loss   dfl_loss  Instances       Size\n"
     ]
    },
    {
     "name": "stderr",
     "output_type": "stream",
     "text": [
      "       3/50         0G      1.456      1.163      1.357         37        640:  48%|████▊     | 47/97 [01:37<01:47,  2.16s/it]libpng warning: iCCP: profile 'ICC Profile': 0h: PCS illuminant is not D50\n",
      "       3/50         0G       1.47      1.128      1.363         39        640:  91%|█████████ | 88/97 [03:01<00:19,  2.17s/it]libpng warning: iCCP: profile 'ICC Profile': 0h: PCS illuminant is not D50\n",
      "       3/50         0G      1.478      1.124      1.369          6        640: 100%|██████████| 97/97 [03:20<00:00,  2.07s/it]\n",
      "                 Class     Images  Instances      Box(P          R      mAP50  mAP50-95): 100%|██████████| 13/13 [00:16<00:00,  1.29s/it]"
     ]
    },
    {
     "name": "stdout",
     "output_type": "stream",
     "text": [
      "                   all        385        402      0.863      0.863      0.889       0.47\n"
     ]
    },
    {
     "name": "stderr",
     "output_type": "stream",
     "text": [
      "\n"
     ]
    },
    {
     "name": "stdout",
     "output_type": "stream",
     "text": [
      "\n",
      "      Epoch    GPU_mem   box_loss   cls_loss   dfl_loss  Instances       Size\n"
     ]
    },
    {
     "name": "stderr",
     "output_type": "stream",
     "text": [
      "       4/50         0G       1.53      1.074      1.417         26        640:  38%|███▊      | 37/97 [01:16<02:10,  2.18s/it]libpng warning: iCCP: profile 'ICC Profile': 0h: PCS illuminant is not D50\n",
      "       4/50         0G      1.523      1.058      1.408         31        640:  42%|████▏     | 41/97 [01:24<01:53,  2.02s/it]libpng warning: iCCP: profile 'ICC Profile': 0h: PCS illuminant is not D50\n",
      "       4/50         0G      1.497      1.013      1.389          5        640: 100%|██████████| 97/97 [03:14<00:00,  2.00s/it]\n",
      "                 Class     Images  Instances      Box(P          R      mAP50  mAP50-95): 100%|██████████| 13/13 [00:15<00:00,  1.21s/it]"
     ]
    },
    {
     "name": "stdout",
     "output_type": "stream",
     "text": [
      "                   all        385        402      0.935      0.848      0.928      0.546\n"
     ]
    },
    {
     "name": "stderr",
     "output_type": "stream",
     "text": [
      "\n"
     ]
    },
    {
     "name": "stdout",
     "output_type": "stream",
     "text": [
      "\n",
      "      Epoch    GPU_mem   box_loss   cls_loss   dfl_loss  Instances       Size\n"
     ]
    },
    {
     "name": "stderr",
     "output_type": "stream",
     "text": [
      "       5/50         0G      1.433     0.9549      1.328         26        640:  15%|█▌        | 15/97 [00:30<02:43,  1.99s/it]libpng warning: iCCP: profile 'ICC Profile': 0h: PCS illuminant is not D50\n",
      "       5/50         0G      1.456     0.9378      1.345         29        640:  47%|████▋     | 46/97 [01:31<01:40,  1.96s/it]libpng warning: iCCP: profile 'ICC Profile': 0h: PCS illuminant is not D50\n",
      "       5/50         0G      1.462      0.964      1.372          5        640: 100%|██████████| 97/97 [03:14<00:00,  2.00s/it]\n",
      "                 Class     Images  Instances      Box(P          R      mAP50  mAP50-95): 100%|██████████| 13/13 [00:15<00:00,  1.16s/it]"
     ]
    },
    {
     "name": "stdout",
     "output_type": "stream",
     "text": [
      "                   all        385        402      0.904      0.908      0.936      0.486\n"
     ]
    },
    {
     "name": "stderr",
     "output_type": "stream",
     "text": [
      "\n"
     ]
    },
    {
     "name": "stdout",
     "output_type": "stream",
     "text": [
      "\n",
      "      Epoch    GPU_mem   box_loss   cls_loss   dfl_loss  Instances       Size\n"
     ]
    },
    {
     "name": "stderr",
     "output_type": "stream",
     "text": [
      "       6/50         0G      1.463     0.8775      1.382         34        640:  23%|██▎       | 22/97 [00:41<02:22,  1.90s/it]libpng warning: iCCP: profile 'ICC Profile': 0h: PCS illuminant is not D50\n",
      "       6/50         0G      1.447     0.8888      1.387         30        640:  32%|███▏      | 31/97 [00:58<02:05,  1.90s/it]libpng warning: iCCP: profile 'ICC Profile': 0h: PCS illuminant is not D50\n",
      "       6/50         0G      1.439     0.8793      1.362          6        640: 100%|██████████| 97/97 [03:02<00:00,  1.88s/it]\n",
      "                 Class     Images  Instances      Box(P          R      mAP50  mAP50-95): 100%|██████████| 13/13 [00:15<00:00,  1.16s/it]"
     ]
    },
    {
     "name": "stdout",
     "output_type": "stream",
     "text": [
      "                   all        385        402      0.956      0.953      0.976      0.564\n"
     ]
    },
    {
     "name": "stderr",
     "output_type": "stream",
     "text": [
      "\n"
     ]
    },
    {
     "name": "stdout",
     "output_type": "stream",
     "text": [
      "\n",
      "      Epoch    GPU_mem   box_loss   cls_loss   dfl_loss  Instances       Size\n"
     ]
    },
    {
     "name": "stderr",
     "output_type": "stream",
     "text": [
      "       7/50         0G      1.426     0.8324      1.334         26        640:  81%|████████▏ | 79/97 [02:34<00:37,  2.09s/it]libpng warning: iCCP: profile 'ICC Profile': 0h: PCS illuminant is not D50\n",
      "       7/50         0G      1.422     0.8335      1.336         30        640:  91%|█████████ | 88/97 [02:52<00:18,  2.05s/it]libpng warning: iCCP: profile 'ICC Profile': 0h: PCS illuminant is not D50\n",
      "       7/50         0G       1.43     0.8385      1.342          4        640: 100%|██████████| 97/97 [03:09<00:00,  1.96s/it]\n",
      "                 Class     Images  Instances      Box(P          R      mAP50  mAP50-95): 100%|██████████| 13/13 [00:16<00:00,  1.26s/it]"
     ]
    },
    {
     "name": "stdout",
     "output_type": "stream",
     "text": [
      "                   all        385        402      0.944      0.927      0.957      0.565\n"
     ]
    },
    {
     "name": "stderr",
     "output_type": "stream",
     "text": [
      "\n"
     ]
    },
    {
     "name": "stdout",
     "output_type": "stream",
     "text": [
      "\n",
      "      Epoch    GPU_mem   box_loss   cls_loss   dfl_loss  Instances       Size\n"
     ]
    },
    {
     "name": "stderr",
     "output_type": "stream",
     "text": [
      "       8/50         0G      1.429     0.8253      1.338         27        640:  92%|█████████▏| 89/97 [02:57<00:16,  2.04s/it]libpng warning: iCCP: profile 'ICC Profile': 0h: PCS illuminant is not D50\n",
      "       8/50         0G      1.425     0.8229      1.336         28        640:  95%|█████████▍| 92/97 [03:04<00:10,  2.13s/it]libpng warning: iCCP: profile 'ICC Profile': 0h: PCS illuminant is not D50\n",
      "       8/50         0G      1.422      0.819      1.336          4        640: 100%|██████████| 97/97 [03:13<00:00,  2.00s/it]\n",
      "                 Class     Images  Instances      Box(P          R      mAP50  mAP50-95): 100%|██████████| 13/13 [00:17<00:00,  1.37s/it]"
     ]
    },
    {
     "name": "stdout",
     "output_type": "stream",
     "text": [
      "                   all        385        402      0.946       0.96      0.977      0.564\n"
     ]
    },
    {
     "name": "stderr",
     "output_type": "stream",
     "text": [
      "\n"
     ]
    },
    {
     "name": "stdout",
     "output_type": "stream",
     "text": [
      "\n",
      "      Epoch    GPU_mem   box_loss   cls_loss   dfl_loss  Instances       Size\n"
     ]
    },
    {
     "name": "stderr",
     "output_type": "stream",
     "text": [
      "       9/50         0G      1.367     0.7723      1.299         27        640:  51%|█████     | 49/97 [01:43<01:37,  2.04s/it]libpng warning: iCCP: profile 'ICC Profile': 0h: PCS illuminant is not D50\n",
      "       9/50         0G      1.366     0.7726      1.298         46        640:  52%|█████▏    | 50/97 [01:45<01:34,  2.02s/it]libpng warning: iCCP: profile 'ICC Profile': 0h: PCS illuminant is not D50\n",
      "       9/50         0G      1.385     0.7793      1.313          5        640: 100%|██████████| 97/97 [03:18<00:00,  2.05s/it]\n",
      "                 Class     Images  Instances      Box(P          R      mAP50  mAP50-95): 100%|██████████| 13/13 [00:16<00:00,  1.27s/it]"
     ]
    },
    {
     "name": "stdout",
     "output_type": "stream",
     "text": [
      "                   all        385        402       0.96       0.95      0.976      0.565\n"
     ]
    },
    {
     "name": "stderr",
     "output_type": "stream",
     "text": [
      "\n"
     ]
    },
    {
     "name": "stdout",
     "output_type": "stream",
     "text": [
      "\n",
      "      Epoch    GPU_mem   box_loss   cls_loss   dfl_loss  Instances       Size\n"
     ]
    },
    {
     "name": "stderr",
     "output_type": "stream",
     "text": [
      "      10/50         0G      1.425     0.7723      1.331         29        640:  45%|████▌     | 44/97 [01:28<01:43,  1.95s/it]libpng warning: iCCP: profile 'ICC Profile': 0h: PCS illuminant is not D50\n",
      "      10/50         0G      1.421     0.7793      1.335         35        640:  67%|██████▋   | 65/97 [02:09<01:03,  1.97s/it]libpng warning: iCCP: profile 'ICC Profile': 0h: PCS illuminant is not D50\n",
      "      10/50         0G      1.411     0.7716      1.337          6        640: 100%|██████████| 97/97 [03:10<00:00,  1.96s/it]\n",
      "                 Class     Images  Instances      Box(P          R      mAP50  mAP50-95): 100%|██████████| 13/13 [00:15<00:00,  1.23s/it]"
     ]
    },
    {
     "name": "stdout",
     "output_type": "stream",
     "text": [
      "                   all        385        402      0.936       0.93      0.971       0.57\n"
     ]
    },
    {
     "name": "stderr",
     "output_type": "stream",
     "text": [
      "\n"
     ]
    },
    {
     "name": "stdout",
     "output_type": "stream",
     "text": [
      "\n",
      "      Epoch    GPU_mem   box_loss   cls_loss   dfl_loss  Instances       Size\n"
     ]
    },
    {
     "name": "stderr",
     "output_type": "stream",
     "text": [
      "      11/50         0G      1.376     0.7139      1.316         33        640:  13%|█▎        | 13/97 [00:26<02:49,  2.02s/it]libpng warning: iCCP: profile 'ICC Profile': 0h: PCS illuminant is not D50\n",
      "      11/50         0G      1.394     0.7328      1.314         35        640:  77%|███████▋  | 75/97 [02:29<00:40,  1.85s/it]libpng warning: iCCP: profile 'ICC Profile': 0h: PCS illuminant is not D50\n",
      "      11/50         0G      1.383     0.7292      1.308          5        640: 100%|██████████| 97/97 [03:09<00:00,  1.95s/it]\n",
      "                 Class     Images  Instances      Box(P          R      mAP50  mAP50-95): 100%|██████████| 13/13 [00:14<00:00,  1.14s/it]"
     ]
    },
    {
     "name": "stdout",
     "output_type": "stream",
     "text": [
      "                   all        385        402      0.957      0.951      0.977      0.588\n",
      "\n",
      "      Epoch    GPU_mem   box_loss   cls_loss   dfl_loss  Instances       Size\n"
     ]
    },
    {
     "name": "stderr",
     "output_type": "stream",
     "text": [
      "\n",
      "      12/50         0G      1.434     0.7462       1.35         32        640:  21%|██        | 20/97 [00:36<02:19,  1.81s/it]libpng warning: iCCP: profile 'ICC Profile': 0h: PCS illuminant is not D50\n",
      "      12/50         0G      1.436     0.7626      1.355         35        640:  24%|██▎       | 23/97 [00:41<02:16,  1.85s/it]libpng warning: iCCP: profile 'ICC Profile': 0h: PCS illuminant is not D50\n",
      "      12/50         0G      1.402     0.7371      1.318          4        640: 100%|██████████| 97/97 [02:57<00:00,  1.83s/it]\n",
      "                 Class     Images  Instances      Box(P          R      mAP50  mAP50-95): 100%|██████████| 13/13 [00:14<00:00,  1.12s/it]"
     ]
    },
    {
     "name": "stdout",
     "output_type": "stream",
     "text": [
      "                   all        385        402      0.957      0.958      0.977      0.587\n",
      "\n",
      "      Epoch    GPU_mem   box_loss   cls_loss   dfl_loss  Instances       Size\n"
     ]
    },
    {
     "name": "stderr",
     "output_type": "stream",
     "text": [
      "\n",
      "      13/50         0G      1.339     0.7016      1.288         28        640:  52%|█████▏    | 50/97 [01:30<01:24,  1.80s/it]libpng warning: iCCP: profile 'ICC Profile': 0h: PCS illuminant is not D50\n",
      "      13/50         0G      1.336     0.7015      1.286         33        640:  53%|█████▎    | 51/97 [01:32<01:22,  1.80s/it]libpng warning: iCCP: profile 'ICC Profile': 0h: PCS illuminant is not D50\n",
      "      13/50         0G      1.367     0.7094      1.299          4        640: 100%|██████████| 97/97 [02:55<00:00,  1.81s/it]\n",
      "                 Class     Images  Instances      Box(P          R      mAP50  mAP50-95): 100%|██████████| 13/13 [00:14<00:00,  1.14s/it]"
     ]
    },
    {
     "name": "stdout",
     "output_type": "stream",
     "text": [
      "                   all        385        402      0.976      0.955      0.986      0.587\n"
     ]
    },
    {
     "name": "stderr",
     "output_type": "stream",
     "text": [
      "\n"
     ]
    },
    {
     "name": "stdout",
     "output_type": "stream",
     "text": [
      "\n",
      "      Epoch    GPU_mem   box_loss   cls_loss   dfl_loss  Instances       Size\n"
     ]
    },
    {
     "name": "stderr",
     "output_type": "stream",
     "text": [
      "      14/50         0G      1.348     0.6633      1.274         34        640:  15%|█▌        | 15/97 [00:27<02:25,  1.77s/it]libpng warning: iCCP: profile 'ICC Profile': 0h: PCS illuminant is not D50\n",
      "      14/50         0G      1.355     0.6998      1.296         31        640:  85%|████████▍ | 82/97 [02:29<00:27,  1.82s/it]libpng warning: iCCP: profile 'ICC Profile': 0h: PCS illuminant is not D50\n",
      "      14/50         0G       1.35     0.6972       1.29          6        640: 100%|██████████| 97/97 [02:55<00:00,  1.80s/it]\n",
      "                 Class     Images  Instances      Box(P          R      mAP50  mAP50-95): 100%|██████████| 13/13 [00:14<00:00,  1.14s/it]"
     ]
    },
    {
     "name": "stdout",
     "output_type": "stream",
     "text": [
      "                   all        385        402      0.945       0.95      0.974      0.588\n",
      "\n",
      "      Epoch    GPU_mem   box_loss   cls_loss   dfl_loss  Instances       Size\n"
     ]
    },
    {
     "name": "stderr",
     "output_type": "stream",
     "text": [
      "\n",
      "      15/50         0G      1.337     0.6853      1.272         36        640:  19%|█▊        | 18/97 [00:33<02:24,  1.83s/it]libpng warning: iCCP: profile 'ICC Profile': 0h: PCS illuminant is not D50\n",
      "      15/50         0G      1.354     0.6936      1.289         26        640:  31%|███       | 30/97 [00:55<02:05,  1.87s/it]libpng warning: iCCP: profile 'ICC Profile': 0h: PCS illuminant is not D50\n",
      "      15/50         0G      1.343     0.6942      1.286          6        640: 100%|██████████| 97/97 [02:56<00:00,  1.82s/it]\n",
      "                 Class     Images  Instances      Box(P          R      mAP50  mAP50-95): 100%|██████████| 13/13 [00:14<00:00,  1.11s/it]"
     ]
    },
    {
     "name": "stdout",
     "output_type": "stream",
     "text": [
      "                   all        385        402       0.96       0.96      0.977      0.576\n",
      "\n",
      "      Epoch    GPU_mem   box_loss   cls_loss   dfl_loss  Instances       Size\n"
     ]
    },
    {
     "name": "stderr",
     "output_type": "stream",
     "text": [
      "\n",
      "      16/50         0G      1.363     0.6765      1.281         29        640:  13%|█▎        | 13/97 [00:23<02:30,  1.79s/it]libpng warning: iCCP: profile 'ICC Profile': 0h: PCS illuminant is not D50\n",
      "      16/50         0G      1.365      0.667      1.279         40        640:  39%|███▉      | 38/97 [01:08<01:47,  1.82s/it]libpng warning: iCCP: profile 'ICC Profile': 0h: PCS illuminant is not D50\n",
      "      16/50         0G      1.366     0.6707      1.285          7        640: 100%|██████████| 97/97 [02:55<00:00,  1.81s/it]\n",
      "                 Class     Images  Instances      Box(P          R      mAP50  mAP50-95): 100%|██████████| 13/13 [00:14<00:00,  1.12s/it]"
     ]
    },
    {
     "name": "stdout",
     "output_type": "stream",
     "text": [
      "                   all        385        402      0.967      0.959      0.978      0.588\n",
      "\n",
      "      Epoch    GPU_mem   box_loss   cls_loss   dfl_loss  Instances       Size\n"
     ]
    },
    {
     "name": "stderr",
     "output_type": "stream",
     "text": [
      "\n",
      "      17/50         0G      1.338     0.6667      1.271         29        640:  77%|███████▋  | 75/97 [02:14<00:39,  1.80s/it]libpng warning: iCCP: profile 'ICC Profile': 0h: PCS illuminant is not D50\n",
      "      17/50         0G      1.338     0.6668      1.273         34        640:  89%|████████▊ | 86/97 [02:34<00:20,  1.82s/it]libpng warning: iCCP: profile 'ICC Profile': 0h: PCS illuminant is not D50\n",
      "      17/50         0G      1.338     0.6633      1.274          8        640: 100%|██████████| 97/97 [02:52<00:00,  1.78s/it]\n",
      "                 Class     Images  Instances      Box(P          R      mAP50  mAP50-95): 100%|██████████| 13/13 [00:14<00:00,  1.12s/it]"
     ]
    },
    {
     "name": "stdout",
     "output_type": "stream",
     "text": [
      "                   all        385        402       0.98       0.97      0.983      0.608\n",
      "\n",
      "      Epoch    GPU_mem   box_loss   cls_loss   dfl_loss  Instances       Size\n"
     ]
    },
    {
     "name": "stderr",
     "output_type": "stream",
     "text": [
      "\n",
      "      18/50         0G      1.325     0.6551      1.275         28        640:  88%|████████▊ | 85/97 [02:49<00:25,  2.16s/it]libpng warning: iCCP: profile 'ICC Profile': 0h: PCS illuminant is not D50\n",
      "      18/50         0G      1.322     0.6547      1.273         26        640:  91%|█████████ | 88/97 [02:55<00:18,  2.07s/it]libpng warning: iCCP: profile 'ICC Profile': 0h: PCS illuminant is not D50\n",
      "      18/50         0G      1.332      0.656      1.275          5        640: 100%|██████████| 97/97 [03:11<00:00,  1.98s/it]\n",
      "                 Class     Images  Instances      Box(P          R      mAP50  mAP50-95): 100%|██████████| 13/13 [00:16<00:00,  1.25s/it]"
     ]
    },
    {
     "name": "stdout",
     "output_type": "stream",
     "text": [
      "                   all        385        402      0.963      0.966      0.986      0.597\n",
      "\n",
      "      Epoch    GPU_mem   box_loss   cls_loss   dfl_loss  Instances       Size\n"
     ]
    },
    {
     "name": "stderr",
     "output_type": "stream",
     "text": [
      "\n",
      "      19/50         0G      1.398     0.7385      1.258         38        640:   4%|▍         | 4/97 [00:08<03:11,  2.06s/it]libpng warning: iCCP: profile 'ICC Profile': 0h: PCS illuminant is not D50\n",
      "      19/50         0G      1.338     0.6485      1.267         20        640:  94%|█████████▍| 91/97 [02:58<00:11,  1.92s/it]libpng warning: iCCP: profile 'ICC Profile': 0h: PCS illuminant is not D50\n",
      "      19/50         0G      1.342     0.6428      1.267          3        640: 100%|██████████| 97/97 [03:08<00:00,  1.94s/it]\n",
      "                 Class     Images  Instances      Box(P          R      mAP50  mAP50-95): 100%|██████████| 13/13 [00:15<00:00,  1.16s/it]"
     ]
    },
    {
     "name": "stdout",
     "output_type": "stream",
     "text": [
      "                   all        385        402      0.968      0.967      0.984      0.602\n",
      "\n",
      "      Epoch    GPU_mem   box_loss   cls_loss   dfl_loss  Instances       Size\n"
     ]
    },
    {
     "name": "stderr",
     "output_type": "stream",
     "text": [
      "\n",
      "      20/50         0G      1.327     0.6471       1.29         29        640:  25%|██▍       | 24/97 [00:44<02:14,  1.84s/it]libpng warning: iCCP: profile 'ICC Profile': 0h: PCS illuminant is not D50\n",
      "      20/50         0G      1.304     0.6401      1.266         30        640:  79%|███████▉  | 77/97 [02:22<00:37,  1.87s/it]libpng warning: iCCP: profile 'ICC Profile': 0h: PCS illuminant is not D50\n",
      "      20/50         0G      1.308     0.6401      1.268          6        640: 100%|██████████| 97/97 [02:58<00:00,  1.84s/it]\n",
      "                 Class     Images  Instances      Box(P          R      mAP50  mAP50-95): 100%|██████████| 13/13 [00:15<00:00,  1.18s/it]"
     ]
    },
    {
     "name": "stdout",
     "output_type": "stream",
     "text": [
      "                   all        385        402      0.954      0.965      0.983      0.603\n"
     ]
    },
    {
     "name": "stderr",
     "output_type": "stream",
     "text": [
      "\n"
     ]
    },
    {
     "name": "stdout",
     "output_type": "stream",
     "text": [
      "\n",
      "      Epoch    GPU_mem   box_loss   cls_loss   dfl_loss  Instances       Size\n"
     ]
    },
    {
     "name": "stderr",
     "output_type": "stream",
     "text": [
      "      21/50         0G      1.275     0.5924      1.283         31        640:   1%|          | 1/97 [00:01<03:05,  1.93s/it]libpng warning: iCCP: profile 'ICC Profile': 0h: PCS illuminant is not D50\n",
      "      21/50         0G      1.349     0.6546      1.306         27        640:  26%|██▌       | 25/97 [00:53<02:32,  2.12s/it]libpng warning: iCCP: profile 'ICC Profile': 0h: PCS illuminant is not D50\n",
      "      21/50         0G      1.335     0.6459       1.29          7        640: 100%|██████████| 97/97 [03:10<00:00,  1.96s/it]\n",
      "                 Class     Images  Instances      Box(P          R      mAP50  mAP50-95): 100%|██████████| 13/13 [00:15<00:00,  1.17s/it]"
     ]
    },
    {
     "name": "stdout",
     "output_type": "stream",
     "text": [
      "                   all        385        402      0.952      0.938      0.955      0.549\n"
     ]
    },
    {
     "name": "stderr",
     "output_type": "stream",
     "text": [
      "\n"
     ]
    },
    {
     "name": "stdout",
     "output_type": "stream",
     "text": [
      "\n",
      "      Epoch    GPU_mem   box_loss   cls_loss   dfl_loss  Instances       Size\n"
     ]
    },
    {
     "name": "stderr",
     "output_type": "stream",
     "text": [
      "      22/50         0G      1.317     0.6201      1.263         36        640:  74%|███████▍  | 72/97 [02:20<00:54,  2.17s/it]libpng warning: iCCP: profile 'ICC Profile': 0h: PCS illuminant is not D50\n",
      "libpng warning: iCCP: profile 'ICC Profile': 0h: PCS illuminant is not D50\n",
      "      22/50         0G      1.304     0.6215      1.262          6        640: 100%|██████████| 97/97 [03:14<00:00,  2.00s/it]\n",
      "                 Class     Images  Instances      Box(P          R      mAP50  mAP50-95): 100%|██████████| 13/13 [00:17<00:00,  1.32s/it]"
     ]
    },
    {
     "name": "stdout",
     "output_type": "stream",
     "text": [
      "                   all        385        402      0.962      0.963      0.976      0.605\n"
     ]
    },
    {
     "name": "stderr",
     "output_type": "stream",
     "text": [
      "\n"
     ]
    },
    {
     "name": "stdout",
     "output_type": "stream",
     "text": [
      "\n",
      "      Epoch    GPU_mem   box_loss   cls_loss   dfl_loss  Instances       Size\n"
     ]
    },
    {
     "name": "stderr",
     "output_type": "stream",
     "text": [
      "      23/50         0G      1.371     0.6003      1.274         31        640:  14%|█▍        | 14/97 [00:28<02:56,  2.13s/it]libpng warning: iCCP: profile 'ICC Profile': 0h: PCS illuminant is not D50\n",
      "      23/50         0G      1.312     0.6133      1.259         43        640:  57%|█████▋    | 55/97 [01:59<01:28,  2.12s/it]libpng warning: iCCP: profile 'ICC Profile': 0h: PCS illuminant is not D50\n",
      "      23/50         0G      1.314     0.6162      1.262          3        640: 100%|██████████| 97/97 [03:24<00:00,  2.10s/it]\n",
      "                 Class     Images  Instances      Box(P          R      mAP50  mAP50-95): 100%|██████████| 13/13 [00:16<00:00,  1.26s/it]"
     ]
    },
    {
     "name": "stdout",
     "output_type": "stream",
     "text": [
      "                   all        385        402      0.953      0.975      0.986      0.621\n"
     ]
    },
    {
     "name": "stderr",
     "output_type": "stream",
     "text": [
      "\n"
     ]
    },
    {
     "name": "stdout",
     "output_type": "stream",
     "text": [
      "\n",
      "      Epoch    GPU_mem   box_loss   cls_loss   dfl_loss  Instances       Size\n"
     ]
    },
    {
     "name": "stderr",
     "output_type": "stream",
     "text": [
      "      24/50         0G       1.14     0.5887      1.198         27        640:   4%|▍         | 4/97 [00:08<03:10,  2.05s/it]libpng warning: iCCP: profile 'ICC Profile': 0h: PCS illuminant is not D50\n",
      "      24/50         0G      1.286     0.6051       1.27         32        640:  90%|████████▉ | 87/97 [03:03<00:20,  2.03s/it]libpng warning: iCCP: profile 'ICC Profile': 0h: PCS illuminant is not D50\n",
      "      24/50         0G      1.293     0.6072      1.269          7        640: 100%|██████████| 97/97 [03:23<00:00,  2.09s/it]\n",
      "                 Class     Images  Instances      Box(P          R      mAP50  mAP50-95): 100%|██████████| 13/13 [00:17<00:00,  1.32s/it]"
     ]
    },
    {
     "name": "stdout",
     "output_type": "stream",
     "text": [
      "                   all        385        402      0.952      0.963      0.977      0.599\n"
     ]
    },
    {
     "name": "stderr",
     "output_type": "stream",
     "text": [
      "\n"
     ]
    },
    {
     "name": "stdout",
     "output_type": "stream",
     "text": [
      "\n",
      "      Epoch    GPU_mem   box_loss   cls_loss   dfl_loss  Instances       Size\n"
     ]
    },
    {
     "name": "stderr",
     "output_type": "stream",
     "text": [
      "      25/50         0G      1.276     0.5961      1.258         33        640:  48%|████▊     | 47/97 [01:37<01:38,  1.98s/it]libpng warning: iCCP: profile 'ICC Profile': 0h: PCS illuminant is not D50\n",
      "      25/50         0G      1.271      0.577      1.256         26        640:  78%|███████▊  | 76/97 [02:37<00:42,  2.02s/it]libpng warning: iCCP: profile 'ICC Profile': 0h: PCS illuminant is not D50\n",
      "      25/50         0G      1.263     0.5794      1.254          6        640: 100%|██████████| 97/97 [03:18<00:00,  2.05s/it]\n",
      "                 Class     Images  Instances      Box(P          R      mAP50  mAP50-95): 100%|██████████| 13/13 [00:16<00:00,  1.30s/it]"
     ]
    },
    {
     "name": "stdout",
     "output_type": "stream",
     "text": [
      "                   all        385        402      0.969       0.96      0.979      0.609\n"
     ]
    },
    {
     "name": "stderr",
     "output_type": "stream",
     "text": [
      "\n"
     ]
    },
    {
     "name": "stdout",
     "output_type": "stream",
     "text": [
      "\n",
      "      Epoch    GPU_mem   box_loss   cls_loss   dfl_loss  Instances       Size\n"
     ]
    },
    {
     "name": "stderr",
     "output_type": "stream",
     "text": [
      "      26/50         0G      1.266     0.5936      1.245         39        640:  44%|████▍     | 43/97 [01:29<01:51,  2.06s/it]libpng warning: iCCP: profile 'ICC Profile': 0h: PCS illuminant is not D50\n",
      "      26/50         0G      1.274     0.5974      1.246         37        640:  52%|█████▏    | 50/97 [01:44<01:40,  2.14s/it]libpng warning: iCCP: profile 'ICC Profile': 0h: PCS illuminant is not D50\n",
      "      26/50         0G      1.286     0.5935      1.251          4        640: 100%|██████████| 97/97 [03:21<00:00,  2.07s/it]\n",
      "                 Class     Images  Instances      Box(P          R      mAP50  mAP50-95): 100%|██████████| 13/13 [00:16<00:00,  1.30s/it]"
     ]
    },
    {
     "name": "stdout",
     "output_type": "stream",
     "text": [
      "                   all        385        402      0.961      0.963      0.982      0.601\n"
     ]
    },
    {
     "name": "stderr",
     "output_type": "stream",
     "text": [
      "\n"
     ]
    },
    {
     "name": "stdout",
     "output_type": "stream",
     "text": [
      "\n",
      "      Epoch    GPU_mem   box_loss   cls_loss   dfl_loss  Instances       Size\n"
     ]
    },
    {
     "name": "stderr",
     "output_type": "stream",
     "text": [
      "  0%|          | 0/97 [00:00<?, ?it/s]libpng warning: iCCP: profile 'ICC Profile': 0h: PCS illuminant is not D50\n",
      "      27/50         0G      1.256     0.5699       1.24         35        640:  58%|█████▊    | 56/97 [01:59<01:24,  2.05s/it]libpng warning: iCCP: profile 'ICC Profile': 0h: PCS illuminant is not D50\n",
      "      27/50         0G      1.265     0.5767      1.246          6        640: 100%|██████████| 97/97 [03:21<00:00,  2.08s/it]\n",
      "                 Class     Images  Instances      Box(P          R      mAP50  mAP50-95): 100%|██████████| 13/13 [00:16<00:00,  1.27s/it]"
     ]
    },
    {
     "name": "stdout",
     "output_type": "stream",
     "text": [
      "                   all        385        402      0.973      0.953      0.976      0.613\n"
     ]
    },
    {
     "name": "stderr",
     "output_type": "stream",
     "text": [
      "\n"
     ]
    },
    {
     "name": "stdout",
     "output_type": "stream",
     "text": [
      "\n",
      "      Epoch    GPU_mem   box_loss   cls_loss   dfl_loss  Instances       Size\n"
     ]
    },
    {
     "name": "stderr",
     "output_type": "stream",
     "text": [
      "      28/50         0G       1.28     0.6033      1.256         28        640:   7%|▋         | 7/97 [00:15<03:18,  2.21s/it]libpng warning: iCCP: profile 'ICC Profile': 0h: PCS illuminant is not D50\n",
      "      28/50         0G      1.247     0.5779      1.242         27        640:  74%|███████▍  | 72/97 [02:29<00:50,  2.00s/it]libpng warning: iCCP: profile 'ICC Profile': 0h: PCS illuminant is not D50\n",
      "      28/50         0G      1.242     0.5791      1.239          7        640: 100%|██████████| 97/97 [03:18<00:00,  2.05s/it]\n",
      "                 Class     Images  Instances      Box(P          R      mAP50  mAP50-95): 100%|██████████| 13/13 [00:16<00:00,  1.28s/it]"
     ]
    },
    {
     "name": "stdout",
     "output_type": "stream",
     "text": [
      "                   all        385        402      0.964      0.973      0.981      0.588\n"
     ]
    },
    {
     "name": "stderr",
     "output_type": "stream",
     "text": [
      "\n"
     ]
    },
    {
     "name": "stdout",
     "output_type": "stream",
     "text": [
      "\n",
      "      Epoch    GPU_mem   box_loss   cls_loss   dfl_loss  Instances       Size\n"
     ]
    },
    {
     "name": "stderr",
     "output_type": "stream",
     "text": [
      "      29/50         0G      1.149     0.5516      1.204         34        640:   3%|▎         | 3/97 [00:06<03:21,  2.14s/it]libpng warning: iCCP: profile 'ICC Profile': 0h: PCS illuminant is not D50\n",
      "      29/50         0G      1.225     0.5721       1.22         23        640:  73%|███████▎  | 71/97 [02:23<00:52,  2.00s/it]libpng warning: iCCP: profile 'ICC Profile': 0h: PCS illuminant is not D50\n",
      "      29/50         0G       1.23     0.5731      1.224          4        640: 100%|██████████| 97/97 [03:15<00:00,  2.01s/it]\n",
      "                 Class     Images  Instances      Box(P          R      mAP50  mAP50-95): 100%|██████████| 13/13 [00:17<00:00,  1.34s/it]"
     ]
    },
    {
     "name": "stdout",
     "output_type": "stream",
     "text": [
      "                   all        385        402      0.967      0.958      0.978      0.618\n"
     ]
    },
    {
     "name": "stderr",
     "output_type": "stream",
     "text": [
      "\n"
     ]
    },
    {
     "name": "stdout",
     "output_type": "stream",
     "text": [
      "\n",
      "      Epoch    GPU_mem   box_loss   cls_loss   dfl_loss  Instances       Size\n"
     ]
    },
    {
     "name": "stderr",
     "output_type": "stream",
     "text": [
      "      30/50         0G      1.266     0.5747      1.221         22        640:  27%|██▋       | 26/97 [00:53<02:20,  1.98s/it]libpng warning: iCCP: profile 'ICC Profile': 0h: PCS illuminant is not D50\n",
      "      30/50         0G      1.256     0.5694      1.236         26        640:  75%|███████▌  | 73/97 [02:30<00:50,  2.10s/it]libpng warning: iCCP: profile 'ICC Profile': 0h: PCS illuminant is not D50\n",
      "      30/50         0G       1.25     0.5692      1.232          4        640: 100%|██████████| 97/97 [03:17<00:00,  2.04s/it]\n",
      "                 Class     Images  Instances      Box(P          R      mAP50  mAP50-95): 100%|██████████| 13/13 [00:16<00:00,  1.24s/it]"
     ]
    },
    {
     "name": "stdout",
     "output_type": "stream",
     "text": [
      "                   all        385        402      0.975      0.973      0.989      0.609\n"
     ]
    },
    {
     "name": "stderr",
     "output_type": "stream",
     "text": [
      "\n"
     ]
    },
    {
     "name": "stdout",
     "output_type": "stream",
     "text": [
      "\n",
      "      Epoch    GPU_mem   box_loss   cls_loss   dfl_loss  Instances       Size\n"
     ]
    },
    {
     "name": "stderr",
     "output_type": "stream",
     "text": [
      "      31/50         0G      1.262     0.5657      1.237         29        640:  79%|███████▉  | 77/97 [02:34<00:41,  2.09s/it]libpng warning: iCCP: profile 'ICC Profile': 0h: PCS illuminant is not D50\n",
      "      31/50         0G      1.265     0.5656      1.239         38        640:  88%|████████▊ | 85/97 [02:51<00:25,  2.10s/it]libpng warning: iCCP: profile 'ICC Profile': 0h: PCS illuminant is not D50\n",
      "      31/50         0G      1.268     0.5664      1.241         10        640: 100%|██████████| 97/97 [03:16<00:00,  2.02s/it]\n",
      "                 Class     Images  Instances      Box(P          R      mAP50  mAP50-95): 100%|██████████| 13/13 [00:17<00:00,  1.34s/it]"
     ]
    },
    {
     "name": "stdout",
     "output_type": "stream",
     "text": [
      "                   all        385        402      0.959      0.963      0.976      0.612\n"
     ]
    },
    {
     "name": "stderr",
     "output_type": "stream",
     "text": [
      "\n"
     ]
    },
    {
     "name": "stdout",
     "output_type": "stream",
     "text": [
      "\n",
      "      Epoch    GPU_mem   box_loss   cls_loss   dfl_loss  Instances       Size\n"
     ]
    },
    {
     "name": "stderr",
     "output_type": "stream",
     "text": [
      "      32/50         0G      1.425     0.5507       1.26         31        640:   1%|          | 1/97 [00:02<03:31,  2.21s/it]libpng warning: iCCP: profile 'ICC Profile': 0h: PCS illuminant is not D50\n",
      "      32/50         0G      1.215     0.5499       1.25         24        640:  24%|██▎       | 23/97 [00:49<02:32,  2.06s/it]libpng warning: iCCP: profile 'ICC Profile': 0h: PCS illuminant is not D50\n",
      "      32/50         0G      1.239     0.5634      1.241          6        640: 100%|██████████| 97/97 [03:08<00:00,  1.95s/it]\n",
      "                 Class     Images  Instances      Box(P          R      mAP50  mAP50-95): 100%|██████████| 13/13 [00:13<00:00,  1.05s/it]"
     ]
    },
    {
     "name": "stdout",
     "output_type": "stream",
     "text": [
      "                   all        385        402      0.959      0.973      0.985      0.609\n",
      "\n",
      "      Epoch    GPU_mem   box_loss   cls_loss   dfl_loss  Instances       Size\n"
     ]
    },
    {
     "name": "stderr",
     "output_type": "stream",
     "text": [
      "\n",
      "      33/50         0G      1.245     0.5483      1.234         32        640:  77%|███████▋  | 75/97 [02:12<00:38,  1.75s/it]libpng warning: iCCP: profile 'ICC Profile': 0h: PCS illuminant is not D50\n",
      "      33/50         0G      1.247      0.549      1.235         26        640:  78%|███████▊  | 76/97 [02:14<00:37,  1.77s/it]libpng warning: iCCP: profile 'ICC Profile': 0h: PCS illuminant is not D50\n",
      "      33/50         0G       1.25     0.5457      1.241          9        640: 100%|██████████| 97/97 [02:51<00:00,  1.76s/it]\n",
      "                 Class     Images  Instances      Box(P          R      mAP50  mAP50-95): 100%|██████████| 13/13 [00:14<00:00,  1.14s/it]"
     ]
    },
    {
     "name": "stdout",
     "output_type": "stream",
     "text": [
      "                   all        385        402      0.958      0.973      0.983      0.624\n"
     ]
    },
    {
     "name": "stderr",
     "output_type": "stream",
     "text": [
      "\n"
     ]
    },
    {
     "name": "stdout",
     "output_type": "stream",
     "text": [
      "\n",
      "      Epoch    GPU_mem   box_loss   cls_loss   dfl_loss  Instances       Size\n"
     ]
    },
    {
     "name": "stderr",
     "output_type": "stream",
     "text": [
      "      34/50         0G      1.165     0.5239       1.19         31        640:  44%|████▍     | 43/97 [01:22<02:01,  2.24s/it]libpng warning: iCCP: profile 'ICC Profile': 0h: PCS illuminant is not D50\n",
      "      34/50         0G      1.209     0.5388      1.214         38        640:  92%|█████████▏| 89/97 [02:57<00:16,  2.10s/it]libpng warning: iCCP: profile 'ICC Profile': 0h: PCS illuminant is not D50\n",
      "      34/50         0G      1.216     0.5429       1.22          3        640: 100%|██████████| 97/97 [03:11<00:00,  1.97s/it]\n",
      "                 Class     Images  Instances      Box(P          R      mAP50  mAP50-95): 100%|██████████| 13/13 [00:16<00:00,  1.25s/it]"
     ]
    },
    {
     "name": "stdout",
     "output_type": "stream",
     "text": [
      "                   all        385        402      0.972      0.955      0.977      0.595\n"
     ]
    },
    {
     "name": "stderr",
     "output_type": "stream",
     "text": [
      "\n"
     ]
    },
    {
     "name": "stdout",
     "output_type": "stream",
     "text": [
      "\n",
      "      Epoch    GPU_mem   box_loss   cls_loss   dfl_loss  Instances       Size\n"
     ]
    },
    {
     "name": "stderr",
     "output_type": "stream",
     "text": [
      "      35/50         0G       1.25     0.5373       1.24         26        640:   2%|▏         | 2/97 [00:04<03:11,  2.01s/it]libpng warning: iCCP: profile 'ICC Profile': 0h: PCS illuminant is not D50\n",
      "      35/50         0G      1.243     0.5553      1.217         30        640:  33%|███▎      | 32/97 [01:07<02:23,  2.20s/it]libpng warning: iCCP: profile 'ICC Profile': 0h: PCS illuminant is not D50\n",
      "      35/50         0G      1.227     0.5479      1.214          8        640: 100%|██████████| 97/97 [03:22<00:00,  2.09s/it]\n",
      "                 Class     Images  Instances      Box(P          R      mAP50  mAP50-95): 100%|██████████| 13/13 [00:16<00:00,  1.26s/it]"
     ]
    },
    {
     "name": "stdout",
     "output_type": "stream",
     "text": [
      "                   all        385        402      0.958      0.975      0.979      0.598\n"
     ]
    },
    {
     "name": "stderr",
     "output_type": "stream",
     "text": [
      "\n"
     ]
    },
    {
     "name": "stdout",
     "output_type": "stream",
     "text": [
      "\n",
      "      Epoch    GPU_mem   box_loss   cls_loss   dfl_loss  Instances       Size\n"
     ]
    },
    {
     "name": "stderr",
     "output_type": "stream",
     "text": [
      "      36/50         0G      1.208      0.534      1.221         37        640:  14%|█▍        | 14/97 [00:27<02:43,  1.97s/it]libpng warning: iCCP: profile 'ICC Profile': 0h: PCS illuminant is not D50\n",
      "      36/50         0G      1.192     0.5248      1.206         35        640:  20%|█▉        | 19/97 [00:37<02:31,  1.95s/it]libpng warning: iCCP: profile 'ICC Profile': 0h: PCS illuminant is not D50\n",
      "      36/50         0G      1.208     0.5243      1.217          8        640: 100%|██████████| 97/97 [03:09<00:00,  1.96s/it]\n",
      "                 Class     Images  Instances      Box(P          R      mAP50  mAP50-95): 100%|██████████| 13/13 [00:16<00:00,  1.25s/it]"
     ]
    },
    {
     "name": "stdout",
     "output_type": "stream",
     "text": [
      "                   all        385        402      0.974      0.968      0.983      0.626\n"
     ]
    },
    {
     "name": "stderr",
     "output_type": "stream",
     "text": [
      "\n"
     ]
    },
    {
     "name": "stdout",
     "output_type": "stream",
     "text": [
      "\n",
      "      Epoch    GPU_mem   box_loss   cls_loss   dfl_loss  Instances       Size\n"
     ]
    },
    {
     "name": "stderr",
     "output_type": "stream",
     "text": [
      "      37/50         0G      1.204      0.539      1.226         23        640:   7%|▋         | 7/97 [00:14<02:57,  1.97s/it]libpng warning: iCCP: profile 'ICC Profile': 0h: PCS illuminant is not D50\n",
      "      37/50         0G      1.202      0.513      1.207         33        640:  32%|███▏      | 31/97 [00:58<01:59,  1.81s/it]libpng warning: iCCP: profile 'ICC Profile': 0h: PCS illuminant is not D50\n",
      "      37/50         0G      1.205     0.5227      1.211          6        640: 100%|██████████| 97/97 [02:56<00:00,  1.82s/it]\n",
      "                 Class     Images  Instances      Box(P          R      mAP50  mAP50-95): 100%|██████████| 13/13 [00:14<00:00,  1.11s/it]"
     ]
    },
    {
     "name": "stdout",
     "output_type": "stream",
     "text": [
      "                   all        385        402      0.976      0.963       0.99      0.622\n",
      "\n",
      "      Epoch    GPU_mem   box_loss   cls_loss   dfl_loss  Instances       Size\n"
     ]
    },
    {
     "name": "stderr",
     "output_type": "stream",
     "text": [
      "\n",
      "      38/50         0G      1.115     0.5093       1.17         27        640:  28%|██▊       | 27/97 [00:49<02:08,  1.84s/it]libpng warning: iCCP: profile 'ICC Profile': 0h: PCS illuminant is not D50\n",
      "      38/50         0G      1.126     0.5169      1.175         26        640:  41%|████      | 40/97 [01:14<01:47,  1.89s/it]libpng warning: iCCP: profile 'ICC Profile': 0h: PCS illuminant is not D50\n",
      "      38/50         0G      1.172      0.517      1.192          6        640: 100%|██████████| 97/97 [03:09<00:00,  1.95s/it]\n",
      "                 Class     Images  Instances      Box(P          R      mAP50  mAP50-95): 100%|██████████| 13/13 [00:17<00:00,  1.32s/it]"
     ]
    },
    {
     "name": "stdout",
     "output_type": "stream",
     "text": [
      "                   all        385        402      0.965      0.968       0.98       0.59\n"
     ]
    },
    {
     "name": "stderr",
     "output_type": "stream",
     "text": [
      "\n"
     ]
    },
    {
     "name": "stdout",
     "output_type": "stream",
     "text": [
      "\n",
      "      Epoch    GPU_mem   box_loss   cls_loss   dfl_loss  Instances       Size\n"
     ]
    },
    {
     "name": "stderr",
     "output_type": "stream",
     "text": [
      "      39/50         0G      1.191     0.5035      1.194         24        640:  44%|████▍     | 43/97 [01:32<01:55,  2.15s/it]libpng warning: iCCP: profile 'ICC Profile': 0h: PCS illuminant is not D50\n",
      "      39/50         0G      1.182     0.5142      1.194         38        640:  89%|████████▊ | 86/97 [02:54<00:19,  1.74s/it]libpng warning: iCCP: profile 'ICC Profile': 0h: PCS illuminant is not D50\n",
      "      39/50         0G      1.187     0.5149      1.196          4        640: 100%|██████████| 97/97 [03:14<00:00,  2.00s/it]\n",
      "                 Class     Images  Instances      Box(P          R      mAP50  mAP50-95): 100%|██████████| 13/13 [00:17<00:00,  1.32s/it]"
     ]
    },
    {
     "name": "stdout",
     "output_type": "stream",
     "text": [
      "                   all        385        402      0.966      0.965      0.975       0.61\n"
     ]
    },
    {
     "name": "stderr",
     "output_type": "stream",
     "text": [
      "\n"
     ]
    },
    {
     "name": "stdout",
     "output_type": "stream",
     "text": [
      "\n",
      "      Epoch    GPU_mem   box_loss   cls_loss   dfl_loss  Instances       Size\n"
     ]
    },
    {
     "name": "stderr",
     "output_type": "stream",
     "text": [
      "      40/50         0G      1.216     0.5426      1.232         27        640:  12%|█▏        | 12/97 [00:25<02:52,  2.03s/it]libpng warning: iCCP: profile 'ICC Profile': 0h: PCS illuminant is not D50\n",
      "      40/50         0G      1.179     0.5239        1.2         30        640:  52%|█████▏    | 50/97 [01:42<01:32,  1.97s/it]libpng warning: iCCP: profile 'ICC Profile': 0h: PCS illuminant is not D50\n",
      "      40/50         0G      1.175      0.517      1.195          7        640: 100%|██████████| 97/97 [03:17<00:00,  2.04s/it]\n",
      "                 Class     Images  Instances      Box(P          R      mAP50  mAP50-95): 100%|██████████| 13/13 [00:16<00:00,  1.30s/it]"
     ]
    },
    {
     "name": "stdout",
     "output_type": "stream",
     "text": [
      "                   all        385        402      0.958      0.968      0.983      0.608\n"
     ]
    },
    {
     "name": "stderr",
     "output_type": "stream",
     "text": [
      "\n"
     ]
    },
    {
     "name": "stdout",
     "output_type": "stream",
     "text": [
      "Closing dataloader mosaic\n",
      "\n",
      "      Epoch    GPU_mem   box_loss   cls_loss   dfl_loss  Instances       Size\n"
     ]
    },
    {
     "name": "stderr",
     "output_type": "stream",
     "text": [
      "      41/50         0G      1.175      0.463      1.222         16        640:  59%|█████▉    | 57/97 [01:54<01:16,  1.90s/it]libpng warning: iCCP: profile 'ICC Profile': 0h: PCS illuminant is not D50\n",
      "      41/50         0G      1.182     0.4633      1.222         17        640:  66%|██████▌   | 64/97 [02:08<01:06,  2.01s/it]libpng warning: iCCP: profile 'ICC Profile': 0h: PCS illuminant is not D50\n",
      "      41/50         0G      1.163     0.4535      1.215          3        640: 100%|██████████| 97/97 [03:13<00:00,  1.99s/it]\n",
      "                 Class     Images  Instances      Box(P          R      mAP50  mAP50-95): 100%|██████████| 13/13 [00:17<00:00,  1.33s/it]"
     ]
    },
    {
     "name": "stdout",
     "output_type": "stream",
     "text": [
      "                   all        385        402      0.955       0.97      0.984      0.619\n"
     ]
    },
    {
     "name": "stderr",
     "output_type": "stream",
     "text": [
      "\n"
     ]
    },
    {
     "name": "stdout",
     "output_type": "stream",
     "text": [
      "\n",
      "      Epoch    GPU_mem   box_loss   cls_loss   dfl_loss  Instances       Size\n"
     ]
    },
    {
     "name": "stderr",
     "output_type": "stream",
     "text": [
      "      42/50         0G      1.119     0.4394      1.166         16        640:   2%|▏         | 2/97 [00:04<03:30,  2.21s/it]libpng warning: iCCP: profile 'ICC Profile': 0h: PCS illuminant is not D50\n",
      "      42/50         0G      1.168      0.451      1.214         16        640:  72%|███████▏  | 70/97 [02:15<00:52,  1.95s/it]libpng warning: iCCP: profile 'ICC Profile': 0h: PCS illuminant is not D50\n",
      "      42/50         0G      1.167     0.4488      1.217          2        640: 100%|██████████| 97/97 [03:08<00:00,  1.95s/it]\n",
      "                 Class     Images  Instances      Box(P          R      mAP50  mAP50-95): 100%|██████████| 13/13 [00:17<00:00,  1.32s/it]"
     ]
    },
    {
     "name": "stdout",
     "output_type": "stream",
     "text": [
      "                   all        385        402      0.963       0.98      0.984      0.604\n"
     ]
    },
    {
     "name": "stderr",
     "output_type": "stream",
     "text": [
      "\n"
     ]
    },
    {
     "name": "stdout",
     "output_type": "stream",
     "text": [
      "\n",
      "      Epoch    GPU_mem   box_loss   cls_loss   dfl_loss  Instances       Size\n"
     ]
    },
    {
     "name": "stderr",
     "output_type": "stream",
     "text": [
      "      43/50         0G      1.149     0.4346      1.214         16        640:  39%|███▉      | 38/97 [01:20<02:12,  2.25s/it]libpng warning: iCCP: profile 'ICC Profile': 0h: PCS illuminant is not D50\n",
      "      43/50         0G       1.14     0.4362      1.206         16        640:  95%|█████████▍| 92/97 [03:11<00:10,  2.18s/it]libpng warning: iCCP: profile 'ICC Profile': 0h: PCS illuminant is not D50\n",
      "      43/50         0G      1.138     0.4359      1.202          3        640: 100%|██████████| 97/97 [03:20<00:00,  2.06s/it]\n",
      "                 Class     Images  Instances      Box(P          R      mAP50  mAP50-95): 100%|██████████| 13/13 [00:16<00:00,  1.30s/it]"
     ]
    },
    {
     "name": "stdout",
     "output_type": "stream",
     "text": [
      "                   all        385        402      0.968       0.96      0.981      0.599\n"
     ]
    },
    {
     "name": "stderr",
     "output_type": "stream",
     "text": [
      "\n"
     ]
    },
    {
     "name": "stdout",
     "output_type": "stream",
     "text": [
      "\n",
      "      Epoch    GPU_mem   box_loss   cls_loss   dfl_loss  Instances       Size\n"
     ]
    },
    {
     "name": "stderr",
     "output_type": "stream",
     "text": [
      "      44/50         0G      1.111     0.4187      1.179         16        640:  19%|█▊        | 18/97 [00:38<02:44,  2.08s/it]libpng warning: iCCP: profile 'ICC Profile': 0h: PCS illuminant is not D50\n",
      "      44/50         0G      1.111      0.422      1.176         16        640:  22%|██▏       | 21/97 [00:45<02:41,  2.13s/it]libpng warning: iCCP: profile 'ICC Profile': 0h: PCS illuminant is not D50\n",
      "      44/50         0G      1.134     0.4275      1.195          3        640: 100%|██████████| 97/97 [03:14<00:00,  2.01s/it]\n",
      "                 Class     Images  Instances      Box(P          R      mAP50  mAP50-95): 100%|██████████| 13/13 [00:16<00:00,  1.31s/it]"
     ]
    },
    {
     "name": "stdout",
     "output_type": "stream",
     "text": [
      "                   all        385        402      0.969      0.965      0.983       0.61\n"
     ]
    },
    {
     "name": "stderr",
     "output_type": "stream",
     "text": [
      "\n"
     ]
    },
    {
     "name": "stdout",
     "output_type": "stream",
     "text": [
      "\n",
      "      Epoch    GPU_mem   box_loss   cls_loss   dfl_loss  Instances       Size\n"
     ]
    },
    {
     "name": "stderr",
     "output_type": "stream",
     "text": [
      "      45/50         0G       1.11     0.4279      1.172         16        640:  28%|██▊       | 27/97 [00:55<02:19,  1.99s/it]libpng warning: iCCP: profile 'ICC Profile': 0h: PCS illuminant is not D50\n",
      "      45/50         0G       1.11      0.433      1.182         16        640:  68%|██████▊   | 66/97 [02:14<00:58,  1.89s/it]libpng warning: iCCP: profile 'ICC Profile': 0h: PCS illuminant is not D50\n",
      "      45/50         0G      1.119     0.4311      1.193          3        640: 100%|██████████| 97/97 [03:12<00:00,  1.98s/it]\n",
      "                 Class     Images  Instances      Box(P          R      mAP50  mAP50-95): 100%|██████████| 13/13 [00:15<00:00,  1.19s/it]"
     ]
    },
    {
     "name": "stdout",
     "output_type": "stream",
     "text": [
      "                   all        385        402      0.972      0.968      0.984      0.625\n"
     ]
    },
    {
     "name": "stderr",
     "output_type": "stream",
     "text": [
      "\n"
     ]
    },
    {
     "name": "stdout",
     "output_type": "stream",
     "text": [
      "\n",
      "      Epoch    GPU_mem   box_loss   cls_loss   dfl_loss  Instances       Size\n"
     ]
    },
    {
     "name": "stderr",
     "output_type": "stream",
     "text": [
      "      46/50         0G      1.089      0.414      1.179         16        640:  18%|█▊        | 17/97 [00:32<02:35,  1.94s/it]libpng warning: iCCP: profile 'ICC Profile': 0h: PCS illuminant is not D50\n",
      "      46/50         0G      1.078     0.4066      1.173         16        640:  46%|████▋     | 45/97 [01:25<01:36,  1.86s/it]libpng warning: iCCP: profile 'ICC Profile': 0h: PCS illuminant is not D50\n",
      "      46/50         0G      1.098     0.4131      1.177          3        640: 100%|██████████| 97/97 [02:59<00:00,  1.85s/it]\n",
      "                 Class     Images  Instances      Box(P          R      mAP50  mAP50-95): 100%|██████████| 13/13 [00:15<00:00,  1.18s/it]"
     ]
    },
    {
     "name": "stdout",
     "output_type": "stream",
     "text": [
      "                   all        385        402      0.972      0.968      0.985      0.623\n"
     ]
    },
    {
     "name": "stderr",
     "output_type": "stream",
     "text": [
      "\n"
     ]
    },
    {
     "name": "stdout",
     "output_type": "stream",
     "text": [
      "\n",
      "      Epoch    GPU_mem   box_loss   cls_loss   dfl_loss  Instances       Size\n"
     ]
    },
    {
     "name": "stderr",
     "output_type": "stream",
     "text": [
      "      47/50         0G      1.092      0.422      1.189         16        640:  22%|██▏       | 21/97 [00:41<02:27,  1.94s/it]libpng warning: iCCP: profile 'ICC Profile': 0h: PCS illuminant is not D50\n",
      "      47/50         0G      1.078     0.4152      1.163         18        640:  77%|███████▋  | 75/97 [02:27<00:41,  1.86s/it]libpng warning: iCCP: profile 'ICC Profile': 0h: PCS illuminant is not D50\n",
      "      47/50         0G      1.087     0.4172      1.167          3        640: 100%|██████████| 97/97 [03:07<00:00,  1.93s/it]\n",
      "                 Class     Images  Instances      Box(P          R      mAP50  mAP50-95): 100%|██████████| 13/13 [00:15<00:00,  1.20s/it]"
     ]
    },
    {
     "name": "stdout",
     "output_type": "stream",
     "text": [
      "                   all        385        402       0.97      0.961      0.983       0.62\n",
      "\n",
      "      Epoch    GPU_mem   box_loss   cls_loss   dfl_loss  Instances       Size\n"
     ]
    },
    {
     "name": "stderr",
     "output_type": "stream",
     "text": [
      "\n",
      "      48/50         0G       1.14     0.4375      1.162         16        640:  15%|█▌        | 15/97 [00:28<02:36,  1.90s/it]libpng warning: iCCP: profile 'ICC Profile': 0h: PCS illuminant is not D50\n",
      "      48/50         0G      1.081     0.4126      1.165         16        640:  95%|█████████▍| 92/97 [03:03<00:09,  1.89s/it]libpng warning: iCCP: profile 'ICC Profile': 0h: PCS illuminant is not D50\n",
      "      48/50         0G      1.078     0.4119      1.164          3        640: 100%|██████████| 97/97 [03:10<00:00,  1.97s/it]\n",
      "                 Class     Images  Instances      Box(P          R      mAP50  mAP50-95): 100%|██████████| 13/13 [00:14<00:00,  1.14s/it]"
     ]
    },
    {
     "name": "stdout",
     "output_type": "stream",
     "text": [
      "                   all        385        402      0.965      0.968      0.985      0.617\n"
     ]
    },
    {
     "name": "stderr",
     "output_type": "stream",
     "text": [
      "\n"
     ]
    },
    {
     "name": "stdout",
     "output_type": "stream",
     "text": [
      "\n",
      "      Epoch    GPU_mem   box_loss   cls_loss   dfl_loss  Instances       Size\n"
     ]
    },
    {
     "name": "stderr",
     "output_type": "stream",
     "text": [
      "      49/50         0G      1.108      0.413      1.146         16        640:   6%|▌         | 6/97 [00:11<02:48,  1.85s/it]libpng warning: iCCP: profile 'ICC Profile': 0h: PCS illuminant is not D50\n",
      "      49/50         0G      1.079     0.4101      1.173         17        640:  54%|█████▎    | 52/97 [01:48<01:39,  2.22s/it]libpng warning: iCCP: profile 'ICC Profile': 0h: PCS illuminant is not D50\n",
      "      49/50         0G      1.058     0.4073      1.163          3        640: 100%|██████████| 97/97 [03:15<00:00,  2.01s/it]\n",
      "                 Class     Images  Instances      Box(P          R      mAP50  mAP50-95): 100%|██████████| 13/13 [00:15<00:00,  1.19s/it]"
     ]
    },
    {
     "name": "stdout",
     "output_type": "stream",
     "text": [
      "                   all        385        402      0.963       0.97      0.988       0.62\n"
     ]
    },
    {
     "name": "stderr",
     "output_type": "stream",
     "text": [
      "\n"
     ]
    },
    {
     "name": "stdout",
     "output_type": "stream",
     "text": [
      "\n",
      "      Epoch    GPU_mem   box_loss   cls_loss   dfl_loss  Instances       Size\n"
     ]
    },
    {
     "name": "stderr",
     "output_type": "stream",
     "text": [
      "      50/50         0G      1.063     0.3988      1.157         16        640:  71%|███████   | 69/97 [02:13<00:53,  1.91s/it]libpng warning: iCCP: profile 'ICC Profile': 0h: PCS illuminant is not D50\n",
      "      50/50         0G      1.058     0.3995       1.16         16        640:  84%|████████▎ | 81/97 [02:36<00:29,  1.84s/it]libpng warning: iCCP: profile 'ICC Profile': 0h: PCS illuminant is not D50\n",
      "      50/50         0G      1.055     0.4006      1.154          3        640: 100%|██████████| 97/97 [03:04<00:00,  1.91s/it]\n",
      "                 Class     Images  Instances      Box(P          R      mAP50  mAP50-95): 100%|██████████| 13/13 [00:15<00:00,  1.21s/it]"
     ]
    },
    {
     "name": "stdout",
     "output_type": "stream",
     "text": [
      "                   all        385        402       0.97      0.971      0.987      0.618\n"
     ]
    },
    {
     "name": "stderr",
     "output_type": "stream",
     "text": [
      "\n"
     ]
    },
    {
     "name": "stdout",
     "output_type": "stream",
     "text": [
      "\n",
      "50 epochs completed in 2.871 hours.\n",
      "Optimizer stripped from runs/detect/train/weights/last.pt, 6.2MB\n",
      "Optimizer stripped from runs/detect/train/weights/best.pt, 6.2MB\n",
      "\n",
      "Validating runs/detect/train/weights/best.pt...\n",
      "Ultralytics 8.3.70 🚀 Python-3.12.5 torch-2.6.0+cu124 CPU (12th Gen Intel Core(TM) i7-12700)\n",
      "Model summary (fused): 168 layers, 3,005,843 parameters, 0 gradients, 8.1 GFLOPs\n"
     ]
    },
    {
     "name": "stderr",
     "output_type": "stream",
     "text": [
      "                 Class     Images  Instances      Box(P          R      mAP50  mAP50-95): 100%|██████████| 13/13 [00:14<00:00,  1.09s/it]\n"
     ]
    },
    {
     "name": "stdout",
     "output_type": "stream",
     "text": [
      "                   all        385        402      0.974      0.968      0.983      0.626\n",
      "Speed: 0.8ms preprocess, 26.5ms inference, 0.0ms loss, 0.1ms postprocess per image\n",
      "Results saved to \u001b[1mruns/detect/train\u001b[0m\n"
     ]
    },
    {
     "data": {
      "text/plain": [
       "ultralytics.utils.metrics.DetMetrics object with attributes:\n",
       "\n",
       "ap_class_index: array([0])\n",
       "box: ultralytics.utils.metrics.Metric object\n",
       "confusion_matrix: <ultralytics.utils.metrics.ConfusionMatrix object at 0x7f9d42936c00>\n",
       "curves: ['Precision-Recall(B)', 'F1-Confidence(B)', 'Precision-Confidence(B)', 'Recall-Confidence(B)']\n",
       "curves_results: [[array([          0,    0.001001,    0.002002,    0.003003,    0.004004,    0.005005,    0.006006,    0.007007,    0.008008,    0.009009,     0.01001,    0.011011,    0.012012,    0.013013,    0.014014,    0.015015,    0.016016,    0.017017,    0.018018,    0.019019,     0.02002,    0.021021,    0.022022,    0.023023,\n",
       "          0.024024,    0.025025,    0.026026,    0.027027,    0.028028,    0.029029,     0.03003,    0.031031,    0.032032,    0.033033,    0.034034,    0.035035,    0.036036,    0.037037,    0.038038,    0.039039,     0.04004,    0.041041,    0.042042,    0.043043,    0.044044,    0.045045,    0.046046,    0.047047,\n",
       "          0.048048,    0.049049,     0.05005,    0.051051,    0.052052,    0.053053,    0.054054,    0.055055,    0.056056,    0.057057,    0.058058,    0.059059,     0.06006,    0.061061,    0.062062,    0.063063,    0.064064,    0.065065,    0.066066,    0.067067,    0.068068,    0.069069,     0.07007,    0.071071,\n",
       "          0.072072,    0.073073,    0.074074,    0.075075,    0.076076,    0.077077,    0.078078,    0.079079,     0.08008,    0.081081,    0.082082,    0.083083,    0.084084,    0.085085,    0.086086,    0.087087,    0.088088,    0.089089,     0.09009,    0.091091,    0.092092,    0.093093,    0.094094,    0.095095,\n",
       "          0.096096,    0.097097,    0.098098,    0.099099,      0.1001,      0.1011,      0.1021,      0.1031,      0.1041,     0.10511,     0.10611,     0.10711,     0.10811,     0.10911,     0.11011,     0.11111,     0.11211,     0.11311,     0.11411,     0.11512,     0.11612,     0.11712,     0.11812,     0.11912,\n",
       "           0.12012,     0.12112,     0.12212,     0.12312,     0.12412,     0.12513,     0.12613,     0.12713,     0.12813,     0.12913,     0.13013,     0.13113,     0.13213,     0.13313,     0.13413,     0.13514,     0.13614,     0.13714,     0.13814,     0.13914,     0.14014,     0.14114,     0.14214,     0.14314,\n",
       "           0.14414,     0.14515,     0.14615,     0.14715,     0.14815,     0.14915,     0.15015,     0.15115,     0.15215,     0.15315,     0.15415,     0.15516,     0.15616,     0.15716,     0.15816,     0.15916,     0.16016,     0.16116,     0.16216,     0.16316,     0.16416,     0.16517,     0.16617,     0.16717,\n",
       "           0.16817,     0.16917,     0.17017,     0.17117,     0.17217,     0.17317,     0.17417,     0.17518,     0.17618,     0.17718,     0.17818,     0.17918,     0.18018,     0.18118,     0.18218,     0.18318,     0.18418,     0.18519,     0.18619,     0.18719,     0.18819,     0.18919,     0.19019,     0.19119,\n",
       "           0.19219,     0.19319,     0.19419,      0.1952,      0.1962,      0.1972,      0.1982,      0.1992,      0.2002,      0.2012,      0.2022,      0.2032,      0.2042,     0.20521,     0.20621,     0.20721,     0.20821,     0.20921,     0.21021,     0.21121,     0.21221,     0.21321,     0.21421,     0.21522,\n",
       "           0.21622,     0.21722,     0.21822,     0.21922,     0.22022,     0.22122,     0.22222,     0.22322,     0.22422,     0.22523,     0.22623,     0.22723,     0.22823,     0.22923,     0.23023,     0.23123,     0.23223,     0.23323,     0.23423,     0.23524,     0.23624,     0.23724,     0.23824,     0.23924,\n",
       "           0.24024,     0.24124,     0.24224,     0.24324,     0.24424,     0.24525,     0.24625,     0.24725,     0.24825,     0.24925,     0.25025,     0.25125,     0.25225,     0.25325,     0.25425,     0.25526,     0.25626,     0.25726,     0.25826,     0.25926,     0.26026,     0.26126,     0.26226,     0.26326,\n",
       "           0.26426,     0.26527,     0.26627,     0.26727,     0.26827,     0.26927,     0.27027,     0.27127,     0.27227,     0.27327,     0.27427,     0.27528,     0.27628,     0.27728,     0.27828,     0.27928,     0.28028,     0.28128,     0.28228,     0.28328,     0.28428,     0.28529,     0.28629,     0.28729,\n",
       "           0.28829,     0.28929,     0.29029,     0.29129,     0.29229,     0.29329,     0.29429,      0.2953,      0.2963,      0.2973,      0.2983,      0.2993,      0.3003,      0.3013,      0.3023,      0.3033,      0.3043,     0.30531,     0.30631,     0.30731,     0.30831,     0.30931,     0.31031,     0.31131,\n",
       "           0.31231,     0.31331,     0.31431,     0.31532,     0.31632,     0.31732,     0.31832,     0.31932,     0.32032,     0.32132,     0.32232,     0.32332,     0.32432,     0.32533,     0.32633,     0.32733,     0.32833,     0.32933,     0.33033,     0.33133,     0.33233,     0.33333,     0.33433,     0.33534,\n",
       "           0.33634,     0.33734,     0.33834,     0.33934,     0.34034,     0.34134,     0.34234,     0.34334,     0.34434,     0.34535,     0.34635,     0.34735,     0.34835,     0.34935,     0.35035,     0.35135,     0.35235,     0.35335,     0.35435,     0.35536,     0.35636,     0.35736,     0.35836,     0.35936,\n",
       "           0.36036,     0.36136,     0.36236,     0.36336,     0.36436,     0.36537,     0.36637,     0.36737,     0.36837,     0.36937,     0.37037,     0.37137,     0.37237,     0.37337,     0.37437,     0.37538,     0.37638,     0.37738,     0.37838,     0.37938,     0.38038,     0.38138,     0.38238,     0.38338,\n",
       "           0.38438,     0.38539,     0.38639,     0.38739,     0.38839,     0.38939,     0.39039,     0.39139,     0.39239,     0.39339,     0.39439,      0.3954,      0.3964,      0.3974,      0.3984,      0.3994,      0.4004,      0.4014,      0.4024,      0.4034,      0.4044,     0.40541,     0.40641,     0.40741,\n",
       "           0.40841,     0.40941,     0.41041,     0.41141,     0.41241,     0.41341,     0.41441,     0.41542,     0.41642,     0.41742,     0.41842,     0.41942,     0.42042,     0.42142,     0.42242,     0.42342,     0.42442,     0.42543,     0.42643,     0.42743,     0.42843,     0.42943,     0.43043,     0.43143,\n",
       "           0.43243,     0.43343,     0.43443,     0.43544,     0.43644,     0.43744,     0.43844,     0.43944,     0.44044,     0.44144,     0.44244,     0.44344,     0.44444,     0.44545,     0.44645,     0.44745,     0.44845,     0.44945,     0.45045,     0.45145,     0.45245,     0.45345,     0.45445,     0.45546,\n",
       "           0.45646,     0.45746,     0.45846,     0.45946,     0.46046,     0.46146,     0.46246,     0.46346,     0.46446,     0.46547,     0.46647,     0.46747,     0.46847,     0.46947,     0.47047,     0.47147,     0.47247,     0.47347,     0.47447,     0.47548,     0.47648,     0.47748,     0.47848,     0.47948,\n",
       "           0.48048,     0.48148,     0.48248,     0.48348,     0.48448,     0.48549,     0.48649,     0.48749,     0.48849,     0.48949,     0.49049,     0.49149,     0.49249,     0.49349,     0.49449,      0.4955,      0.4965,      0.4975,      0.4985,      0.4995,      0.5005,      0.5015,      0.5025,      0.5035,\n",
       "            0.5045,     0.50551,     0.50651,     0.50751,     0.50851,     0.50951,     0.51051,     0.51151,     0.51251,     0.51351,     0.51451,     0.51552,     0.51652,     0.51752,     0.51852,     0.51952,     0.52052,     0.52152,     0.52252,     0.52352,     0.52452,     0.52553,     0.52653,     0.52753,\n",
       "           0.52853,     0.52953,     0.53053,     0.53153,     0.53253,     0.53353,     0.53453,     0.53554,     0.53654,     0.53754,     0.53854,     0.53954,     0.54054,     0.54154,     0.54254,     0.54354,     0.54454,     0.54555,     0.54655,     0.54755,     0.54855,     0.54955,     0.55055,     0.55155,\n",
       "           0.55255,     0.55355,     0.55455,     0.55556,     0.55656,     0.55756,     0.55856,     0.55956,     0.56056,     0.56156,     0.56256,     0.56356,     0.56456,     0.56557,     0.56657,     0.56757,     0.56857,     0.56957,     0.57057,     0.57157,     0.57257,     0.57357,     0.57457,     0.57558,\n",
       "           0.57658,     0.57758,     0.57858,     0.57958,     0.58058,     0.58158,     0.58258,     0.58358,     0.58458,     0.58559,     0.58659,     0.58759,     0.58859,     0.58959,     0.59059,     0.59159,     0.59259,     0.59359,     0.59459,      0.5956,      0.5966,      0.5976,      0.5986,      0.5996,\n",
       "            0.6006,      0.6016,      0.6026,      0.6036,      0.6046,     0.60561,     0.60661,     0.60761,     0.60861,     0.60961,     0.61061,     0.61161,     0.61261,     0.61361,     0.61461,     0.61562,     0.61662,     0.61762,     0.61862,     0.61962,     0.62062,     0.62162,     0.62262,     0.62362,\n",
       "           0.62462,     0.62563,     0.62663,     0.62763,     0.62863,     0.62963,     0.63063,     0.63163,     0.63263,     0.63363,     0.63463,     0.63564,     0.63664,     0.63764,     0.63864,     0.63964,     0.64064,     0.64164,     0.64264,     0.64364,     0.64464,     0.64565,     0.64665,     0.64765,\n",
       "           0.64865,     0.64965,     0.65065,     0.65165,     0.65265,     0.65365,     0.65465,     0.65566,     0.65666,     0.65766,     0.65866,     0.65966,     0.66066,     0.66166,     0.66266,     0.66366,     0.66466,     0.66567,     0.66667,     0.66767,     0.66867,     0.66967,     0.67067,     0.67167,\n",
       "           0.67267,     0.67367,     0.67467,     0.67568,     0.67668,     0.67768,     0.67868,     0.67968,     0.68068,     0.68168,     0.68268,     0.68368,     0.68468,     0.68569,     0.68669,     0.68769,     0.68869,     0.68969,     0.69069,     0.69169,     0.69269,     0.69369,     0.69469,      0.6957,\n",
       "            0.6967,      0.6977,      0.6987,      0.6997,      0.7007,      0.7017,      0.7027,      0.7037,      0.7047,     0.70571,     0.70671,     0.70771,     0.70871,     0.70971,     0.71071,     0.71171,     0.71271,     0.71371,     0.71471,     0.71572,     0.71672,     0.71772,     0.71872,     0.71972,\n",
       "           0.72072,     0.72172,     0.72272,     0.72372,     0.72472,     0.72573,     0.72673,     0.72773,     0.72873,     0.72973,     0.73073,     0.73173,     0.73273,     0.73373,     0.73473,     0.73574,     0.73674,     0.73774,     0.73874,     0.73974,     0.74074,     0.74174,     0.74274,     0.74374,\n",
       "           0.74474,     0.74575,     0.74675,     0.74775,     0.74875,     0.74975,     0.75075,     0.75175,     0.75275,     0.75375,     0.75475,     0.75576,     0.75676,     0.75776,     0.75876,     0.75976,     0.76076,     0.76176,     0.76276,     0.76376,     0.76476,     0.76577,     0.76677,     0.76777,\n",
       "           0.76877,     0.76977,     0.77077,     0.77177,     0.77277,     0.77377,     0.77477,     0.77578,     0.77678,     0.77778,     0.77878,     0.77978,     0.78078,     0.78178,     0.78278,     0.78378,     0.78478,     0.78579,     0.78679,     0.78779,     0.78879,     0.78979,     0.79079,     0.79179,\n",
       "           0.79279,     0.79379,     0.79479,      0.7958,      0.7968,      0.7978,      0.7988,      0.7998,      0.8008,      0.8018,      0.8028,      0.8038,      0.8048,     0.80581,     0.80681,     0.80781,     0.80881,     0.80981,     0.81081,     0.81181,     0.81281,     0.81381,     0.81481,     0.81582,\n",
       "           0.81682,     0.81782,     0.81882,     0.81982,     0.82082,     0.82182,     0.82282,     0.82382,     0.82482,     0.82583,     0.82683,     0.82783,     0.82883,     0.82983,     0.83083,     0.83183,     0.83283,     0.83383,     0.83483,     0.83584,     0.83684,     0.83784,     0.83884,     0.83984,\n",
       "           0.84084,     0.84184,     0.84284,     0.84384,     0.84484,     0.84585,     0.84685,     0.84785,     0.84885,     0.84985,     0.85085,     0.85185,     0.85285,     0.85385,     0.85485,     0.85586,     0.85686,     0.85786,     0.85886,     0.85986,     0.86086,     0.86186,     0.86286,     0.86386,\n",
       "           0.86486,     0.86587,     0.86687,     0.86787,     0.86887,     0.86987,     0.87087,     0.87187,     0.87287,     0.87387,     0.87487,     0.87588,     0.87688,     0.87788,     0.87888,     0.87988,     0.88088,     0.88188,     0.88288,     0.88388,     0.88488,     0.88589,     0.88689,     0.88789,\n",
       "           0.88889,     0.88989,     0.89089,     0.89189,     0.89289,     0.89389,     0.89489,      0.8959,      0.8969,      0.8979,      0.8989,      0.8999,      0.9009,      0.9019,      0.9029,      0.9039,      0.9049,     0.90591,     0.90691,     0.90791,     0.90891,     0.90991,     0.91091,     0.91191,\n",
       "           0.91291,     0.91391,     0.91491,     0.91592,     0.91692,     0.91792,     0.91892,     0.91992,     0.92092,     0.92192,     0.92292,     0.92392,     0.92492,     0.92593,     0.92693,     0.92793,     0.92893,     0.92993,     0.93093,     0.93193,     0.93293,     0.93393,     0.93493,     0.93594,\n",
       "           0.93694,     0.93794,     0.93894,     0.93994,     0.94094,     0.94194,     0.94294,     0.94394,     0.94494,     0.94595,     0.94695,     0.94795,     0.94895,     0.94995,     0.95095,     0.95195,     0.95295,     0.95395,     0.95495,     0.95596,     0.95696,     0.95796,     0.95896,     0.95996,\n",
       "           0.96096,     0.96196,     0.96296,     0.96396,     0.96496,     0.96597,     0.96697,     0.96797,     0.96897,     0.96997,     0.97097,     0.97197,     0.97297,     0.97397,     0.97497,     0.97598,     0.97698,     0.97798,     0.97898,     0.97998,     0.98098,     0.98198,     0.98298,     0.98398,\n",
       "           0.98498,     0.98599,     0.98699,     0.98799,     0.98899,     0.98999,     0.99099,     0.99199,     0.99299,     0.99399,     0.99499,       0.996,       0.997,       0.998,       0.999,           1]), array([[          1,           1,           1,           1,           1,           1,           1,           1,           1,           1,           1,           1,           1,           1,           1,           1,           1,           1,           1,           1,           1,           1,           1,\n",
       "                  1,           1,           1,           1,           1,           1,           1,           1,           1,           1,           1,           1,           1,           1,           1,           1,           1,           1,           1,           1,           1,           1,           1,\n",
       "                  1,           1,           1,           1,           1,           1,           1,           1,           1,           1,           1,           1,           1,           1,           1,           1,           1,           1,           1,           1,           1,           1,           1,\n",
       "                  1,           1,           1,           1,           1,           1,           1,           1,           1,           1,           1,           1,           1,           1,           1,           1,           1,           1,           1,           1,           1,           1,           1,\n",
       "                  1,           1,           1,           1,           1,           1,           1,           1,           1,           1,           1,           1,           1,           1,           1,           1,           1,           1,           1,           1,           1,           1,           1,\n",
       "                  1,           1,           1,           1,           1,           1,           1,           1,           1,           1,           1,           1,           1,           1,           1,           1,           1,           1,           1,           1,           1,           1,           1,\n",
       "                  1,           1,           1,           1,           1,           1,           1,           1,           1,           1,           1,           1,           1,           1,           1,           1,           1,           1,           1,           1,           1,           1,           1,\n",
       "                  1,           1,           1,           1,           1,           1,           1,           1,           1,           1,           1,           1,           1,           1,           1,           1,           1,           1,           1,           1,           1,           1,           1,\n",
       "                  1,           1,           1,           1,           1,           1,           1,           1,           1,           1,           1,           1,           1,           1,           1,           1,           1,           1,           1,           1,           1,           1,           1,\n",
       "                  1,           1,           1,           1,           1,           1,           1,           1,           1,           1,           1,           1,           1,           1,           1,           1,           1,           1,           1,           1,           1,           1,           1,\n",
       "                  1,           1,           1,           1,           1,           1,           1,           1,           1,           1,           1,           1,           1,           1,           1,           1,           1,           1,           1,           1,           1,           1,           1,\n",
       "                  1,           1,           1,           1,           1,           1,           1,           1,           1,           1,           1,           1,           1,           1,           1,           1,           1,           1,           1,           1,           1,           1,           1,\n",
       "                  1,           1,           1,           1,           1,           1,           1,           1,           1,           1,           1,           1,           1,           1,           1,           1,           1,           1,           1,           1,           1,           1,           1,\n",
       "                  1,           1,           1,           1,           1,           1,           1,           1,           1,           1,           1,           1,           1,           1,           1,           1,           1,           1,           1,           1,           1,           1,           1,\n",
       "                  1,           1,           1,           1,           1,           1,           1,           1,           1,           1,           1,           1,           1,           1,           1,           1,           1,           1,           1,           1,           1,           1,           1,\n",
       "                  1,           1,           1,           1,           1,           1,           1,           1,           1,           1,           1,           1,           1,           1,           1,           1,           1,           1,           1,           1,           1,           1,           1,\n",
       "                  1,           1,           1,           1,           1,           1,           1,           1,           1,           1,           1,           1,           1,           1,           1,           1,           1,           1,           1,           1,           1,           1,           1,\n",
       "                  1,           1,           1,           1,           1,     0.99398,     0.99398,     0.99398,     0.99398,     0.99398,     0.99398,     0.99398,     0.99398,     0.99398,     0.99398,     0.99398,     0.99398,     0.99398,     0.99398,     0.99398,      0.9908,      0.9908,      0.9908,\n",
       "             0.9908,      0.9908,      0.9908,      0.9908,      0.9908,      0.9908,      0.9908,      0.9908,      0.9908,      0.9908,      0.9908,      0.9908,      0.9908,      0.9908,      0.9908,      0.9908,      0.9908,      0.9908,      0.9908,      0.9908,      0.9908,      0.9908,      0.9908,\n",
       "             0.9908,      0.9908,      0.9908,      0.9908,      0.9908,      0.9908,      0.9908,      0.9908,      0.9908,      0.9908,      0.9908,      0.9908,      0.9908,      0.9908,      0.9908,      0.9908,      0.9908,      0.9908,      0.9908,      0.9908,      0.9908,      0.9908,      0.9908,\n",
       "             0.9908,      0.9908,      0.9908,      0.9908,      0.9908,      0.9908,      0.9908,      0.9908,      0.9908,      0.9908,      0.9908,      0.9908,      0.9908,      0.9908,      0.9908,      0.9908,      0.9908,      0.9908,      0.9908,      0.9908,      0.9908,      0.9908,      0.9908,\n",
       "             0.9908,      0.9908,      0.9908,      0.9908,      0.9908,      0.9908,      0.9908,      0.9908,      0.9908,      0.9908,      0.9908,      0.9908,      0.9908,      0.9908,      0.9908,      0.9908,      0.9908,      0.9908,      0.9908,      0.9908,      0.9908,      0.9908,      0.9908,\n",
       "             0.9908,      0.9908,      0.9908,      0.9908,      0.9908,      0.9908,      0.9908,      0.9908,      0.9908,      0.9908,      0.9908,      0.9908,      0.9908,      0.9908,      0.9908,      0.9908,      0.9908,      0.9908,      0.9908,      0.9908,      0.9908,      0.9908,      0.9908,\n",
       "             0.9908,      0.9908,      0.9908,      0.9908,      0.9908,      0.9908,      0.9908,      0.9908,      0.9908,      0.9908,      0.9908,      0.9908,      0.9908,      0.9908,      0.9908,      0.9908,      0.9908,      0.9908,      0.9908,      0.9908,      0.9908,      0.9908,      0.9908,\n",
       "             0.9908,      0.9908,      0.9908,      0.9908,      0.9908,      0.9908,      0.9908,      0.9908,      0.9908,      0.9908,      0.9908,      0.9908,      0.9908,      0.9908,      0.9908,      0.9908,      0.9908,      0.9908,      0.9908,      0.9908,      0.9908,      0.9908,      0.9908,\n",
       "             0.9908,      0.9908,      0.9908,      0.9908,      0.9908,      0.9908,      0.9908,      0.9908,      0.9908,      0.9908,      0.9908,      0.9908,      0.9908,      0.9908,      0.9908,      0.9908,      0.9908,      0.9908,      0.9908,      0.9908,      0.9908,      0.9908,      0.9908,\n",
       "             0.9908,      0.9908,      0.9908,      0.9908,      0.9908,      0.9908,      0.9908,      0.9908,      0.9908,      0.9908,      0.9908,      0.9908,      0.9908,      0.9908,      0.9908,      0.9908,      0.9908,      0.9908,      0.9908,      0.9908,      0.9908,      0.9908,      0.9908,\n",
       "             0.9908,      0.9908,      0.9908,      0.9908,      0.9908,      0.9908,      0.9908,      0.9908,      0.9908,      0.9908,      0.9908,      0.9908,      0.9908,      0.9908,      0.9908,      0.9908,      0.9908,      0.9908,      0.9908,      0.9908,      0.9908,      0.9908,      0.9908,\n",
       "             0.9908,      0.9908,      0.9908,      0.9908,      0.9908,      0.9908,      0.9908,      0.9908,      0.9908,      0.9908,      0.9908,      0.9908,      0.9908,      0.9908,      0.9908,      0.9908,      0.9908,      0.9908,      0.9908,      0.9908,      0.9908,      0.9908,      0.9908,\n",
       "             0.9908,      0.9908,      0.9908,      0.9908,      0.9908,      0.9908,      0.9908,      0.9908,      0.9908,      0.9908,      0.9908,      0.9908,      0.9908,      0.9908,      0.9908,      0.9908,      0.9908,      0.9908,      0.9908,      0.9908,      0.9908,      0.9908,      0.9908,\n",
       "             0.9908,      0.9908,      0.9908,      0.9908,      0.9908,      0.9908,      0.9908,      0.9908,      0.9908,      0.9908,      0.9908,      0.9908,      0.9908,      0.9908,      0.9908,      0.9908,      0.9908,      0.9908,      0.9908,      0.9908,      0.9908,      0.9908,      0.9908,\n",
       "             0.9908,      0.9908,      0.9908,      0.9908,      0.9908,      0.9908,      0.9908,      0.9908,      0.9908,      0.9908,      0.9908,      0.9908,      0.9908,      0.9908,      0.9908,      0.9908,      0.9908,      0.9908,      0.9908,      0.9908,      0.9908,      0.9908,      0.9908,\n",
       "             0.9908,      0.9908,      0.9908,      0.9908,      0.9908,      0.9908,      0.9908,      0.9908,      0.9908,      0.9908,      0.9908,      0.9908,      0.9908,      0.9908,      0.9908,      0.9908,      0.9908,      0.9908,      0.9908,      0.9908,      0.9908,      0.9908,      0.9908,\n",
       "             0.9908,      0.9908,      0.9908,      0.9908,      0.9908,      0.9908,      0.9908,      0.9908,      0.9908,      0.9908,      0.9908,      0.9908,      0.9908,      0.9908,      0.9908,      0.9908,      0.9908,      0.9908,      0.9908,      0.9908,      0.9908,      0.9908,      0.9908,\n",
       "             0.9908,      0.9908,      0.9908,      0.9908,      0.9908,      0.9908,      0.9908,      0.9908,      0.9908,      0.9908,      0.9908,      0.9908,      0.9908,      0.9908,      0.9908,      0.9908,      0.9908,      0.9908,      0.9908,      0.9908,      0.9908,     0.98922,     0.98922,\n",
       "            0.98922,     0.98922,     0.98922,     0.98922,     0.98922,     0.98922,     0.98922,     0.98922,     0.98922,     0.98922,     0.98922,     0.98922,     0.98922,     0.98922,     0.98922,     0.98922,     0.98922,     0.98922,     0.98922,     0.98922,     0.98922,     0.98922,     0.98922,\n",
       "            0.98922,     0.98922,     0.98922,     0.98922,     0.98922,     0.98922,     0.98922,     0.98922,     0.98922,     0.98922,     0.98922,     0.98922,     0.98922,     0.98922,     0.98922,     0.98922,     0.98922,     0.98922,     0.98922,     0.98922,     0.98922,     0.98922,     0.98922,\n",
       "            0.98922,     0.98922,     0.98922,     0.98922,     0.98922,     0.98922,     0.98922,     0.98922,     0.98922,     0.98922,     0.98922,     0.98922,     0.98922,     0.98922,     0.98922,     0.98922,     0.98922,     0.98922,     0.98922,     0.98922,     0.98922,     0.98922,     0.98922,\n",
       "            0.98922,     0.98922,     0.98922,     0.98922,     0.98922,     0.98922,     0.98922,     0.98922,     0.98922,     0.98922,     0.98922,     0.98922,     0.98922,     0.98922,     0.98922,     0.98922,     0.98922,     0.98922,     0.98922,     0.98922,     0.98922,     0.98922,     0.98922,\n",
       "            0.98922,     0.98922,     0.98922,     0.98922,     0.98922,     0.98922,     0.98922,     0.98922,     0.98922,     0.98922,     0.98922,     0.98922,     0.98922,     0.98922,     0.98922,     0.98922,      0.9867,      0.9867,      0.9867,      0.9867,      0.9867,      0.9867,      0.9867,\n",
       "             0.9867,      0.9867,     0.98421,     0.98421,     0.98421,     0.98421,     0.98421,     0.98421,     0.98421,     0.98421,     0.98172,     0.98172,     0.98172,     0.98172,     0.98172,     0.97938,     0.97938,     0.97938,     0.97938,     0.97938,     0.97938,     0.97938,     0.97938,\n",
       "            0.97938,     0.97938,     0.97733,     0.97733,     0.97733,     0.97733,     0.97733,     0.97733,     0.97733,     0.97733,     0.97733,     0.97733,     0.97733,     0.97733,     0.97733,     0.97733,     0.97733,     0.97733,     0.97733,     0.97733,     0.97733,     0.97733,     0.97494,\n",
       "            0.97494,     0.96535,     0.96535,     0.96535,     0.95134,     0.95134,     0.94915,     0.94915,     0.94915,     0.94712,     0.94712,     0.94712,     0.94712,     0.94712,     0.92506,     0.92506,     0.92308,     0.92308,     0.92308,     0.60243,     0.60243,     0.57483,     0.52692,\n",
       "            0.47902,     0.43112,     0.38322,     0.33532,     0.28741,     0.23951,     0.19161,     0.14371,    0.095804,    0.047902,           0]]), 'Recall', 'Precision'], [array([          0,    0.001001,    0.002002,    0.003003,    0.004004,    0.005005,    0.006006,    0.007007,    0.008008,    0.009009,     0.01001,    0.011011,    0.012012,    0.013013,    0.014014,    0.015015,    0.016016,    0.017017,    0.018018,    0.019019,     0.02002,    0.021021,    0.022022,    0.023023,\n",
       "          0.024024,    0.025025,    0.026026,    0.027027,    0.028028,    0.029029,     0.03003,    0.031031,    0.032032,    0.033033,    0.034034,    0.035035,    0.036036,    0.037037,    0.038038,    0.039039,     0.04004,    0.041041,    0.042042,    0.043043,    0.044044,    0.045045,    0.046046,    0.047047,\n",
       "          0.048048,    0.049049,     0.05005,    0.051051,    0.052052,    0.053053,    0.054054,    0.055055,    0.056056,    0.057057,    0.058058,    0.059059,     0.06006,    0.061061,    0.062062,    0.063063,    0.064064,    0.065065,    0.066066,    0.067067,    0.068068,    0.069069,     0.07007,    0.071071,\n",
       "          0.072072,    0.073073,    0.074074,    0.075075,    0.076076,    0.077077,    0.078078,    0.079079,     0.08008,    0.081081,    0.082082,    0.083083,    0.084084,    0.085085,    0.086086,    0.087087,    0.088088,    0.089089,     0.09009,    0.091091,    0.092092,    0.093093,    0.094094,    0.095095,\n",
       "          0.096096,    0.097097,    0.098098,    0.099099,      0.1001,      0.1011,      0.1021,      0.1031,      0.1041,     0.10511,     0.10611,     0.10711,     0.10811,     0.10911,     0.11011,     0.11111,     0.11211,     0.11311,     0.11411,     0.11512,     0.11612,     0.11712,     0.11812,     0.11912,\n",
       "           0.12012,     0.12112,     0.12212,     0.12312,     0.12412,     0.12513,     0.12613,     0.12713,     0.12813,     0.12913,     0.13013,     0.13113,     0.13213,     0.13313,     0.13413,     0.13514,     0.13614,     0.13714,     0.13814,     0.13914,     0.14014,     0.14114,     0.14214,     0.14314,\n",
       "           0.14414,     0.14515,     0.14615,     0.14715,     0.14815,     0.14915,     0.15015,     0.15115,     0.15215,     0.15315,     0.15415,     0.15516,     0.15616,     0.15716,     0.15816,     0.15916,     0.16016,     0.16116,     0.16216,     0.16316,     0.16416,     0.16517,     0.16617,     0.16717,\n",
       "           0.16817,     0.16917,     0.17017,     0.17117,     0.17217,     0.17317,     0.17417,     0.17518,     0.17618,     0.17718,     0.17818,     0.17918,     0.18018,     0.18118,     0.18218,     0.18318,     0.18418,     0.18519,     0.18619,     0.18719,     0.18819,     0.18919,     0.19019,     0.19119,\n",
       "           0.19219,     0.19319,     0.19419,      0.1952,      0.1962,      0.1972,      0.1982,      0.1992,      0.2002,      0.2012,      0.2022,      0.2032,      0.2042,     0.20521,     0.20621,     0.20721,     0.20821,     0.20921,     0.21021,     0.21121,     0.21221,     0.21321,     0.21421,     0.21522,\n",
       "           0.21622,     0.21722,     0.21822,     0.21922,     0.22022,     0.22122,     0.22222,     0.22322,     0.22422,     0.22523,     0.22623,     0.22723,     0.22823,     0.22923,     0.23023,     0.23123,     0.23223,     0.23323,     0.23423,     0.23524,     0.23624,     0.23724,     0.23824,     0.23924,\n",
       "           0.24024,     0.24124,     0.24224,     0.24324,     0.24424,     0.24525,     0.24625,     0.24725,     0.24825,     0.24925,     0.25025,     0.25125,     0.25225,     0.25325,     0.25425,     0.25526,     0.25626,     0.25726,     0.25826,     0.25926,     0.26026,     0.26126,     0.26226,     0.26326,\n",
       "           0.26426,     0.26527,     0.26627,     0.26727,     0.26827,     0.26927,     0.27027,     0.27127,     0.27227,     0.27327,     0.27427,     0.27528,     0.27628,     0.27728,     0.27828,     0.27928,     0.28028,     0.28128,     0.28228,     0.28328,     0.28428,     0.28529,     0.28629,     0.28729,\n",
       "           0.28829,     0.28929,     0.29029,     0.29129,     0.29229,     0.29329,     0.29429,      0.2953,      0.2963,      0.2973,      0.2983,      0.2993,      0.3003,      0.3013,      0.3023,      0.3033,      0.3043,     0.30531,     0.30631,     0.30731,     0.30831,     0.30931,     0.31031,     0.31131,\n",
       "           0.31231,     0.31331,     0.31431,     0.31532,     0.31632,     0.31732,     0.31832,     0.31932,     0.32032,     0.32132,     0.32232,     0.32332,     0.32432,     0.32533,     0.32633,     0.32733,     0.32833,     0.32933,     0.33033,     0.33133,     0.33233,     0.33333,     0.33433,     0.33534,\n",
       "           0.33634,     0.33734,     0.33834,     0.33934,     0.34034,     0.34134,     0.34234,     0.34334,     0.34434,     0.34535,     0.34635,     0.34735,     0.34835,     0.34935,     0.35035,     0.35135,     0.35235,     0.35335,     0.35435,     0.35536,     0.35636,     0.35736,     0.35836,     0.35936,\n",
       "           0.36036,     0.36136,     0.36236,     0.36336,     0.36436,     0.36537,     0.36637,     0.36737,     0.36837,     0.36937,     0.37037,     0.37137,     0.37237,     0.37337,     0.37437,     0.37538,     0.37638,     0.37738,     0.37838,     0.37938,     0.38038,     0.38138,     0.38238,     0.38338,\n",
       "           0.38438,     0.38539,     0.38639,     0.38739,     0.38839,     0.38939,     0.39039,     0.39139,     0.39239,     0.39339,     0.39439,      0.3954,      0.3964,      0.3974,      0.3984,      0.3994,      0.4004,      0.4014,      0.4024,      0.4034,      0.4044,     0.40541,     0.40641,     0.40741,\n",
       "           0.40841,     0.40941,     0.41041,     0.41141,     0.41241,     0.41341,     0.41441,     0.41542,     0.41642,     0.41742,     0.41842,     0.41942,     0.42042,     0.42142,     0.42242,     0.42342,     0.42442,     0.42543,     0.42643,     0.42743,     0.42843,     0.42943,     0.43043,     0.43143,\n",
       "           0.43243,     0.43343,     0.43443,     0.43544,     0.43644,     0.43744,     0.43844,     0.43944,     0.44044,     0.44144,     0.44244,     0.44344,     0.44444,     0.44545,     0.44645,     0.44745,     0.44845,     0.44945,     0.45045,     0.45145,     0.45245,     0.45345,     0.45445,     0.45546,\n",
       "           0.45646,     0.45746,     0.45846,     0.45946,     0.46046,     0.46146,     0.46246,     0.46346,     0.46446,     0.46547,     0.46647,     0.46747,     0.46847,     0.46947,     0.47047,     0.47147,     0.47247,     0.47347,     0.47447,     0.47548,     0.47648,     0.47748,     0.47848,     0.47948,\n",
       "           0.48048,     0.48148,     0.48248,     0.48348,     0.48448,     0.48549,     0.48649,     0.48749,     0.48849,     0.48949,     0.49049,     0.49149,     0.49249,     0.49349,     0.49449,      0.4955,      0.4965,      0.4975,      0.4985,      0.4995,      0.5005,      0.5015,      0.5025,      0.5035,\n",
       "            0.5045,     0.50551,     0.50651,     0.50751,     0.50851,     0.50951,     0.51051,     0.51151,     0.51251,     0.51351,     0.51451,     0.51552,     0.51652,     0.51752,     0.51852,     0.51952,     0.52052,     0.52152,     0.52252,     0.52352,     0.52452,     0.52553,     0.52653,     0.52753,\n",
       "           0.52853,     0.52953,     0.53053,     0.53153,     0.53253,     0.53353,     0.53453,     0.53554,     0.53654,     0.53754,     0.53854,     0.53954,     0.54054,     0.54154,     0.54254,     0.54354,     0.54454,     0.54555,     0.54655,     0.54755,     0.54855,     0.54955,     0.55055,     0.55155,\n",
       "           0.55255,     0.55355,     0.55455,     0.55556,     0.55656,     0.55756,     0.55856,     0.55956,     0.56056,     0.56156,     0.56256,     0.56356,     0.56456,     0.56557,     0.56657,     0.56757,     0.56857,     0.56957,     0.57057,     0.57157,     0.57257,     0.57357,     0.57457,     0.57558,\n",
       "           0.57658,     0.57758,     0.57858,     0.57958,     0.58058,     0.58158,     0.58258,     0.58358,     0.58458,     0.58559,     0.58659,     0.58759,     0.58859,     0.58959,     0.59059,     0.59159,     0.59259,     0.59359,     0.59459,      0.5956,      0.5966,      0.5976,      0.5986,      0.5996,\n",
       "            0.6006,      0.6016,      0.6026,      0.6036,      0.6046,     0.60561,     0.60661,     0.60761,     0.60861,     0.60961,     0.61061,     0.61161,     0.61261,     0.61361,     0.61461,     0.61562,     0.61662,     0.61762,     0.61862,     0.61962,     0.62062,     0.62162,     0.62262,     0.62362,\n",
       "           0.62462,     0.62563,     0.62663,     0.62763,     0.62863,     0.62963,     0.63063,     0.63163,     0.63263,     0.63363,     0.63463,     0.63564,     0.63664,     0.63764,     0.63864,     0.63964,     0.64064,     0.64164,     0.64264,     0.64364,     0.64464,     0.64565,     0.64665,     0.64765,\n",
       "           0.64865,     0.64965,     0.65065,     0.65165,     0.65265,     0.65365,     0.65465,     0.65566,     0.65666,     0.65766,     0.65866,     0.65966,     0.66066,     0.66166,     0.66266,     0.66366,     0.66466,     0.66567,     0.66667,     0.66767,     0.66867,     0.66967,     0.67067,     0.67167,\n",
       "           0.67267,     0.67367,     0.67467,     0.67568,     0.67668,     0.67768,     0.67868,     0.67968,     0.68068,     0.68168,     0.68268,     0.68368,     0.68468,     0.68569,     0.68669,     0.68769,     0.68869,     0.68969,     0.69069,     0.69169,     0.69269,     0.69369,     0.69469,      0.6957,\n",
       "            0.6967,      0.6977,      0.6987,      0.6997,      0.7007,      0.7017,      0.7027,      0.7037,      0.7047,     0.70571,     0.70671,     0.70771,     0.70871,     0.70971,     0.71071,     0.71171,     0.71271,     0.71371,     0.71471,     0.71572,     0.71672,     0.71772,     0.71872,     0.71972,\n",
       "           0.72072,     0.72172,     0.72272,     0.72372,     0.72472,     0.72573,     0.72673,     0.72773,     0.72873,     0.72973,     0.73073,     0.73173,     0.73273,     0.73373,     0.73473,     0.73574,     0.73674,     0.73774,     0.73874,     0.73974,     0.74074,     0.74174,     0.74274,     0.74374,\n",
       "           0.74474,     0.74575,     0.74675,     0.74775,     0.74875,     0.74975,     0.75075,     0.75175,     0.75275,     0.75375,     0.75475,     0.75576,     0.75676,     0.75776,     0.75876,     0.75976,     0.76076,     0.76176,     0.76276,     0.76376,     0.76476,     0.76577,     0.76677,     0.76777,\n",
       "           0.76877,     0.76977,     0.77077,     0.77177,     0.77277,     0.77377,     0.77477,     0.77578,     0.77678,     0.77778,     0.77878,     0.77978,     0.78078,     0.78178,     0.78278,     0.78378,     0.78478,     0.78579,     0.78679,     0.78779,     0.78879,     0.78979,     0.79079,     0.79179,\n",
       "           0.79279,     0.79379,     0.79479,      0.7958,      0.7968,      0.7978,      0.7988,      0.7998,      0.8008,      0.8018,      0.8028,      0.8038,      0.8048,     0.80581,     0.80681,     0.80781,     0.80881,     0.80981,     0.81081,     0.81181,     0.81281,     0.81381,     0.81481,     0.81582,\n",
       "           0.81682,     0.81782,     0.81882,     0.81982,     0.82082,     0.82182,     0.82282,     0.82382,     0.82482,     0.82583,     0.82683,     0.82783,     0.82883,     0.82983,     0.83083,     0.83183,     0.83283,     0.83383,     0.83483,     0.83584,     0.83684,     0.83784,     0.83884,     0.83984,\n",
       "           0.84084,     0.84184,     0.84284,     0.84384,     0.84484,     0.84585,     0.84685,     0.84785,     0.84885,     0.84985,     0.85085,     0.85185,     0.85285,     0.85385,     0.85485,     0.85586,     0.85686,     0.85786,     0.85886,     0.85986,     0.86086,     0.86186,     0.86286,     0.86386,\n",
       "           0.86486,     0.86587,     0.86687,     0.86787,     0.86887,     0.86987,     0.87087,     0.87187,     0.87287,     0.87387,     0.87487,     0.87588,     0.87688,     0.87788,     0.87888,     0.87988,     0.88088,     0.88188,     0.88288,     0.88388,     0.88488,     0.88589,     0.88689,     0.88789,\n",
       "           0.88889,     0.88989,     0.89089,     0.89189,     0.89289,     0.89389,     0.89489,      0.8959,      0.8969,      0.8979,      0.8989,      0.8999,      0.9009,      0.9019,      0.9029,      0.9039,      0.9049,     0.90591,     0.90691,     0.90791,     0.90891,     0.90991,     0.91091,     0.91191,\n",
       "           0.91291,     0.91391,     0.91491,     0.91592,     0.91692,     0.91792,     0.91892,     0.91992,     0.92092,     0.92192,     0.92292,     0.92392,     0.92492,     0.92593,     0.92693,     0.92793,     0.92893,     0.92993,     0.93093,     0.93193,     0.93293,     0.93393,     0.93493,     0.93594,\n",
       "           0.93694,     0.93794,     0.93894,     0.93994,     0.94094,     0.94194,     0.94294,     0.94394,     0.94494,     0.94595,     0.94695,     0.94795,     0.94895,     0.94995,     0.95095,     0.95195,     0.95295,     0.95395,     0.95495,     0.95596,     0.95696,     0.95796,     0.95896,     0.95996,\n",
       "           0.96096,     0.96196,     0.96296,     0.96396,     0.96496,     0.96597,     0.96697,     0.96797,     0.96897,     0.96997,     0.97097,     0.97197,     0.97297,     0.97397,     0.97497,     0.97598,     0.97698,     0.97798,     0.97898,     0.97998,     0.98098,     0.98198,     0.98298,     0.98398,\n",
       "           0.98498,     0.98599,     0.98699,     0.98799,     0.98899,     0.98999,     0.99099,     0.99199,     0.99299,     0.99399,     0.99499,       0.996,       0.997,       0.998,       0.999,           1]), array([[    0.74275,      0.7428,      0.8241,     0.85929,       0.881,     0.89318,     0.90176,     0.90846,     0.91205,     0.91802,     0.92287,     0.92687,     0.92974,     0.93197,     0.93249,     0.93404,     0.93582,     0.93786,     0.93983,     0.94062,     0.94288,     0.94522,     0.94639,\n",
       "              0.947,     0.94815,     0.94965,     0.94992,     0.95018,     0.95044,      0.9507,     0.95208,     0.95221,     0.95263,     0.95284,     0.95228,     0.95172,     0.95188,     0.95209,     0.95229,     0.95249,      0.9527,     0.95296,     0.95339,     0.95382,     0.95522,     0.95538,\n",
       "            0.95554,      0.9557,     0.95585,     0.95601,     0.95617,     0.95632,     0.95637,     0.95641,     0.95646,     0.95651,     0.95656,     0.95661,     0.95666,     0.95671,     0.95676,     0.95681,     0.95686,     0.95691,     0.95696,     0.95701,     0.95706,     0.95711,     0.95716,\n",
       "            0.95721,     0.95726,     0.95731,     0.95736,     0.95741,     0.95746,      0.9575,     0.95755,     0.95759,     0.95763,     0.95768,     0.95772,     0.95777,     0.95781,     0.95785,      0.9579,     0.95794,     0.95799,     0.95803,     0.95807,     0.95812,     0.95816,      0.9582,\n",
       "            0.95825,     0.95829,     0.95834,     0.95838,     0.95842,     0.95847,     0.95851,     0.95855,      0.9586,     0.95867,     0.95899,     0.95932,     0.95964,     0.95992,     0.96014,     0.96036,     0.96058,      0.9608,     0.96098,     0.96102,     0.96105,     0.96108,     0.96112,\n",
       "            0.96115,     0.96119,     0.96122,     0.96126,     0.96129,     0.96132,     0.96136,     0.96139,     0.96143,     0.96146,      0.9615,     0.96153,     0.96156,      0.9616,     0.96163,     0.96167,      0.9617,     0.96174,     0.96177,      0.9618,     0.96184,     0.96187,     0.96191,\n",
       "            0.96194,     0.96198,     0.96201,     0.96204,     0.96208,     0.96211,     0.96215,     0.96219,     0.96223,     0.96228,     0.96232,     0.96236,     0.96241,     0.96245,     0.96249,     0.96254,     0.96258,     0.96262,     0.96266,     0.96271,     0.96275,     0.96279,     0.96284,\n",
       "            0.96288,     0.96292,     0.96297,     0.96301,     0.96305,      0.9631,     0.96314,     0.96318,     0.96323,     0.96327,     0.96331,     0.96329,     0.96325,     0.96321,     0.96316,     0.96312,     0.96308,     0.96303,     0.96299,     0.96295,      0.9629,     0.96286,     0.96282,\n",
       "            0.96277,     0.96273,     0.96269,     0.96264,      0.9626,     0.96256,     0.96251,     0.96247,     0.96242,     0.96238,     0.96234,     0.96229,     0.96225,     0.96221,     0.96216,     0.96212,     0.96208,     0.96194,     0.96171,     0.96149,     0.96126,     0.96103,     0.96081,\n",
       "            0.96162,     0.96195,     0.96192,      0.9619,     0.96187,     0.96185,     0.96182,      0.9618,     0.96177,     0.96175,     0.96173,      0.9617,     0.96168,     0.96165,     0.96163,      0.9616,     0.96158,     0.96155,     0.96153,      0.9615,     0.96148,     0.96145,     0.96143,\n",
       "             0.9614,     0.96138,     0.96136,     0.96133,     0.96131,     0.96128,     0.96126,     0.96123,     0.96121,     0.96118,     0.96116,     0.96113,     0.96111,     0.96108,     0.96106,     0.96103,     0.96101,     0.96098,     0.96096,     0.96094,     0.96091,     0.96089,     0.96086,\n",
       "            0.96084,     0.96081,     0.96079,     0.96076,     0.96074,     0.96071,     0.96069,     0.96077,     0.96084,     0.96092,       0.961,     0.96108,     0.96116,     0.96124,     0.96132,      0.9614,     0.96148,     0.96156,     0.96163,     0.96171,     0.96179,     0.96187,     0.96184,\n",
       "            0.96182,      0.9618,     0.96177,     0.96175,     0.96172,      0.9617,     0.96167,     0.96165,     0.96162,      0.9616,     0.96157,     0.96155,     0.96152,      0.9615,     0.96147,     0.96145,     0.96142,      0.9614,     0.96137,     0.96135,     0.96132,      0.9613,     0.96128,\n",
       "            0.96125,     0.96123,      0.9612,     0.96118,     0.96115,     0.96113,      0.9611,     0.96108,     0.96105,     0.96103,       0.961,     0.96098,     0.96095,     0.96093,      0.9609,     0.96088,     0.96085,     0.96083,      0.9608,     0.96078,     0.96075,     0.96073,     0.96071,\n",
       "            0.96068,     0.96066,     0.96063,     0.96061,     0.96065,     0.96079,     0.96093,     0.96107,     0.96121,     0.96135,     0.96149,     0.96163,     0.96177,     0.96184,      0.9619,     0.96197,     0.96203,      0.9621,     0.96216,     0.96223,     0.96229,     0.96236,     0.96242,\n",
       "            0.96249,     0.96255,     0.96262,     0.96268,     0.96275,     0.96281,     0.96288,     0.96294,     0.96301,     0.96308,     0.96315,     0.96323,      0.9633,     0.96337,     0.96344,     0.96352,     0.96359,     0.96366,     0.96373,      0.9638,     0.96388,     0.96395,     0.96402,\n",
       "            0.96409,     0.96416,     0.96419,     0.96423,     0.96426,      0.9643,     0.96433,     0.96437,      0.9644,     0.96444,     0.96447,     0.96451,     0.96454,     0.96458,     0.96462,     0.96465,     0.96469,     0.96472,     0.96476,     0.96479,     0.96483,     0.96486,      0.9649,\n",
       "            0.96493,     0.96497,       0.965,     0.96504,     0.96507,     0.96511,     0.96514,     0.96518,     0.96521,     0.96525,     0.96528,     0.96532,     0.96535,     0.96538,     0.96541,     0.96544,     0.96547,      0.9655,     0.96552,     0.96555,     0.96558,     0.96561,     0.96564,\n",
       "            0.96567,      0.9657,     0.96573,     0.96576,     0.96578,     0.96581,     0.96584,     0.96587,      0.9659,     0.96593,     0.96596,     0.96599,     0.96602,     0.96605,     0.96607,      0.9661,     0.96613,     0.96616,     0.96619,     0.96622,     0.96625,     0.96628,     0.96631,\n",
       "            0.96633,     0.96636,     0.96639,     0.96642,     0.96645,     0.96648,     0.96651,     0.96654,     0.96658,     0.96663,     0.96668,     0.96672,     0.96677,     0.96682,     0.96687,     0.96692,     0.96697,     0.96701,     0.96706,     0.96711,     0.96716,     0.96721,     0.96725,\n",
       "             0.9673,     0.96735,      0.9674,     0.96745,      0.9675,     0.96754,     0.96759,     0.96764,     0.96769,     0.96774,     0.96646,      0.9665,     0.96653,     0.96657,      0.9666,     0.96663,     0.96667,      0.9667,     0.96674,     0.96677,      0.9668,     0.96684,     0.96687,\n",
       "            0.96691,     0.96694,     0.96697,     0.96701,     0.96704,     0.96708,     0.96711,     0.96715,     0.96718,     0.96721,     0.96725,     0.96728,     0.96732,     0.96735,     0.96738,     0.96742,     0.96745,     0.96749,     0.96752,     0.96755,     0.96759,     0.96762,     0.96766,\n",
       "            0.96786,      0.9681,     0.96834,     0.96857,     0.96881,     0.96892,       0.969,     0.96907,     0.96915,     0.96923,      0.9693,     0.96938,     0.96945,     0.96952,      0.9696,     0.96967,     0.96975,     0.96982,      0.9699,     0.96997,     0.97005,     0.97009,     0.97011,\n",
       "            0.97013,     0.97015,     0.97017,     0.97019,     0.97021,     0.97023,     0.97025,     0.97026,     0.97028,      0.9703,     0.97032,     0.97034,     0.97036,     0.97038,      0.9704,     0.97042,     0.97044,     0.97046,     0.97048,      0.9705,     0.97052,     0.97054,     0.97056,\n",
       "            0.97058,      0.9706,     0.97062,     0.97064,     0.97066,     0.97068,      0.9707,     0.97072,     0.97074,     0.97076,     0.97078,      0.9708,     0.97081,     0.97083,     0.97085,     0.97087,     0.97089,     0.97091,     0.97093,     0.97095,     0.97097,     0.97099,     0.97101,\n",
       "            0.97103,     0.97105,     0.97107,     0.97109,     0.97111,     0.97113,     0.97115,     0.97117,     0.97119,     0.97121,     0.97123,     0.97125,     0.97127,     0.97129,     0.97101,     0.97073,     0.97044,     0.97016,     0.97002,     0.97006,      0.9701,     0.97014,     0.97019,\n",
       "            0.97023,     0.97027,     0.97031,     0.97035,      0.9704,     0.97044,     0.97048,     0.97052,     0.97057,     0.97061,     0.97065,     0.97069,     0.97073,     0.97078,     0.97082,     0.97086,      0.9709,     0.97094,     0.97099,     0.97103,     0.97107,     0.97111,     0.97115,\n",
       "             0.9712,     0.97109,     0.97087,     0.97066,     0.97044,     0.97023,     0.97001,     0.96986,     0.96976,     0.96966,     0.96956,     0.96945,     0.96935,     0.96925,     0.96915,     0.96904,     0.96894,     0.96884,     0.96874,     0.96863,     0.96829,     0.96794,     0.96759,\n",
       "            0.96708,      0.9661,     0.96593,     0.96582,     0.96571,      0.9656,     0.96549,     0.96538,     0.96527,     0.96516,     0.96505,     0.96494,     0.96483,     0.96472,      0.9646,     0.96449,     0.96437,     0.96426,     0.96414,     0.96403,     0.96391,      0.9638,     0.96368,\n",
       "            0.96357,     0.96345,     0.96216,      0.9618,     0.96146,     0.96113,     0.96086,     0.96197,     0.96181,     0.96165,     0.96148,     0.96132,     0.96116,     0.96099,     0.96083,     0.96054,     0.95986,      0.9592,     0.95857,     0.95804,     0.95791,     0.95778,     0.95765,\n",
       "            0.95752,     0.95739,     0.95726,     0.95713,       0.957,     0.95687,     0.95675,     0.95763,     0.95786,     0.95768,     0.95751,     0.95734,     0.95717,       0.957,     0.95683,     0.95665,     0.95578,     0.95544,     0.95571,     0.95598,     0.95625,     0.95652,     0.95371,\n",
       "            0.95295,      0.9522,     0.95152,     0.95017,     0.94927,     0.94879,     0.94837,     0.94642,     0.94353,     0.94086,     0.93921,      0.9343,     0.93354,     0.93246,     0.92699,     0.92397,     0.92016,     0.91679,     0.91567,     0.91133,     0.90932,     0.90624,     0.89834,\n",
       "            0.89726,     0.89437,     0.89086,     0.88695,     0.88324,     0.87985,     0.87131,     0.86857,     0.86723,     0.86172,     0.85502,     0.85124,     0.84693,     0.83963,     0.83437,     0.82752,     0.82405,     0.81231,     0.80498,     0.78984,     0.78133,     0.77498,     0.77148,\n",
       "            0.76517,     0.76353,     0.75486,     0.74278,     0.73731,     0.73055,     0.71707,     0.70805,     0.70354,     0.69067,     0.68843,      0.6807,     0.67667,     0.66658,     0.65141,     0.63508,     0.62975,     0.62109,     0.61563,     0.60222,     0.57999,     0.56856,     0.55612,\n",
       "            0.54141,     0.52044,     0.50274,     0.49481,     0.48467,      0.4728,     0.46313,     0.46062,      0.4545,      0.4385,     0.43598,     0.41342,     0.39678,     0.38569,     0.38013,     0.37397,     0.35762,     0.34857,     0.34605,      0.3397,     0.32459,     0.31984,     0.30436,\n",
       "            0.29251,     0.28608,     0.27988,     0.26896,     0.25989,     0.24697,     0.23963,     0.23711,     0.22722,     0.21868,     0.21606,     0.21409,     0.20662,     0.19973,      0.1972,     0.19389,     0.19003,     0.18829,     0.18714,     0.18599,     0.18108,     0.17427,     0.16724,\n",
       "            0.15389,     0.14774,     0.14513,     0.14194,     0.13789,     0.13567,     0.13403,     0.13297,      0.1319,     0.13084,     0.12932,     0.12723,     0.12395,     0.11908,     0.11535,     0.11248,      0.1113,     0.11011,     0.10893,     0.10668,     0.10282,    0.097118,    0.093501,\n",
       "           0.091888,    0.090273,    0.089071,    0.087871,    0.086669,    0.084188,    0.074999,    0.072156,    0.069431,    0.067181,    0.066605,    0.066029,    0.065452,    0.064876,    0.064298,    0.063721,    0.063143,    0.062085,    0.058266,    0.055282,    0.051643,    0.046272,    0.043306,\n",
       "           0.042423,    0.041539,    0.040655,    0.039769,    0.037076,    0.033379,    0.032269,    0.031158,    0.030046,    0.029117,    0.028431,    0.027745,    0.027058,     0.02637,    0.025682,    0.024994,    0.023186,    0.019552,    0.015006,    0.014228,    0.013614,    0.013001,    0.012387,\n",
       "           0.011773,    0.011158,    0.010543,   0.0099273,   0.0096055,   0.0092968,   0.0089879,    0.008679,     0.00837,   0.0080608,   0.0077516,   0.0074423,   0.0071328,   0.0068233,   0.0065137,    0.006204,   0.0058942,   0.0055843,   0.0052743,   0.0049642,           0,           0,           0,\n",
       "                  0,           0,           0,           0,           0,           0,           0,           0,           0,           0,           0,           0,           0,           0,           0,           0,           0,           0,           0,           0,           0,           0,           0,\n",
       "                  0,           0,           0,           0,           0,           0,           0,           0,           0,           0,           0,           0,           0,           0,           0,           0,           0,           0,           0,           0,           0,           0,           0,\n",
       "                  0,           0,           0,           0,           0,           0,           0,           0,           0,           0,           0,           0,           0,           0,           0,           0,           0,           0,           0,           0,           0,           0,           0,\n",
       "                  0,           0,           0,           0,           0,           0,           0,           0,           0,           0,           0]]), 'Confidence', 'F1'], [array([          0,    0.001001,    0.002002,    0.003003,    0.004004,    0.005005,    0.006006,    0.007007,    0.008008,    0.009009,     0.01001,    0.011011,    0.012012,    0.013013,    0.014014,    0.015015,    0.016016,    0.017017,    0.018018,    0.019019,     0.02002,    0.021021,    0.022022,    0.023023,\n",
       "          0.024024,    0.025025,    0.026026,    0.027027,    0.028028,    0.029029,     0.03003,    0.031031,    0.032032,    0.033033,    0.034034,    0.035035,    0.036036,    0.037037,    0.038038,    0.039039,     0.04004,    0.041041,    0.042042,    0.043043,    0.044044,    0.045045,    0.046046,    0.047047,\n",
       "          0.048048,    0.049049,     0.05005,    0.051051,    0.052052,    0.053053,    0.054054,    0.055055,    0.056056,    0.057057,    0.058058,    0.059059,     0.06006,    0.061061,    0.062062,    0.063063,    0.064064,    0.065065,    0.066066,    0.067067,    0.068068,    0.069069,     0.07007,    0.071071,\n",
       "          0.072072,    0.073073,    0.074074,    0.075075,    0.076076,    0.077077,    0.078078,    0.079079,     0.08008,    0.081081,    0.082082,    0.083083,    0.084084,    0.085085,    0.086086,    0.087087,    0.088088,    0.089089,     0.09009,    0.091091,    0.092092,    0.093093,    0.094094,    0.095095,\n",
       "          0.096096,    0.097097,    0.098098,    0.099099,      0.1001,      0.1011,      0.1021,      0.1031,      0.1041,     0.10511,     0.10611,     0.10711,     0.10811,     0.10911,     0.11011,     0.11111,     0.11211,     0.11311,     0.11411,     0.11512,     0.11612,     0.11712,     0.11812,     0.11912,\n",
       "           0.12012,     0.12112,     0.12212,     0.12312,     0.12412,     0.12513,     0.12613,     0.12713,     0.12813,     0.12913,     0.13013,     0.13113,     0.13213,     0.13313,     0.13413,     0.13514,     0.13614,     0.13714,     0.13814,     0.13914,     0.14014,     0.14114,     0.14214,     0.14314,\n",
       "           0.14414,     0.14515,     0.14615,     0.14715,     0.14815,     0.14915,     0.15015,     0.15115,     0.15215,     0.15315,     0.15415,     0.15516,     0.15616,     0.15716,     0.15816,     0.15916,     0.16016,     0.16116,     0.16216,     0.16316,     0.16416,     0.16517,     0.16617,     0.16717,\n",
       "           0.16817,     0.16917,     0.17017,     0.17117,     0.17217,     0.17317,     0.17417,     0.17518,     0.17618,     0.17718,     0.17818,     0.17918,     0.18018,     0.18118,     0.18218,     0.18318,     0.18418,     0.18519,     0.18619,     0.18719,     0.18819,     0.18919,     0.19019,     0.19119,\n",
       "           0.19219,     0.19319,     0.19419,      0.1952,      0.1962,      0.1972,      0.1982,      0.1992,      0.2002,      0.2012,      0.2022,      0.2032,      0.2042,     0.20521,     0.20621,     0.20721,     0.20821,     0.20921,     0.21021,     0.21121,     0.21221,     0.21321,     0.21421,     0.21522,\n",
       "           0.21622,     0.21722,     0.21822,     0.21922,     0.22022,     0.22122,     0.22222,     0.22322,     0.22422,     0.22523,     0.22623,     0.22723,     0.22823,     0.22923,     0.23023,     0.23123,     0.23223,     0.23323,     0.23423,     0.23524,     0.23624,     0.23724,     0.23824,     0.23924,\n",
       "           0.24024,     0.24124,     0.24224,     0.24324,     0.24424,     0.24525,     0.24625,     0.24725,     0.24825,     0.24925,     0.25025,     0.25125,     0.25225,     0.25325,     0.25425,     0.25526,     0.25626,     0.25726,     0.25826,     0.25926,     0.26026,     0.26126,     0.26226,     0.26326,\n",
       "           0.26426,     0.26527,     0.26627,     0.26727,     0.26827,     0.26927,     0.27027,     0.27127,     0.27227,     0.27327,     0.27427,     0.27528,     0.27628,     0.27728,     0.27828,     0.27928,     0.28028,     0.28128,     0.28228,     0.28328,     0.28428,     0.28529,     0.28629,     0.28729,\n",
       "           0.28829,     0.28929,     0.29029,     0.29129,     0.29229,     0.29329,     0.29429,      0.2953,      0.2963,      0.2973,      0.2983,      0.2993,      0.3003,      0.3013,      0.3023,      0.3033,      0.3043,     0.30531,     0.30631,     0.30731,     0.30831,     0.30931,     0.31031,     0.31131,\n",
       "           0.31231,     0.31331,     0.31431,     0.31532,     0.31632,     0.31732,     0.31832,     0.31932,     0.32032,     0.32132,     0.32232,     0.32332,     0.32432,     0.32533,     0.32633,     0.32733,     0.32833,     0.32933,     0.33033,     0.33133,     0.33233,     0.33333,     0.33433,     0.33534,\n",
       "           0.33634,     0.33734,     0.33834,     0.33934,     0.34034,     0.34134,     0.34234,     0.34334,     0.34434,     0.34535,     0.34635,     0.34735,     0.34835,     0.34935,     0.35035,     0.35135,     0.35235,     0.35335,     0.35435,     0.35536,     0.35636,     0.35736,     0.35836,     0.35936,\n",
       "           0.36036,     0.36136,     0.36236,     0.36336,     0.36436,     0.36537,     0.36637,     0.36737,     0.36837,     0.36937,     0.37037,     0.37137,     0.37237,     0.37337,     0.37437,     0.37538,     0.37638,     0.37738,     0.37838,     0.37938,     0.38038,     0.38138,     0.38238,     0.38338,\n",
       "           0.38438,     0.38539,     0.38639,     0.38739,     0.38839,     0.38939,     0.39039,     0.39139,     0.39239,     0.39339,     0.39439,      0.3954,      0.3964,      0.3974,      0.3984,      0.3994,      0.4004,      0.4014,      0.4024,      0.4034,      0.4044,     0.40541,     0.40641,     0.40741,\n",
       "           0.40841,     0.40941,     0.41041,     0.41141,     0.41241,     0.41341,     0.41441,     0.41542,     0.41642,     0.41742,     0.41842,     0.41942,     0.42042,     0.42142,     0.42242,     0.42342,     0.42442,     0.42543,     0.42643,     0.42743,     0.42843,     0.42943,     0.43043,     0.43143,\n",
       "           0.43243,     0.43343,     0.43443,     0.43544,     0.43644,     0.43744,     0.43844,     0.43944,     0.44044,     0.44144,     0.44244,     0.44344,     0.44444,     0.44545,     0.44645,     0.44745,     0.44845,     0.44945,     0.45045,     0.45145,     0.45245,     0.45345,     0.45445,     0.45546,\n",
       "           0.45646,     0.45746,     0.45846,     0.45946,     0.46046,     0.46146,     0.46246,     0.46346,     0.46446,     0.46547,     0.46647,     0.46747,     0.46847,     0.46947,     0.47047,     0.47147,     0.47247,     0.47347,     0.47447,     0.47548,     0.47648,     0.47748,     0.47848,     0.47948,\n",
       "           0.48048,     0.48148,     0.48248,     0.48348,     0.48448,     0.48549,     0.48649,     0.48749,     0.48849,     0.48949,     0.49049,     0.49149,     0.49249,     0.49349,     0.49449,      0.4955,      0.4965,      0.4975,      0.4985,      0.4995,      0.5005,      0.5015,      0.5025,      0.5035,\n",
       "            0.5045,     0.50551,     0.50651,     0.50751,     0.50851,     0.50951,     0.51051,     0.51151,     0.51251,     0.51351,     0.51451,     0.51552,     0.51652,     0.51752,     0.51852,     0.51952,     0.52052,     0.52152,     0.52252,     0.52352,     0.52452,     0.52553,     0.52653,     0.52753,\n",
       "           0.52853,     0.52953,     0.53053,     0.53153,     0.53253,     0.53353,     0.53453,     0.53554,     0.53654,     0.53754,     0.53854,     0.53954,     0.54054,     0.54154,     0.54254,     0.54354,     0.54454,     0.54555,     0.54655,     0.54755,     0.54855,     0.54955,     0.55055,     0.55155,\n",
       "           0.55255,     0.55355,     0.55455,     0.55556,     0.55656,     0.55756,     0.55856,     0.55956,     0.56056,     0.56156,     0.56256,     0.56356,     0.56456,     0.56557,     0.56657,     0.56757,     0.56857,     0.56957,     0.57057,     0.57157,     0.57257,     0.57357,     0.57457,     0.57558,\n",
       "           0.57658,     0.57758,     0.57858,     0.57958,     0.58058,     0.58158,     0.58258,     0.58358,     0.58458,     0.58559,     0.58659,     0.58759,     0.58859,     0.58959,     0.59059,     0.59159,     0.59259,     0.59359,     0.59459,      0.5956,      0.5966,      0.5976,      0.5986,      0.5996,\n",
       "            0.6006,      0.6016,      0.6026,      0.6036,      0.6046,     0.60561,     0.60661,     0.60761,     0.60861,     0.60961,     0.61061,     0.61161,     0.61261,     0.61361,     0.61461,     0.61562,     0.61662,     0.61762,     0.61862,     0.61962,     0.62062,     0.62162,     0.62262,     0.62362,\n",
       "           0.62462,     0.62563,     0.62663,     0.62763,     0.62863,     0.62963,     0.63063,     0.63163,     0.63263,     0.63363,     0.63463,     0.63564,     0.63664,     0.63764,     0.63864,     0.63964,     0.64064,     0.64164,     0.64264,     0.64364,     0.64464,     0.64565,     0.64665,     0.64765,\n",
       "           0.64865,     0.64965,     0.65065,     0.65165,     0.65265,     0.65365,     0.65465,     0.65566,     0.65666,     0.65766,     0.65866,     0.65966,     0.66066,     0.66166,     0.66266,     0.66366,     0.66466,     0.66567,     0.66667,     0.66767,     0.66867,     0.66967,     0.67067,     0.67167,\n",
       "           0.67267,     0.67367,     0.67467,     0.67568,     0.67668,     0.67768,     0.67868,     0.67968,     0.68068,     0.68168,     0.68268,     0.68368,     0.68468,     0.68569,     0.68669,     0.68769,     0.68869,     0.68969,     0.69069,     0.69169,     0.69269,     0.69369,     0.69469,      0.6957,\n",
       "            0.6967,      0.6977,      0.6987,      0.6997,      0.7007,      0.7017,      0.7027,      0.7037,      0.7047,     0.70571,     0.70671,     0.70771,     0.70871,     0.70971,     0.71071,     0.71171,     0.71271,     0.71371,     0.71471,     0.71572,     0.71672,     0.71772,     0.71872,     0.71972,\n",
       "           0.72072,     0.72172,     0.72272,     0.72372,     0.72472,     0.72573,     0.72673,     0.72773,     0.72873,     0.72973,     0.73073,     0.73173,     0.73273,     0.73373,     0.73473,     0.73574,     0.73674,     0.73774,     0.73874,     0.73974,     0.74074,     0.74174,     0.74274,     0.74374,\n",
       "           0.74474,     0.74575,     0.74675,     0.74775,     0.74875,     0.74975,     0.75075,     0.75175,     0.75275,     0.75375,     0.75475,     0.75576,     0.75676,     0.75776,     0.75876,     0.75976,     0.76076,     0.76176,     0.76276,     0.76376,     0.76476,     0.76577,     0.76677,     0.76777,\n",
       "           0.76877,     0.76977,     0.77077,     0.77177,     0.77277,     0.77377,     0.77477,     0.77578,     0.77678,     0.77778,     0.77878,     0.77978,     0.78078,     0.78178,     0.78278,     0.78378,     0.78478,     0.78579,     0.78679,     0.78779,     0.78879,     0.78979,     0.79079,     0.79179,\n",
       "           0.79279,     0.79379,     0.79479,      0.7958,      0.7968,      0.7978,      0.7988,      0.7998,      0.8008,      0.8018,      0.8028,      0.8038,      0.8048,     0.80581,     0.80681,     0.80781,     0.80881,     0.80981,     0.81081,     0.81181,     0.81281,     0.81381,     0.81481,     0.81582,\n",
       "           0.81682,     0.81782,     0.81882,     0.81982,     0.82082,     0.82182,     0.82282,     0.82382,     0.82482,     0.82583,     0.82683,     0.82783,     0.82883,     0.82983,     0.83083,     0.83183,     0.83283,     0.83383,     0.83483,     0.83584,     0.83684,     0.83784,     0.83884,     0.83984,\n",
       "           0.84084,     0.84184,     0.84284,     0.84384,     0.84484,     0.84585,     0.84685,     0.84785,     0.84885,     0.84985,     0.85085,     0.85185,     0.85285,     0.85385,     0.85485,     0.85586,     0.85686,     0.85786,     0.85886,     0.85986,     0.86086,     0.86186,     0.86286,     0.86386,\n",
       "           0.86486,     0.86587,     0.86687,     0.86787,     0.86887,     0.86987,     0.87087,     0.87187,     0.87287,     0.87387,     0.87487,     0.87588,     0.87688,     0.87788,     0.87888,     0.87988,     0.88088,     0.88188,     0.88288,     0.88388,     0.88488,     0.88589,     0.88689,     0.88789,\n",
       "           0.88889,     0.88989,     0.89089,     0.89189,     0.89289,     0.89389,     0.89489,      0.8959,      0.8969,      0.8979,      0.8989,      0.8999,      0.9009,      0.9019,      0.9029,      0.9039,      0.9049,     0.90591,     0.90691,     0.90791,     0.90891,     0.90991,     0.91091,     0.91191,\n",
       "           0.91291,     0.91391,     0.91491,     0.91592,     0.91692,     0.91792,     0.91892,     0.91992,     0.92092,     0.92192,     0.92292,     0.92392,     0.92492,     0.92593,     0.92693,     0.92793,     0.92893,     0.92993,     0.93093,     0.93193,     0.93293,     0.93393,     0.93493,     0.93594,\n",
       "           0.93694,     0.93794,     0.93894,     0.93994,     0.94094,     0.94194,     0.94294,     0.94394,     0.94494,     0.94595,     0.94695,     0.94795,     0.94895,     0.94995,     0.95095,     0.95195,     0.95295,     0.95395,     0.95495,     0.95596,     0.95696,     0.95796,     0.95896,     0.95996,\n",
       "           0.96096,     0.96196,     0.96296,     0.96396,     0.96496,     0.96597,     0.96697,     0.96797,     0.96897,     0.96997,     0.97097,     0.97197,     0.97297,     0.97397,     0.97497,     0.97598,     0.97698,     0.97798,     0.97898,     0.97998,     0.98098,     0.98198,     0.98298,     0.98398,\n",
       "           0.98498,     0.98599,     0.98699,     0.98799,     0.98899,     0.98999,     0.99099,     0.99199,     0.99299,     0.99399,     0.99499,       0.996,       0.997,       0.998,       0.999,           1]), array([[     0.5952,     0.59526,     0.70835,     0.76199,     0.79682,     0.81696,     0.83144,     0.84291,     0.84911,     0.85952,     0.86806,     0.87516,     0.88029,      0.8843,     0.88523,     0.88803,     0.89125,     0.89496,     0.89856,     0.90001,     0.90415,     0.90847,     0.91064,\n",
       "            0.91177,      0.9139,     0.91669,     0.91718,     0.91767,     0.91815,     0.91864,     0.92294,     0.92365,     0.92444,     0.92504,     0.92496,     0.92489,     0.92525,     0.92563,     0.92601,      0.9264,     0.92678,     0.92729,      0.9281,     0.92891,     0.93158,     0.93188,\n",
       "            0.93218,     0.93248,     0.93278,     0.93308,     0.93338,     0.93366,     0.93375,     0.93385,     0.93394,     0.93404,     0.93413,     0.93423,     0.93432,     0.93442,     0.93451,     0.93461,      0.9347,      0.9348,     0.93489,     0.93499,     0.93508,     0.93517,     0.93527,\n",
       "            0.93536,     0.93546,     0.93555,     0.93565,     0.93574,     0.93584,     0.93593,     0.93601,     0.93609,     0.93618,     0.93626,     0.93634,     0.93643,     0.93651,      0.9366,     0.93668,     0.93676,     0.93685,     0.93693,     0.93701,      0.9371,     0.93718,     0.93727,\n",
       "            0.93735,     0.93743,     0.93752,      0.9376,     0.93768,     0.93777,     0.93785,     0.93794,     0.93802,     0.93815,     0.93878,      0.9394,     0.94002,     0.94055,     0.94097,     0.94139,     0.94182,     0.94224,      0.9426,     0.94266,     0.94273,     0.94279,     0.94286,\n",
       "            0.94293,     0.94299,     0.94306,     0.94312,     0.94319,     0.94326,     0.94332,     0.94339,     0.94345,     0.94352,     0.94359,     0.94365,     0.94372,     0.94378,     0.94385,     0.94392,     0.94398,     0.94405,     0.94411,     0.94418,     0.94425,     0.94431,     0.94438,\n",
       "            0.94444,     0.94451,     0.94458,     0.94464,     0.94471,     0.94477,     0.94484,     0.94492,     0.94501,     0.94509,     0.94517,     0.94526,     0.94534,     0.94542,     0.94551,     0.94559,     0.94567,     0.94576,     0.94584,     0.94592,     0.94601,     0.94609,     0.94617,\n",
       "            0.94626,     0.94634,     0.94642,     0.94651,     0.94659,     0.94667,     0.94676,     0.94684,     0.94692,     0.94701,     0.94709,     0.94711,     0.94711,      0.9471,      0.9471,     0.94709,     0.94709,     0.94709,     0.94708,     0.94708,     0.94707,     0.94707,     0.94706,\n",
       "            0.94706,     0.94706,     0.94705,     0.94705,     0.94704,     0.94704,     0.94703,     0.94703,     0.94702,     0.94702,     0.94702,     0.94701,     0.94701,       0.947,       0.947,     0.94699,     0.94699,     0.94698,     0.94695,     0.94693,     0.94691,     0.94689,     0.94686,\n",
       "            0.94849,     0.94915,     0.94915,     0.94915,     0.94914,     0.94914,     0.94914,     0.94914,     0.94913,     0.94913,     0.94913,     0.94913,     0.94912,     0.94912,     0.94912,     0.94912,     0.94912,     0.94911,     0.94911,     0.94911,     0.94911,      0.9491,      0.9491,\n",
       "             0.9491,      0.9491,     0.94909,     0.94909,     0.94909,     0.94909,     0.94908,     0.94908,     0.94908,     0.94908,     0.94907,     0.94907,     0.94907,     0.94907,     0.94906,     0.94906,     0.94906,     0.94906,     0.94906,     0.94905,     0.94905,     0.94905,     0.94905,\n",
       "            0.94904,     0.94904,     0.94904,     0.94904,     0.94903,     0.94903,     0.94903,     0.94918,     0.94934,     0.94949,     0.94964,      0.9498,     0.94995,     0.95011,     0.95026,     0.95041,     0.95057,     0.95072,     0.95088,     0.95103,     0.95119,     0.95134,     0.95134,\n",
       "            0.95133,     0.95133,     0.95133,     0.95133,     0.95132,     0.95132,     0.95132,     0.95132,     0.95132,     0.95131,     0.95131,     0.95131,     0.95131,      0.9513,      0.9513,      0.9513,      0.9513,     0.95129,     0.95129,     0.95129,     0.95129,     0.95129,     0.95128,\n",
       "            0.95128,     0.95128,     0.95128,     0.95127,     0.95127,     0.95127,     0.95127,     0.95126,     0.95126,     0.95126,     0.95126,     0.95126,     0.95125,     0.95125,     0.95125,     0.95125,     0.95124,     0.95124,     0.95124,     0.95124,     0.95123,     0.95123,     0.95123,\n",
       "            0.95123,     0.95123,     0.95122,     0.95122,     0.95133,     0.95161,     0.95188,     0.95216,     0.95244,     0.95271,     0.95299,     0.95327,     0.95354,     0.95367,      0.9538,     0.95393,     0.95405,     0.95418,     0.95431,     0.95444,     0.95456,     0.95469,     0.95482,\n",
       "            0.95495,     0.95507,      0.9552,     0.95533,     0.95546,     0.95558,     0.95571,     0.95584,     0.95597,     0.95612,     0.95626,      0.9564,     0.95654,     0.95669,     0.95683,     0.95697,     0.95711,     0.95726,      0.9574,     0.95754,     0.95768,     0.95783,     0.95797,\n",
       "            0.95811,     0.95824,     0.95831,     0.95838,     0.95845,     0.95852,     0.95859,     0.95866,     0.95873,      0.9588,     0.95887,     0.95894,     0.95901,     0.95907,     0.95914,     0.95921,     0.95928,     0.95935,     0.95942,     0.95949,     0.95956,     0.95963,      0.9597,\n",
       "            0.95977,     0.95984,     0.95991,     0.95998,     0.96005,     0.96012,     0.96019,     0.96025,     0.96032,     0.96039,     0.96046,     0.96053,      0.9606,     0.96066,     0.96071,     0.96077,     0.96083,     0.96089,     0.96094,       0.961,     0.96106,     0.96112,     0.96117,\n",
       "            0.96123,     0.96129,     0.96134,      0.9614,     0.96146,     0.96152,     0.96157,     0.96163,     0.96169,     0.96175,      0.9618,     0.96186,     0.96192,     0.96198,     0.96203,     0.96209,     0.96215,      0.9622,     0.96226,     0.96232,     0.96238,     0.96243,     0.96249,\n",
       "            0.96255,     0.96261,     0.96266,     0.96272,     0.96278,     0.96284,     0.96289,     0.96295,     0.96304,     0.96313,     0.96323,     0.96332,     0.96342,     0.96352,     0.96361,     0.96371,      0.9638,      0.9639,     0.96399,     0.96409,     0.96419,     0.96428,     0.96438,\n",
       "            0.96447,     0.96457,     0.96466,     0.96476,     0.96486,     0.96495,     0.96505,     0.96514,     0.96524,     0.96533,     0.96527,     0.96534,      0.9654,     0.96547,     0.96554,     0.96561,     0.96568,     0.96574,     0.96581,     0.96588,     0.96595,     0.96602,     0.96608,\n",
       "            0.96615,     0.96622,     0.96629,     0.96636,     0.96642,     0.96649,     0.96656,     0.96663,      0.9667,     0.96676,     0.96683,      0.9669,     0.96697,     0.96704,     0.96711,     0.96717,     0.96724,     0.96731,     0.96738,     0.96745,     0.96751,     0.96758,     0.96765,\n",
       "            0.96806,     0.96853,     0.96901,     0.96949,     0.96997,     0.97019,     0.97034,     0.97049,     0.97064,     0.97079,     0.97094,     0.97109,     0.97124,      0.9714,     0.97155,      0.9717,     0.97185,       0.972,     0.97215,      0.9723,     0.97245,     0.97253,     0.97257,\n",
       "            0.97261,     0.97264,     0.97268,     0.97272,     0.97276,      0.9728,     0.97284,     0.97288,     0.97292,     0.97296,       0.973,     0.97304,     0.97308,     0.97312,     0.97316,      0.9732,     0.97324,     0.97328,     0.97332,     0.97336,      0.9734,     0.97344,     0.97347,\n",
       "            0.97351,     0.97355,     0.97359,     0.97363,     0.97367,     0.97371,     0.97375,     0.97379,     0.97383,     0.97387,     0.97391,     0.97395,     0.97399,     0.97403,     0.97407,     0.97411,     0.97415,     0.97419,     0.97423,     0.97426,      0.9743,     0.97434,     0.97438,\n",
       "            0.97442,     0.97446,      0.9745,     0.97454,     0.97458,     0.97462,     0.97466,      0.9747,     0.97474,     0.97478,     0.97482,     0.97486,      0.9749,     0.97494,     0.97492,     0.97491,      0.9749,     0.97488,     0.97491,       0.975,     0.97508,     0.97517,     0.97525,\n",
       "            0.97534,     0.97542,     0.97551,     0.97559,     0.97568,     0.97576,     0.97585,     0.97593,     0.97602,      0.9761,     0.97619,     0.97627,     0.97636,     0.97644,     0.97653,     0.97661,      0.9767,     0.97678,     0.97687,     0.97695,     0.97704,     0.97712,     0.97721,\n",
       "            0.97729,     0.97732,     0.97731,     0.97731,      0.9773,     0.97729,     0.97728,     0.97727,     0.97727,     0.97726,     0.97726,     0.97725,     0.97725,     0.97724,     0.97724,     0.97723,     0.97723,     0.97722,     0.97722,     0.97722,      0.9772,     0.97718,     0.97717,\n",
       "            0.97715,      0.9771,     0.97709,     0.97709,     0.97708,     0.97708,     0.97707,     0.97707,     0.97706,     0.97706,     0.97705,     0.97705,     0.97704,     0.97704,     0.97703,     0.97703,     0.97702,     0.97702,     0.97701,     0.97701,       0.977,       0.977,     0.97699,\n",
       "            0.97699,     0.97698,     0.97692,     0.97691,     0.97689,     0.97688,     0.97697,     0.97938,     0.97937,     0.97937,     0.97936,     0.97935,     0.97935,     0.97934,     0.97933,     0.97932,     0.97929,     0.97927,     0.97924,     0.97922,     0.97921,     0.97921,      0.9792,\n",
       "             0.9792,     0.97919,     0.97919,     0.97918,     0.97918,     0.97917,     0.97919,     0.98102,     0.98172,     0.98171,     0.98171,      0.9817,     0.98169,     0.98169,     0.98168,     0.98168,     0.98164,     0.98192,     0.98249,     0.98306,     0.98363,      0.9842,      0.9867,\n",
       "            0.98668,     0.98666,     0.98664,     0.98661,     0.98658,     0.98657,     0.98667,     0.98915,     0.98909,     0.98903,     0.98899,     0.98889,     0.98887,     0.98885,     0.98872,     0.98866,     0.98857,     0.98849,     0.98847,     0.98837,     0.98832,     0.98825,     0.98806,\n",
       "            0.98804,     0.98797,     0.98788,     0.99079,     0.99072,     0.99066,      0.9905,     0.99044,     0.99042,     0.99031,     0.99018,      0.9901,     0.99002,     0.98987,     0.98976,     0.98961,     0.98954,     0.98929,     0.98912,     0.98878,     0.98858,     0.98843,     0.98834,\n",
       "            0.98819,     0.98815,     0.98793,     0.98762,     0.98747,     0.98729,     0.98692,     0.98666,     0.98653,     0.98615,     0.98608,     0.98585,     0.98572,      0.9854,      0.9849,     0.98433,     0.98934,     0.98913,     0.98899,     0.98864,     0.98817,     0.99379,           1,\n",
       "                  1,           1,           1,           1,           1,           1,           1,           1,           1,           1,           1,           1,           1,           1,           1,           1,           1,           1,           1,           1,           1,           1,           1,\n",
       "                  1,           1,           1,           1,           1,           1,           1,           1,           1,           1,           1,           1,           1,           1,           1,           1,           1,           1,           1,           1,           1,           1,           1,\n",
       "                  1,           1,           1,           1,           1,           1,           1,           1,           1,           1,           1,           1,           1,           1,           1,           1,           1,           1,           1,           1,           1,           1,           1,\n",
       "                  1,           1,           1,           1,           1,           1,           1,           1,           1,           1,           1,           1,           1,           1,           1,           1,           1,           1,           1,           1,           1,           1,           1,\n",
       "                  1,           1,           1,           1,           1,           1,           1,           1,           1,           1,           1,           1,           1,           1,           1,           1,           1,           1,           1,           1,           1,           1,           1,\n",
       "                  1,           1,           1,           1,           1,           1,           1,           1,           1,           1,           1,           1,           1,           1,           1,           1,           1,           1,           1,           1,           1,           1,           1,\n",
       "                  1,           1,           1,           1,           1,           1,           1,           1,           1,           1,           1,           1,           1,           1,           1,           1,           1,           1,           1,           1,           1,           1,           1,\n",
       "                  1,           1,           1,           1,           1,           1,           1,           1,           1,           1,           1,           1,           1,           1,           1,           1,           1,           1,           1,           1,           1,           1,           1,\n",
       "                  1,           1,           1,           1,           1,           1,           1,           1,           1,           1,           1,           1,           1,           1,           1,           1,           1,           1,           1,           1,           1,           1,           1,\n",
       "                  1,           1,           1,           1,           1,           1,           1,           1,           1,           1,           1]]), 'Confidence', 'Precision'], [array([          0,    0.001001,    0.002002,    0.003003,    0.004004,    0.005005,    0.006006,    0.007007,    0.008008,    0.009009,     0.01001,    0.011011,    0.012012,    0.013013,    0.014014,    0.015015,    0.016016,    0.017017,    0.018018,    0.019019,     0.02002,    0.021021,    0.022022,    0.023023,\n",
       "          0.024024,    0.025025,    0.026026,    0.027027,    0.028028,    0.029029,     0.03003,    0.031031,    0.032032,    0.033033,    0.034034,    0.035035,    0.036036,    0.037037,    0.038038,    0.039039,     0.04004,    0.041041,    0.042042,    0.043043,    0.044044,    0.045045,    0.046046,    0.047047,\n",
       "          0.048048,    0.049049,     0.05005,    0.051051,    0.052052,    0.053053,    0.054054,    0.055055,    0.056056,    0.057057,    0.058058,    0.059059,     0.06006,    0.061061,    0.062062,    0.063063,    0.064064,    0.065065,    0.066066,    0.067067,    0.068068,    0.069069,     0.07007,    0.071071,\n",
       "          0.072072,    0.073073,    0.074074,    0.075075,    0.076076,    0.077077,    0.078078,    0.079079,     0.08008,    0.081081,    0.082082,    0.083083,    0.084084,    0.085085,    0.086086,    0.087087,    0.088088,    0.089089,     0.09009,    0.091091,    0.092092,    0.093093,    0.094094,    0.095095,\n",
       "          0.096096,    0.097097,    0.098098,    0.099099,      0.1001,      0.1011,      0.1021,      0.1031,      0.1041,     0.10511,     0.10611,     0.10711,     0.10811,     0.10911,     0.11011,     0.11111,     0.11211,     0.11311,     0.11411,     0.11512,     0.11612,     0.11712,     0.11812,     0.11912,\n",
       "           0.12012,     0.12112,     0.12212,     0.12312,     0.12412,     0.12513,     0.12613,     0.12713,     0.12813,     0.12913,     0.13013,     0.13113,     0.13213,     0.13313,     0.13413,     0.13514,     0.13614,     0.13714,     0.13814,     0.13914,     0.14014,     0.14114,     0.14214,     0.14314,\n",
       "           0.14414,     0.14515,     0.14615,     0.14715,     0.14815,     0.14915,     0.15015,     0.15115,     0.15215,     0.15315,     0.15415,     0.15516,     0.15616,     0.15716,     0.15816,     0.15916,     0.16016,     0.16116,     0.16216,     0.16316,     0.16416,     0.16517,     0.16617,     0.16717,\n",
       "           0.16817,     0.16917,     0.17017,     0.17117,     0.17217,     0.17317,     0.17417,     0.17518,     0.17618,     0.17718,     0.17818,     0.17918,     0.18018,     0.18118,     0.18218,     0.18318,     0.18418,     0.18519,     0.18619,     0.18719,     0.18819,     0.18919,     0.19019,     0.19119,\n",
       "           0.19219,     0.19319,     0.19419,      0.1952,      0.1962,      0.1972,      0.1982,      0.1992,      0.2002,      0.2012,      0.2022,      0.2032,      0.2042,     0.20521,     0.20621,     0.20721,     0.20821,     0.20921,     0.21021,     0.21121,     0.21221,     0.21321,     0.21421,     0.21522,\n",
       "           0.21622,     0.21722,     0.21822,     0.21922,     0.22022,     0.22122,     0.22222,     0.22322,     0.22422,     0.22523,     0.22623,     0.22723,     0.22823,     0.22923,     0.23023,     0.23123,     0.23223,     0.23323,     0.23423,     0.23524,     0.23624,     0.23724,     0.23824,     0.23924,\n",
       "           0.24024,     0.24124,     0.24224,     0.24324,     0.24424,     0.24525,     0.24625,     0.24725,     0.24825,     0.24925,     0.25025,     0.25125,     0.25225,     0.25325,     0.25425,     0.25526,     0.25626,     0.25726,     0.25826,     0.25926,     0.26026,     0.26126,     0.26226,     0.26326,\n",
       "           0.26426,     0.26527,     0.26627,     0.26727,     0.26827,     0.26927,     0.27027,     0.27127,     0.27227,     0.27327,     0.27427,     0.27528,     0.27628,     0.27728,     0.27828,     0.27928,     0.28028,     0.28128,     0.28228,     0.28328,     0.28428,     0.28529,     0.28629,     0.28729,\n",
       "           0.28829,     0.28929,     0.29029,     0.29129,     0.29229,     0.29329,     0.29429,      0.2953,      0.2963,      0.2973,      0.2983,      0.2993,      0.3003,      0.3013,      0.3023,      0.3033,      0.3043,     0.30531,     0.30631,     0.30731,     0.30831,     0.30931,     0.31031,     0.31131,\n",
       "           0.31231,     0.31331,     0.31431,     0.31532,     0.31632,     0.31732,     0.31832,     0.31932,     0.32032,     0.32132,     0.32232,     0.32332,     0.32432,     0.32533,     0.32633,     0.32733,     0.32833,     0.32933,     0.33033,     0.33133,     0.33233,     0.33333,     0.33433,     0.33534,\n",
       "           0.33634,     0.33734,     0.33834,     0.33934,     0.34034,     0.34134,     0.34234,     0.34334,     0.34434,     0.34535,     0.34635,     0.34735,     0.34835,     0.34935,     0.35035,     0.35135,     0.35235,     0.35335,     0.35435,     0.35536,     0.35636,     0.35736,     0.35836,     0.35936,\n",
       "           0.36036,     0.36136,     0.36236,     0.36336,     0.36436,     0.36537,     0.36637,     0.36737,     0.36837,     0.36937,     0.37037,     0.37137,     0.37237,     0.37337,     0.37437,     0.37538,     0.37638,     0.37738,     0.37838,     0.37938,     0.38038,     0.38138,     0.38238,     0.38338,\n",
       "           0.38438,     0.38539,     0.38639,     0.38739,     0.38839,     0.38939,     0.39039,     0.39139,     0.39239,     0.39339,     0.39439,      0.3954,      0.3964,      0.3974,      0.3984,      0.3994,      0.4004,      0.4014,      0.4024,      0.4034,      0.4044,     0.40541,     0.40641,     0.40741,\n",
       "           0.40841,     0.40941,     0.41041,     0.41141,     0.41241,     0.41341,     0.41441,     0.41542,     0.41642,     0.41742,     0.41842,     0.41942,     0.42042,     0.42142,     0.42242,     0.42342,     0.42442,     0.42543,     0.42643,     0.42743,     0.42843,     0.42943,     0.43043,     0.43143,\n",
       "           0.43243,     0.43343,     0.43443,     0.43544,     0.43644,     0.43744,     0.43844,     0.43944,     0.44044,     0.44144,     0.44244,     0.44344,     0.44444,     0.44545,     0.44645,     0.44745,     0.44845,     0.44945,     0.45045,     0.45145,     0.45245,     0.45345,     0.45445,     0.45546,\n",
       "           0.45646,     0.45746,     0.45846,     0.45946,     0.46046,     0.46146,     0.46246,     0.46346,     0.46446,     0.46547,     0.46647,     0.46747,     0.46847,     0.46947,     0.47047,     0.47147,     0.47247,     0.47347,     0.47447,     0.47548,     0.47648,     0.47748,     0.47848,     0.47948,\n",
       "           0.48048,     0.48148,     0.48248,     0.48348,     0.48448,     0.48549,     0.48649,     0.48749,     0.48849,     0.48949,     0.49049,     0.49149,     0.49249,     0.49349,     0.49449,      0.4955,      0.4965,      0.4975,      0.4985,      0.4995,      0.5005,      0.5015,      0.5025,      0.5035,\n",
       "            0.5045,     0.50551,     0.50651,     0.50751,     0.50851,     0.50951,     0.51051,     0.51151,     0.51251,     0.51351,     0.51451,     0.51552,     0.51652,     0.51752,     0.51852,     0.51952,     0.52052,     0.52152,     0.52252,     0.52352,     0.52452,     0.52553,     0.52653,     0.52753,\n",
       "           0.52853,     0.52953,     0.53053,     0.53153,     0.53253,     0.53353,     0.53453,     0.53554,     0.53654,     0.53754,     0.53854,     0.53954,     0.54054,     0.54154,     0.54254,     0.54354,     0.54454,     0.54555,     0.54655,     0.54755,     0.54855,     0.54955,     0.55055,     0.55155,\n",
       "           0.55255,     0.55355,     0.55455,     0.55556,     0.55656,     0.55756,     0.55856,     0.55956,     0.56056,     0.56156,     0.56256,     0.56356,     0.56456,     0.56557,     0.56657,     0.56757,     0.56857,     0.56957,     0.57057,     0.57157,     0.57257,     0.57357,     0.57457,     0.57558,\n",
       "           0.57658,     0.57758,     0.57858,     0.57958,     0.58058,     0.58158,     0.58258,     0.58358,     0.58458,     0.58559,     0.58659,     0.58759,     0.58859,     0.58959,     0.59059,     0.59159,     0.59259,     0.59359,     0.59459,      0.5956,      0.5966,      0.5976,      0.5986,      0.5996,\n",
       "            0.6006,      0.6016,      0.6026,      0.6036,      0.6046,     0.60561,     0.60661,     0.60761,     0.60861,     0.60961,     0.61061,     0.61161,     0.61261,     0.61361,     0.61461,     0.61562,     0.61662,     0.61762,     0.61862,     0.61962,     0.62062,     0.62162,     0.62262,     0.62362,\n",
       "           0.62462,     0.62563,     0.62663,     0.62763,     0.62863,     0.62963,     0.63063,     0.63163,     0.63263,     0.63363,     0.63463,     0.63564,     0.63664,     0.63764,     0.63864,     0.63964,     0.64064,     0.64164,     0.64264,     0.64364,     0.64464,     0.64565,     0.64665,     0.64765,\n",
       "           0.64865,     0.64965,     0.65065,     0.65165,     0.65265,     0.65365,     0.65465,     0.65566,     0.65666,     0.65766,     0.65866,     0.65966,     0.66066,     0.66166,     0.66266,     0.66366,     0.66466,     0.66567,     0.66667,     0.66767,     0.66867,     0.66967,     0.67067,     0.67167,\n",
       "           0.67267,     0.67367,     0.67467,     0.67568,     0.67668,     0.67768,     0.67868,     0.67968,     0.68068,     0.68168,     0.68268,     0.68368,     0.68468,     0.68569,     0.68669,     0.68769,     0.68869,     0.68969,     0.69069,     0.69169,     0.69269,     0.69369,     0.69469,      0.6957,\n",
       "            0.6967,      0.6977,      0.6987,      0.6997,      0.7007,      0.7017,      0.7027,      0.7037,      0.7047,     0.70571,     0.70671,     0.70771,     0.70871,     0.70971,     0.71071,     0.71171,     0.71271,     0.71371,     0.71471,     0.71572,     0.71672,     0.71772,     0.71872,     0.71972,\n",
       "           0.72072,     0.72172,     0.72272,     0.72372,     0.72472,     0.72573,     0.72673,     0.72773,     0.72873,     0.72973,     0.73073,     0.73173,     0.73273,     0.73373,     0.73473,     0.73574,     0.73674,     0.73774,     0.73874,     0.73974,     0.74074,     0.74174,     0.74274,     0.74374,\n",
       "           0.74474,     0.74575,     0.74675,     0.74775,     0.74875,     0.74975,     0.75075,     0.75175,     0.75275,     0.75375,     0.75475,     0.75576,     0.75676,     0.75776,     0.75876,     0.75976,     0.76076,     0.76176,     0.76276,     0.76376,     0.76476,     0.76577,     0.76677,     0.76777,\n",
       "           0.76877,     0.76977,     0.77077,     0.77177,     0.77277,     0.77377,     0.77477,     0.77578,     0.77678,     0.77778,     0.77878,     0.77978,     0.78078,     0.78178,     0.78278,     0.78378,     0.78478,     0.78579,     0.78679,     0.78779,     0.78879,     0.78979,     0.79079,     0.79179,\n",
       "           0.79279,     0.79379,     0.79479,      0.7958,      0.7968,      0.7978,      0.7988,      0.7998,      0.8008,      0.8018,      0.8028,      0.8038,      0.8048,     0.80581,     0.80681,     0.80781,     0.80881,     0.80981,     0.81081,     0.81181,     0.81281,     0.81381,     0.81481,     0.81582,\n",
       "           0.81682,     0.81782,     0.81882,     0.81982,     0.82082,     0.82182,     0.82282,     0.82382,     0.82482,     0.82583,     0.82683,     0.82783,     0.82883,     0.82983,     0.83083,     0.83183,     0.83283,     0.83383,     0.83483,     0.83584,     0.83684,     0.83784,     0.83884,     0.83984,\n",
       "           0.84084,     0.84184,     0.84284,     0.84384,     0.84484,     0.84585,     0.84685,     0.84785,     0.84885,     0.84985,     0.85085,     0.85185,     0.85285,     0.85385,     0.85485,     0.85586,     0.85686,     0.85786,     0.85886,     0.85986,     0.86086,     0.86186,     0.86286,     0.86386,\n",
       "           0.86486,     0.86587,     0.86687,     0.86787,     0.86887,     0.86987,     0.87087,     0.87187,     0.87287,     0.87387,     0.87487,     0.87588,     0.87688,     0.87788,     0.87888,     0.87988,     0.88088,     0.88188,     0.88288,     0.88388,     0.88488,     0.88589,     0.88689,     0.88789,\n",
       "           0.88889,     0.88989,     0.89089,     0.89189,     0.89289,     0.89389,     0.89489,      0.8959,      0.8969,      0.8979,      0.8989,      0.8999,      0.9009,      0.9019,      0.9029,      0.9039,      0.9049,     0.90591,     0.90691,     0.90791,     0.90891,     0.90991,     0.91091,     0.91191,\n",
       "           0.91291,     0.91391,     0.91491,     0.91592,     0.91692,     0.91792,     0.91892,     0.91992,     0.92092,     0.92192,     0.92292,     0.92392,     0.92492,     0.92593,     0.92693,     0.92793,     0.92893,     0.92993,     0.93093,     0.93193,     0.93293,     0.93393,     0.93493,     0.93594,\n",
       "           0.93694,     0.93794,     0.93894,     0.93994,     0.94094,     0.94194,     0.94294,     0.94394,     0.94494,     0.94595,     0.94695,     0.94795,     0.94895,     0.94995,     0.95095,     0.95195,     0.95295,     0.95395,     0.95495,     0.95596,     0.95696,     0.95796,     0.95896,     0.95996,\n",
       "           0.96096,     0.96196,     0.96296,     0.96396,     0.96496,     0.96597,     0.96697,     0.96797,     0.96897,     0.96997,     0.97097,     0.97197,     0.97297,     0.97397,     0.97497,     0.97598,     0.97698,     0.97798,     0.97898,     0.97998,     0.98098,     0.98198,     0.98298,     0.98398,\n",
       "           0.98498,     0.98599,     0.98699,     0.98799,     0.98899,     0.98999,     0.99099,     0.99199,     0.99299,     0.99399,     0.99499,       0.996,       0.997,       0.998,       0.999,           1]), array([[    0.98756,     0.98756,     0.98507,     0.98507,     0.98507,     0.98507,     0.98507,     0.98507,     0.98507,     0.98507,     0.98507,     0.98507,     0.98507,     0.98507,     0.98507,     0.98507,     0.98507,     0.98507,     0.98507,     0.98507,     0.98507,     0.98507,     0.98507,\n",
       "            0.98507,     0.98507,     0.98507,     0.98507,     0.98507,     0.98507,     0.98507,     0.98313,     0.98259,     0.98259,     0.98235,     0.98126,     0.98016,      0.9801,      0.9801,      0.9801,      0.9801,      0.9801,      0.9801,      0.9801,      0.9801,      0.9801,      0.9801,\n",
       "             0.9801,      0.9801,      0.9801,      0.9801,      0.9801,      0.9801,      0.9801,      0.9801,      0.9801,      0.9801,      0.9801,      0.9801,      0.9801,      0.9801,      0.9801,      0.9801,      0.9801,      0.9801,      0.9801,      0.9801,      0.9801,      0.9801,      0.9801,\n",
       "             0.9801,      0.9801,      0.9801,      0.9801,      0.9801,      0.9801,      0.9801,      0.9801,      0.9801,      0.9801,      0.9801,      0.9801,      0.9801,      0.9801,      0.9801,      0.9801,      0.9801,      0.9801,      0.9801,      0.9801,      0.9801,      0.9801,      0.9801,\n",
       "             0.9801,      0.9801,      0.9801,      0.9801,      0.9801,      0.9801,      0.9801,      0.9801,      0.9801,      0.9801,      0.9801,      0.9801,      0.9801,      0.9801,      0.9801,      0.9801,      0.9801,      0.9801,      0.9801,      0.9801,      0.9801,      0.9801,      0.9801,\n",
       "             0.9801,      0.9801,      0.9801,      0.9801,      0.9801,      0.9801,      0.9801,      0.9801,      0.9801,      0.9801,      0.9801,      0.9801,      0.9801,      0.9801,      0.9801,      0.9801,      0.9801,      0.9801,      0.9801,      0.9801,      0.9801,      0.9801,      0.9801,\n",
       "             0.9801,      0.9801,      0.9801,      0.9801,      0.9801,      0.9801,      0.9801,      0.9801,      0.9801,      0.9801,      0.9801,      0.9801,      0.9801,      0.9801,      0.9801,      0.9801,      0.9801,      0.9801,      0.9801,      0.9801,      0.9801,      0.9801,      0.9801,\n",
       "             0.9801,      0.9801,      0.9801,      0.9801,      0.9801,      0.9801,      0.9801,      0.9801,      0.9801,      0.9801,      0.9801,     0.98004,     0.97995,     0.97987,     0.97978,      0.9797,     0.97961,     0.97953,     0.97944,     0.97936,     0.97927,     0.97919,      0.9791,\n",
       "            0.97902,     0.97893,     0.97885,     0.97876,     0.97868,     0.97859,      0.9785,     0.97842,     0.97833,     0.97825,     0.97816,     0.97808,     0.97799,     0.97791,     0.97782,     0.97774,     0.97765,     0.97738,     0.97694,      0.9765,     0.97605,     0.97561,     0.97517,\n",
       "            0.97512,     0.97509,     0.97505,       0.975,     0.97495,      0.9749,     0.97485,      0.9748,     0.97476,     0.97471,     0.97466,     0.97461,     0.97456,     0.97452,     0.97447,     0.97442,     0.97437,     0.97432,     0.97427,     0.97423,     0.97418,     0.97413,     0.97408,\n",
       "            0.97403,     0.97399,     0.97394,     0.97389,     0.97384,     0.97379,     0.97375,      0.9737,     0.97365,      0.9736,     0.97355,      0.9735,     0.97346,     0.97341,     0.97336,     0.97331,     0.97326,     0.97322,     0.97317,     0.97312,     0.97307,     0.97302,     0.97297,\n",
       "            0.97293,     0.97288,     0.97283,     0.97278,     0.97273,     0.97269,     0.97264,     0.97264,     0.97264,     0.97264,     0.97264,     0.97264,     0.97264,     0.97264,     0.97264,     0.97264,     0.97264,     0.97264,     0.97264,     0.97264,     0.97264,     0.97264,     0.97259,\n",
       "            0.97254,     0.97249,     0.97244,      0.9724,     0.97235,      0.9723,     0.97225,      0.9722,     0.97215,     0.97211,     0.97206,     0.97201,     0.97196,     0.97191,     0.97186,     0.97182,     0.97177,     0.97172,     0.97167,     0.97162,     0.97158,     0.97153,     0.97148,\n",
       "            0.97143,     0.97138,     0.97133,     0.97129,     0.97124,     0.97119,     0.97114,     0.97109,     0.97105,       0.971,     0.97095,      0.9709,     0.97085,      0.9708,     0.97076,     0.97071,     0.97066,     0.97061,     0.97056,     0.97052,     0.97047,     0.97042,     0.97037,\n",
       "            0.97032,     0.97027,     0.97023,     0.97018,     0.97015,     0.97015,     0.97015,     0.97015,     0.97015,     0.97015,     0.97015,     0.97015,     0.97015,     0.97015,     0.97015,     0.97015,     0.97015,     0.97015,     0.97015,     0.97015,     0.97015,     0.97015,     0.97015,\n",
       "            0.97015,     0.97015,     0.97015,     0.97015,     0.97015,     0.97015,     0.97015,     0.97015,     0.97015,     0.97015,     0.97015,     0.97015,     0.97015,     0.97015,     0.97015,     0.97015,     0.97015,     0.97015,     0.97015,     0.97015,     0.97015,     0.97015,     0.97015,\n",
       "            0.97015,     0.97015,     0.97015,     0.97015,     0.97015,     0.97015,     0.97015,     0.97015,     0.97015,     0.97015,     0.97015,     0.97015,     0.97015,     0.97015,     0.97015,     0.97015,     0.97015,     0.97015,     0.97015,     0.97015,     0.97015,     0.97015,     0.97015,\n",
       "            0.97015,     0.97015,     0.97015,     0.97015,     0.97015,     0.97015,     0.97015,     0.97015,     0.97015,     0.97015,     0.97015,     0.97015,     0.97015,     0.97015,     0.97015,     0.97015,     0.97015,     0.97015,     0.97015,     0.97015,     0.97015,     0.97015,     0.97015,\n",
       "            0.97015,     0.97015,     0.97015,     0.97015,     0.97015,     0.97015,     0.97015,     0.97015,     0.97015,     0.97015,     0.97015,     0.97015,     0.97015,     0.97015,     0.97015,     0.97015,     0.97015,     0.97015,     0.97015,     0.97015,     0.97015,     0.97015,     0.97015,\n",
       "            0.97015,     0.97015,     0.97015,     0.97015,     0.97015,     0.97015,     0.97015,     0.97015,     0.97015,     0.97015,     0.97015,     0.97015,     0.97015,     0.97015,     0.97015,     0.97015,     0.97015,     0.97015,     0.97015,     0.97015,     0.97015,     0.97015,     0.97015,\n",
       "            0.97015,     0.97015,     0.97015,     0.97015,     0.97015,     0.97015,     0.97015,     0.97015,     0.97015,     0.97015,     0.96766,     0.96766,     0.96766,     0.96766,     0.96766,     0.96766,     0.96766,     0.96766,     0.96766,     0.96766,     0.96766,     0.96766,     0.96766,\n",
       "            0.96766,     0.96766,     0.96766,     0.96766,     0.96766,     0.96766,     0.96766,     0.96766,     0.96766,     0.96766,     0.96766,     0.96766,     0.96766,     0.96766,     0.96766,     0.96766,     0.96766,     0.96766,     0.96766,     0.96766,     0.96766,     0.96766,     0.96766,\n",
       "            0.96766,     0.96766,     0.96766,     0.96766,     0.96766,     0.96766,     0.96766,     0.96766,     0.96766,     0.96766,     0.96766,     0.96766,     0.96766,     0.96766,     0.96766,     0.96766,     0.96766,     0.96766,     0.96766,     0.96766,     0.96766,     0.96766,     0.96766,\n",
       "            0.96766,     0.96766,     0.96766,     0.96766,     0.96766,     0.96766,     0.96766,     0.96766,     0.96766,     0.96766,     0.96766,     0.96766,     0.96766,     0.96766,     0.96766,     0.96766,     0.96766,     0.96766,     0.96766,     0.96766,     0.96766,     0.96766,     0.96766,\n",
       "            0.96766,     0.96766,     0.96766,     0.96766,     0.96766,     0.96766,     0.96766,     0.96766,     0.96766,     0.96766,     0.96766,     0.96766,     0.96766,     0.96766,     0.96766,     0.96766,     0.96766,     0.96766,     0.96766,     0.96766,     0.96766,     0.96766,     0.96766,\n",
       "            0.96766,     0.96766,     0.96766,     0.96766,     0.96766,     0.96766,     0.96766,     0.96766,     0.96766,     0.96766,     0.96766,     0.96766,     0.96766,     0.96766,     0.96712,     0.96658,     0.96603,     0.96549,     0.96517,     0.96517,     0.96517,     0.96517,     0.96517,\n",
       "            0.96517,     0.96517,     0.96517,     0.96517,     0.96517,     0.96517,     0.96517,     0.96517,     0.96517,     0.96517,     0.96517,     0.96517,     0.96517,     0.96517,     0.96517,     0.96517,     0.96517,     0.96517,     0.96517,     0.96517,     0.96517,     0.96517,     0.96517,\n",
       "            0.96517,     0.96493,     0.96452,      0.9641,     0.96369,     0.96327,     0.96286,     0.96257,     0.96237,     0.96218,     0.96198,     0.96178,     0.96158,     0.96139,     0.96119,     0.96099,     0.96079,      0.9606,      0.9604,      0.9602,     0.95954,     0.95887,      0.9582,\n",
       "            0.95722,     0.95535,     0.95503,     0.95482,      0.9546,     0.95439,     0.95418,     0.95397,     0.95376,     0.95355,     0.95334,     0.95312,     0.95291,      0.9527,     0.95248,     0.95226,     0.95204,     0.95182,     0.95161,     0.95139,     0.95117,     0.95095,     0.95073,\n",
       "            0.95051,     0.95029,     0.94783,     0.94715,     0.94652,     0.94589,     0.94527,     0.94517,     0.94486,     0.94456,     0.94425,     0.94394,     0.94363,     0.94332,     0.94301,     0.94246,     0.94118,     0.93993,     0.93876,     0.93776,     0.93752,     0.93728,     0.93703,\n",
       "            0.93679,     0.93654,      0.9363,     0.93605,     0.93581,     0.93556,     0.93532,     0.93532,     0.93513,      0.9348,     0.93448,     0.93416,     0.93384,     0.93352,      0.9332,     0.93288,     0.93125,     0.93035,     0.93035,     0.93035,     0.93035,     0.93035,     0.92286,\n",
       "            0.92144,     0.92007,     0.91881,     0.91633,     0.91468,      0.9138,     0.91294,     0.90723,     0.90198,     0.89717,      0.8942,     0.88543,     0.88407,     0.88215,     0.87251,     0.86723,     0.86061,     0.85478,     0.85286,     0.84543,     0.84202,      0.8368,     0.82356,\n",
       "            0.82177,     0.81697,     0.81119,     0.80281,      0.7968,     0.79134,     0.77772,      0.7734,      0.7713,     0.76269,     0.75233,     0.74654,     0.73999,     0.72899,     0.72115,     0.71105,     0.70598,     0.68905,     0.67864,     0.65754,     0.64592,     0.63735,     0.63266,\n",
       "            0.62428,     0.62212,     0.61077,     0.59523,     0.58828,     0.57978,     0.56311,     0.55213,     0.54671,     0.53144,     0.52881,      0.5198,     0.51515,     0.50363,     0.48663,     0.46876,     0.46188,     0.45266,     0.44692,     0.43298,     0.41045,     0.39818,     0.38515,\n",
       "            0.37119,     0.35176,     0.33577,     0.32873,     0.31984,     0.30958,     0.30135,     0.29923,     0.29408,     0.28082,     0.27875,     0.26057,     0.24749,     0.23892,     0.23467,     0.22999,     0.21775,     0.21107,     0.20922,      0.2046,     0.19374,     0.19036,     0.17949,\n",
       "            0.17131,     0.16691,     0.16271,     0.15538,     0.14935,     0.14088,     0.13612,      0.1345,     0.12817,     0.12276,     0.12112,     0.11988,     0.11521,     0.11095,     0.10938,     0.10735,     0.10499,     0.10393,     0.10323,     0.10253,    0.099556,    0.095455,    0.091247,\n",
       "           0.083359,    0.079764,     0.07824,    0.076393,    0.074051,     0.07277,    0.071829,    0.071218,    0.070608,    0.069997,    0.069132,    0.067938,    0.066072,    0.063312,    0.061205,    0.059592,    0.058928,    0.058264,      0.0576,    0.056346,    0.054197,    0.051037,    0.049043,\n",
       "           0.048157,     0.04727,    0.046611,    0.045954,    0.045297,    0.043944,     0.03896,    0.037428,    0.035964,    0.034758,     0.03445,    0.034142,    0.033833,    0.033525,    0.033217,    0.032909,    0.032601,    0.032037,    0.030007,    0.028427,    0.026506,    0.023684,    0.022132,\n",
       "           0.021671,     0.02121,    0.020749,    0.020288,    0.018888,    0.016973,    0.016399,    0.015826,    0.015252,    0.014774,    0.014421,    0.014067,    0.013714,    0.013361,    0.013008,    0.012655,    0.011729,   0.0098723,   0.0075595,   0.0071648,   0.0068539,    0.006543,   0.0062321,\n",
       "          0.0059212,   0.0056103,   0.0052993,   0.0049884,    0.004826,   0.0046701,   0.0045143,   0.0043584,   0.0042026,   0.0040467,   0.0038909,    0.003735,   0.0035792,   0.0034233,   0.0032675,   0.0031116,   0.0029558,      0.0028,   0.0026441,   0.0024883,           0,           0,           0,\n",
       "                  0,           0,           0,           0,           0,           0,           0,           0,           0,           0,           0,           0,           0,           0,           0,           0,           0,           0,           0,           0,           0,           0,           0,\n",
       "                  0,           0,           0,           0,           0,           0,           0,           0,           0,           0,           0,           0,           0,           0,           0,           0,           0,           0,           0,           0,           0,           0,           0,\n",
       "                  0,           0,           0,           0,           0,           0,           0,           0,           0,           0,           0,           0,           0,           0,           0,           0,           0,           0,           0,           0,           0,           0,           0,\n",
       "                  0,           0,           0,           0,           0,           0,           0,           0,           0,           0,           0]]), 'Confidence', 'Recall']]\n",
       "fitness: np.float64(0.6617497011462247)\n",
       "keys: ['metrics/precision(B)', 'metrics/recall(B)', 'metrics/mAP50(B)', 'metrics/mAP50-95(B)']\n",
       "maps: array([    0.62605])\n",
       "names: {0: 'license_plate'}\n",
       "plot: True\n",
       "results_dict: {'metrics/precision(B)': np.float64(0.9744625413435917), 'metrics/recall(B)': np.float64(0.9676616915422885), 'metrics/mAP50(B)': np.float64(0.9830641641375913), 'metrics/mAP50-95(B)': np.float64(0.6260480941471839), 'fitness': np.float64(0.6617497011462247)}\n",
       "save_dir: PosixPath('runs/detect/train')\n",
       "speed: {'preprocess': 0.7966214960271663, 'inference': 26.474536548961293, 'loss': 3.220198990462662e-05, 'postprocess': 0.08877469347668933}\n",
       "task: 'detect'"
      ]
     },
     "execution_count": 1,
     "metadata": {},
     "output_type": "execute_result"
    }
   ],
   "source": [
    "from ultralytics import YOLO\n",
    "\n",
    "# Load YOLOv8 model (Pretrained on COCO)\n",
    "model = YOLO(\"yolov8n.pt\")  \n",
    "\n",
    "# Train on Bengali license plates dataset\n",
    "model.train(data=\"Bengali_License_Plate_Dataset/data.yaml\", epochs=50, imgsz=640)\n"
   ]
  },
  {
   "cell_type": "code",
   "execution_count": null,
   "metadata": {},
   "outputs": [],
   "source": []
  }
 ],
 "metadata": {
  "kernelspec": {
   "display_name": "venv",
   "language": "python",
   "name": "python3"
  },
  "language_info": {
   "codemirror_mode": {
    "name": "ipython",
    "version": 3
   },
   "file_extension": ".py",
   "mimetype": "text/x-python",
   "name": "python",
   "nbconvert_exporter": "python",
   "pygments_lexer": "ipython3",
   "version": "3.12.5"
  }
 },
 "nbformat": 4,
 "nbformat_minor": 2
}

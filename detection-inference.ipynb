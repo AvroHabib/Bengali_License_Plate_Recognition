{
 "cells": [
  {
   "cell_type": "code",
   "execution_count": null,
   "metadata": {},
   "outputs": [],
   "source": [
    "import cv2\n",
    "from ultralytics import YOLO\n",
    "\n",
    "\n",
    "\n",
    "\n"
   ]
  },
  {
   "cell_type": "code",
   "execution_count": null,
   "metadata": {},
   "outputs": [],
   "source": [
    "# Load trained model\n",
    "model = YOLO(\"model-m/weights/best.pt\")"
   ]
  },
  {
   "cell_type": "markdown",
   "metadata": {},
   "source": [
    "Doing inference - It detects and cropped the license plate from the image and saves as extracted_plate.jpg\n"
   ]
  },
  {
   "cell_type": "code",
   "execution_count": null,
   "metadata": {},
   "outputs": [
    {
     "name": "stdout",
     "output_type": "stream",
     "text": [
      "\n",
      "0: 640x480 1 license_plate, 94.2ms\n",
      "Speed: 1.9ms preprocess, 94.2ms inference, 0.3ms postprocess per image at shape (1, 3, 640, 480)\n"
     ]
    }
   ],
   "source": [
    "# Load image\n",
    "image_path = \"sample-images/b2.jpeg\"\n",
    "image = cv2.imread(image_path)\n",
    "\n",
    "# Detect license plate\n",
    "results = model(image)\n",
    "\n",
    "# Extract bounding box\n",
    "for r in results:\n",
    "    boxes = r.boxes.xyxy\n",
    "    \n",
    "    for box in boxes:\n",
    "        x1, y1, x2, y2 = map(int, box)\n",
    "        plate_img = image[y1:y2, x1:x2]\n",
    "        cv2.imshow(\"Detected License Plate\", plate_img)\n",
    "        cv2.imwrite(\"extracted_plate.jpg\", plate_img)\n",
    "\n",
    "cv2.waitKey(0)\n",
    "cv2.destroyAllWindows()"
   ]
  },
  {
   "cell_type": "markdown",
   "metadata": {},
   "source": [
    "Tried EasyOCR for character recognition but gives really poor results."
   ]
  },
  {
   "cell_type": "code",
   "execution_count": 4,
   "metadata": {},
   "outputs": [
    {
     "name": "stderr",
     "output_type": "stream",
     "text": [
      "Neither CUDA nor MPS are available - defaulting to CPU. Note: This module is much faster with a GPU.\n"
     ]
    }
   ],
   "source": [
    "import easyocr\n",
    "\n",
    "# Load EasyOCR for Bengali\n",
    "reader = easyocr.Reader(['bn'])  # 'bn' for Bengali\n",
    "\n",
    "# Read text from extracted plate\n",
    "\n"
   ]
  },
  {
   "cell_type": "code",
   "execution_count": 10,
   "metadata": {},
   "outputs": [
    {
     "name": "stdout",
     "output_type": "stream",
     "text": [
      "Detected Bengali License Plate Text: ['চটট মেট্রো', '১০-৮৬৮৪']\n"
     ]
    }
   ],
   "source": [
    "text_results = reader.readtext(\"extracted_plate.jpg\", detail=0)\n",
    "print(\"Detected Bengali License Plate Text:\", text_results)"
   ]
  }
 ],
 "metadata": {
  "kernelspec": {
   "display_name": "venv",
   "language": "python",
   "name": "python3"
  },
  "language_info": {
   "codemirror_mode": {
    "name": "ipython",
    "version": 3
   },
   "file_extension": ".py",
   "mimetype": "text/x-python",
   "name": "python",
   "nbconvert_exporter": "python",
   "pygments_lexer": "ipython3",
   "version": "3.12.5"
  }
 },
 "nbformat": 4,
 "nbformat_minor": 2
}

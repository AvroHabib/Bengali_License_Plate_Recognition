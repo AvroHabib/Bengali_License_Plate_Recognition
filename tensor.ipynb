{
 "cells": [
  {
   "cell_type": "code",
   "execution_count": 43,
   "metadata": {},
   "outputs": [
    {
     "name": "stdout",
     "output_type": "stream",
     "text": [
      "Initial tensor:\n",
      "tensor([[[0.8251, 0.2141, 0.7927, 0.0435],\n",
      "         [0.9694, 0.4072, 0.9078, 0.3693],\n",
      "         [0.4495, 0.8676, 0.4745, 0.8571]],\n",
      "\n",
      "        [[0.8861, 0.4058, 0.0280, 0.4737],\n",
      "         [0.7369, 0.5742, 0.8619, 0.9545],\n",
      "         [0.4686, 0.0701, 0.5605, 0.1314]]])\n",
      "Selecting elements:\n",
      "tensor([[[0.7927, 0.0435],\n",
      "         [0.9078, 0.3693],\n",
      "         [0.4745, 0.8571]],\n",
      "\n",
      "        [[0.0280, 0.4737],\n",
      "         [0.8619, 0.9545],\n",
      "         [0.5605, 0.1314]]])\n"
     ]
    }
   ],
   "source": [
    "import torch\n",
    "x = torch.rand(2, 3, 4)  # A 3D tensor with shape (2, 3, 4)\n",
    "print(\"Initial tensor:\")\n",
    "print(x)\n",
    "print(\"Selecting elements:\")\n",
    "print(x[..., 2:])  # Selects the 3rd element (index 2) from the last dimension\n"
   ]
  },
  {
   "cell_type": "code",
   "execution_count": 37,
   "metadata": {},
   "outputs": [
    {
     "name": "stdout",
     "output_type": "stream",
     "text": [
      "Initial tensor:\n",
      "tensor([[0.1664, 0.9387, 0.6266, 0.5383],\n",
      "        [0.9255, 0.8432, 0.2640, 0.3603],\n",
      "        [0.0766, 0.1742, 0.0799, 0.2729]])\n",
      "Selecting elements:\n",
      "tensor([0.1664, 0.9255, 0.0766])\n",
      "tensor([0.0766, 0.1742, 0.0799, 0.2729])\n"
     ]
    }
   ],
   "source": [
    "x = torch.rand(3, 4)  \n",
    "print(\"Initial tensor:\")\n",
    "print(x)\n",
    "print(\"Selecting elements:\")\n",
    "print(x[..., 0]) \n",
    "print(x[2, ...]) "
   ]
  },
  {
   "cell_type": "code",
   "execution_count": null,
   "metadata": {},
   "outputs": [
    {
     "name": "stdout",
     "output_type": "stream",
     "text": [
      "Initial tensor:\n",
      "tensor([0.7836, 0.7017, 0.5609, 0.3930])\n",
      "Selecting elements:\n",
      "tensor(0.7836)\n"
     ]
    }
   ],
   "source": [
    "x = torch.rand(4)  \n",
    "print(\"Initial tensor:\")\n",
    "print(x)\n",
    "print(\"Selecting elements:\")\n",
    "print(x[..., 0])  "
   ]
  },
  {
   "cell_type": "code",
   "execution_count": 48,
   "metadata": {},
   "outputs": [
    {
     "name": "stdout",
     "output_type": "stream",
     "text": [
      "tensor([0.0000, 0.1429, 0.2857, 0.4286, 0.5714, 0.7143, 0.8571])\n"
     ]
    }
   ],
   "source": [
    "shifts_x = torch.arange(0, 7, dtype=torch.int32)* 1 / float(7)\n",
    "print(shifts_x)"
   ]
  },
  {
   "cell_type": "code",
   "execution_count": 49,
   "metadata": {},
   "outputs": [
    {
     "name": "stdout",
     "output_type": "stream",
     "text": [
      "tensor([[0.0000, 0.1429, 0.2857, 0.4286, 0.5714, 0.7143, 0.8571],\n",
      "        [0.0000, 0.1429, 0.2857, 0.4286, 0.5714, 0.7143, 0.8571],\n",
      "        [0.0000, 0.1429, 0.2857, 0.4286, 0.5714, 0.7143, 0.8571],\n",
      "        [0.0000, 0.1429, 0.2857, 0.4286, 0.5714, 0.7143, 0.8571],\n",
      "        [0.0000, 0.1429, 0.2857, 0.4286, 0.5714, 0.7143, 0.8571],\n",
      "        [0.0000, 0.1429, 0.2857, 0.4286, 0.5714, 0.7143, 0.8571],\n",
      "        [0.0000, 0.1429, 0.2857, 0.4286, 0.5714, 0.7143, 0.8571]])\n",
      "tensor([[0.0000, 0.0000, 0.0000, 0.0000, 0.0000, 0.0000, 0.0000],\n",
      "        [0.1429, 0.1429, 0.1429, 0.1429, 0.1429, 0.1429, 0.1429],\n",
      "        [0.2857, 0.2857, 0.2857, 0.2857, 0.2857, 0.2857, 0.2857],\n",
      "        [0.4286, 0.4286, 0.4286, 0.4286, 0.4286, 0.4286, 0.4286],\n",
      "        [0.5714, 0.5714, 0.5714, 0.5714, 0.5714, 0.5714, 0.5714],\n",
      "        [0.7143, 0.7143, 0.7143, 0.7143, 0.7143, 0.7143, 0.7143],\n",
      "        [0.8571, 0.8571, 0.8571, 0.8571, 0.8571, 0.8571, 0.8571]])\n"
     ]
    }
   ],
   "source": [
    "shifts_x = torch.arange(0, 7, dtype=torch.int32) * 1 / float(7)\n",
    "shifts_y = torch.arange(0, 7, dtype=torch.int32) * 1 / float(7)\n",
    "shifts_y, shifts_x = torch.meshgrid(shifts_y, shifts_x, indexing=\"ij\")\n",
    "print(shifts_x)\n",
    "print(shifts_y)"
   ]
  }
 ],
 "metadata": {
  "kernelspec": {
   "display_name": "venv",
   "language": "python",
   "name": "python3"
  },
  "language_info": {
   "codemirror_mode": {
    "name": "ipython",
    "version": 3
   },
   "file_extension": ".py",
   "mimetype": "text/x-python",
   "name": "python",
   "nbconvert_exporter": "python",
   "pygments_lexer": "ipython3",
   "version": "3.12.5"
  }
 },
 "nbformat": 4,
 "nbformat_minor": 2
}
